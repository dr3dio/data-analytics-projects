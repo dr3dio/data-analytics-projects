{
 "cells": [
  {
   "cell_type": "code",
   "execution_count": 1,
   "id": "d80237a0-a0e3-4890-b041-1f4fdb3c7f00",
   "metadata": {
    "tags": []
   },
   "outputs": [],
   "source": [
    "import numpy as np\n",
    "import pandas as pd\n",
    "from pandas import Series, DataFrame\n",
    "import seaborn as sns\n",
    "import matplotlib.pyplot as plt\n",
    "%matplotlib inline\n",
    "import pylab\n",
    "from pylab import rcParams\n",
    "import statsmodels.api as sm\n",
    "import statistics\n",
    "from scipy import stats\n",
    "import sklearn\n",
    "from sklearn import preprocessing\n",
    "from sklearn.linear_model import LinearRegression\n",
    "from sklearn.model_selection import train_test_split\n",
    "from sklearn import metrics\n",
    "from sklearn.metrics import classification_report\n",
    "from scipy.stats import chisquare\n",
    "from scipy.stats import chi2_contingency"
   ]
  },
  {
   "cell_type": "code",
   "execution_count": 2,
   "id": "3da907f2-b887-4758-bf28-d5e2f509d84f",
   "metadata": {},
   "outputs": [],
   "source": [
    "df = pd.read_csv(r'C:\\Users\\dre2\\Desktop\\WGU\\D208\\churn_clean.csv')"
   ]
  },
  {
   "cell_type": "code",
   "execution_count": 3,
   "id": "640ade31-893b-4d77-b1ed-02700b4b1226",
   "metadata": {},
   "outputs": [
    {
     "name": "stdout",
     "output_type": "stream",
     "text": [
      "CaseOrder               False\n",
      "Customer_id             False\n",
      "Interaction             False\n",
      "UID                     False\n",
      "Children                False\n",
      "Age                     False\n",
      "Income                  False\n",
      "Gender                  False\n",
      "Churn                   False\n",
      "Outage_sec_perweek      False\n",
      "Yearly_equip_failure    False\n",
      "MonthlyCharge           False\n",
      "Bandwidth_GB_Year       False\n",
      "dtype: bool\n"
     ]
    }
   ],
   "source": [
    "#Drop columns we dont need, look for nulls/replace as needed.\n",
    "df = df.drop(columns=['City', 'State', 'County', 'Zip', 'Lat', 'Lng', \n",
    "                      'Population', 'Area', 'TimeZone', 'Job', 'Email', 'Contacts', 'Techie', 'Contract', 'Port_modem', 'Tablet', \n",
    "                      'InternetService', 'Phone', 'Multiple', 'OnlineSecurity', 'OnlineBackup', 'DeviceProtection', 'TechSupport', 'StreamingTV', 'StreamingMovies', 'PaperlessBilling', \n",
    "                      'Tenure', 'Item1', 'Item2', 'Item3', 'Item4', 'Item5', 'Item6', 'Item7', 'Item8', 'PaymentMethod', 'Marital'])\n",
    "nulls = df.isnull().any()\n",
    "print(nulls)"
   ]
  },
  {
   "cell_type": "code",
   "execution_count": 4,
   "id": "1e27bb8b-9eb2-4a41-b886-1ed06152a55f",
   "metadata": {},
   "outputs": [
    {
     "data": {
      "text/html": [
       "<div>\n",
       "<style scoped>\n",
       "    .dataframe tbody tr th:only-of-type {\n",
       "        vertical-align: middle;\n",
       "    }\n",
       "\n",
       "    .dataframe tbody tr th {\n",
       "        vertical-align: top;\n",
       "    }\n",
       "\n",
       "    .dataframe thead th {\n",
       "        text-align: right;\n",
       "    }\n",
       "</style>\n",
       "<table border=\"1\" class=\"dataframe\">\n",
       "  <thead>\n",
       "    <tr style=\"text-align: right;\">\n",
       "      <th></th>\n",
       "      <th>CaseOrder</th>\n",
       "      <th>Children</th>\n",
       "      <th>Age</th>\n",
       "      <th>Income</th>\n",
       "      <th>Outage_sec_perweek</th>\n",
       "      <th>Yearly_equip_failure</th>\n",
       "      <th>MonthlyCharge</th>\n",
       "      <th>Bandwidth_GB_Year</th>\n",
       "    </tr>\n",
       "  </thead>\n",
       "  <tbody>\n",
       "    <tr>\n",
       "      <th>count</th>\n",
       "      <td>10000.00000</td>\n",
       "      <td>10000.0000</td>\n",
       "      <td>10000.000000</td>\n",
       "      <td>10000.000000</td>\n",
       "      <td>10000.000000</td>\n",
       "      <td>10000.000000</td>\n",
       "      <td>10000.000000</td>\n",
       "      <td>10000.000000</td>\n",
       "    </tr>\n",
       "    <tr>\n",
       "      <th>mean</th>\n",
       "      <td>5000.50000</td>\n",
       "      <td>2.0877</td>\n",
       "      <td>53.078400</td>\n",
       "      <td>39806.926771</td>\n",
       "      <td>10.001848</td>\n",
       "      <td>0.398000</td>\n",
       "      <td>172.624816</td>\n",
       "      <td>3392.341550</td>\n",
       "    </tr>\n",
       "    <tr>\n",
       "      <th>std</th>\n",
       "      <td>2886.89568</td>\n",
       "      <td>2.1472</td>\n",
       "      <td>20.698882</td>\n",
       "      <td>28199.916702</td>\n",
       "      <td>2.976019</td>\n",
       "      <td>0.635953</td>\n",
       "      <td>42.943094</td>\n",
       "      <td>2185.294852</td>\n",
       "    </tr>\n",
       "    <tr>\n",
       "      <th>min</th>\n",
       "      <td>1.00000</td>\n",
       "      <td>0.0000</td>\n",
       "      <td>18.000000</td>\n",
       "      <td>348.670000</td>\n",
       "      <td>0.099747</td>\n",
       "      <td>0.000000</td>\n",
       "      <td>79.978860</td>\n",
       "      <td>155.506715</td>\n",
       "    </tr>\n",
       "    <tr>\n",
       "      <th>25%</th>\n",
       "      <td>2500.75000</td>\n",
       "      <td>0.0000</td>\n",
       "      <td>35.000000</td>\n",
       "      <td>19224.717500</td>\n",
       "      <td>8.018214</td>\n",
       "      <td>0.000000</td>\n",
       "      <td>139.979239</td>\n",
       "      <td>1236.470827</td>\n",
       "    </tr>\n",
       "    <tr>\n",
       "      <th>50%</th>\n",
       "      <td>5000.50000</td>\n",
       "      <td>1.0000</td>\n",
       "      <td>53.000000</td>\n",
       "      <td>33170.605000</td>\n",
       "      <td>10.018560</td>\n",
       "      <td>0.000000</td>\n",
       "      <td>167.484700</td>\n",
       "      <td>3279.536903</td>\n",
       "    </tr>\n",
       "    <tr>\n",
       "      <th>75%</th>\n",
       "      <td>7500.25000</td>\n",
       "      <td>3.0000</td>\n",
       "      <td>71.000000</td>\n",
       "      <td>53246.170000</td>\n",
       "      <td>11.969485</td>\n",
       "      <td>1.000000</td>\n",
       "      <td>200.734725</td>\n",
       "      <td>5586.141370</td>\n",
       "    </tr>\n",
       "    <tr>\n",
       "      <th>max</th>\n",
       "      <td>10000.00000</td>\n",
       "      <td>10.0000</td>\n",
       "      <td>89.000000</td>\n",
       "      <td>258900.700000</td>\n",
       "      <td>21.207230</td>\n",
       "      <td>6.000000</td>\n",
       "      <td>290.160419</td>\n",
       "      <td>7158.981530</td>\n",
       "    </tr>\n",
       "  </tbody>\n",
       "</table>\n",
       "</div>"
      ],
      "text/plain": [
       "         CaseOrder    Children           Age         Income  \\\n",
       "count  10000.00000  10000.0000  10000.000000   10000.000000   \n",
       "mean    5000.50000      2.0877     53.078400   39806.926771   \n",
       "std     2886.89568      2.1472     20.698882   28199.916702   \n",
       "min        1.00000      0.0000     18.000000     348.670000   \n",
       "25%     2500.75000      0.0000     35.000000   19224.717500   \n",
       "50%     5000.50000      1.0000     53.000000   33170.605000   \n",
       "75%     7500.25000      3.0000     71.000000   53246.170000   \n",
       "max    10000.00000     10.0000     89.000000  258900.700000   \n",
       "\n",
       "       Outage_sec_perweek  Yearly_equip_failure  MonthlyCharge  \\\n",
       "count        10000.000000          10000.000000   10000.000000   \n",
       "mean            10.001848              0.398000     172.624816   \n",
       "std              2.976019              0.635953      42.943094   \n",
       "min              0.099747              0.000000      79.978860   \n",
       "25%              8.018214              0.000000     139.979239   \n",
       "50%             10.018560              0.000000     167.484700   \n",
       "75%             11.969485              1.000000     200.734725   \n",
       "max             21.207230              6.000000     290.160419   \n",
       "\n",
       "       Bandwidth_GB_Year  \n",
       "count       10000.000000  \n",
       "mean         3392.341550  \n",
       "std          2185.294852  \n",
       "min           155.506715  \n",
       "25%          1236.470827  \n",
       "50%          3279.536903  \n",
       "75%          5586.141370  \n",
       "max          7158.981530  "
      ]
     },
     "execution_count": 4,
     "metadata": {},
     "output_type": "execute_result"
    }
   ],
   "source": [
    "df.describe()"
   ]
  },
  {
   "cell_type": "code",
   "execution_count": 5,
   "id": "67e1565e-45c9-4a43-9b26-885928ffb60d",
   "metadata": {},
   "outputs": [],
   "source": [
    "df['gender_dummy'] = [1 if v == 'Female' else 0 for v in df['Gender']]\n",
    "df['churn_dummy'] = [1 if v == 'Yes' else 0 for v in df['Churn']]"
   ]
  },
  {
   "cell_type": "code",
   "execution_count": 6,
   "id": "697b5687-7b76-4ee8-8ff9-93a43d334d22",
   "metadata": {},
   "outputs": [
    {
     "name": "stdout",
     "output_type": "stream",
     "text": [
      "      CaseOrder Customer_id                           Interaction  \\\n",
      "0             1     K409198  aa90260b-4141-4a24-8e36-b04ce1f4f77b   \n",
      "1             2     S120509  fb76459f-c047-4a9d-8af9-e0f7d4ac2524   \n",
      "2             3     K191035  344d114c-3736-4be5-98f7-c72c281e2d35   \n",
      "3             4      D90850  abfa2b40-2d43-4994-b15a-989b8c79e311   \n",
      "4             5     K662701  68a861fd-0d20-4e51-a587-8a90407ee574   \n",
      "...         ...         ...                                   ...   \n",
      "9995       9996     M324793  45deb5a2-ae04-4518-bf0b-c82db8dbe4a4   \n",
      "9996       9997     D861732  6e96b921-0c09-4993-bbda-a1ac6411061a   \n",
      "9997       9998     I243405  e8307ddf-9a01-4fff-bc59-4742e03fd24f   \n",
      "9998       9999     I641617  3775ccfc-0052-4107-81ae-9657f81ecdf3   \n",
      "9999      10000      T38070  9de5fb6e-bd33-4995-aec8-f01d0172a499   \n",
      "\n",
      "                                   UID  Children  Age    Income  Gender Churn  \\\n",
      "0     e885b299883d4f9fb18e39c75155d990         0   68  28561.99    Male    No   \n",
      "1     f2de8bef964785f41a2959829830fb8a         1   27  21704.77  Female   Yes   \n",
      "2     f1784cfa9f6d92ae816197eb175d3c71         4   50   9609.57  Female    No   \n",
      "3     dc8a365077241bb5cd5ccd305136b05e         1   48  18925.23    Male    No   \n",
      "4     aabb64a116e83fdc4befc1fbab1663f9         0   83  40074.19    Male   Yes   \n",
      "...                                ...       ...  ...       ...     ...   ...   \n",
      "9995  9499fb4de537af195d16d046b79fd20a         3   23  55723.74    Male    No   \n",
      "9996  c09a841117fa81b5c8e19afec2760104         4   48  34129.34    Male    No   \n",
      "9997  9c41f212d1e04dca84445019bbc9b41c         1   48  45983.43  Female    No   \n",
      "9998  3e1f269b40c235a1038863ecf6b7a0df         1   39  16667.58    Male    No   \n",
      "9999  0ea683a03a3cd544aefe8388aab16176         1   28   9020.92    Male    No   \n",
      "\n",
      "      Outage_sec_perweek  Yearly_equip_failure  MonthlyCharge  \\\n",
      "0               7.978323                     1     172.455519   \n",
      "1              11.699080                     1     242.632554   \n",
      "2              10.752800                     1     159.947583   \n",
      "3              14.913540                     0     119.956840   \n",
      "4               8.147417                     1     149.948316   \n",
      "...                  ...                   ...            ...   \n",
      "9995            9.415935                     0     159.979400   \n",
      "9996            6.740547                     0     207.481100   \n",
      "9997            6.590911                     0     169.974100   \n",
      "9998           12.071910                     0     252.624000   \n",
      "9999           11.754720                     0     217.484000   \n",
      "\n",
      "      Bandwidth_GB_Year  gender_dummy  churn_dummy  \n",
      "0            904.536110             0            0  \n",
      "1            800.982766             1            1  \n",
      "2           2054.706961             1            0  \n",
      "3           2164.579412             0            0  \n",
      "4            271.493436             0            1  \n",
      "...                 ...           ...          ...  \n",
      "9995        6511.252601             0            0  \n",
      "9996        5695.951810             0            0  \n",
      "9997        4159.305799             1            0  \n",
      "9998        6468.456752             0            0  \n",
      "9999        5857.586167             0            0  \n",
      "\n",
      "[10000 rows x 15 columns]\n"
     ]
    }
   ],
   "source": [
    "print(df)\n"
   ]
  },
  {
   "cell_type": "code",
   "execution_count": 7,
   "id": "6ab413eb-719d-4fe9-b753-8d509d339247",
   "metadata": {},
   "outputs": [
    {
     "data": {
      "image/png": "[encoded data removed]",
      "text/plain": [
       "<Figure size 432x288 with 9 Axes>"
      ]
     },
     "metadata": {
      "needs_background": "light"
     },
     "output_type": "display_data"
    }
   ],
   "source": [
    "df[['Children', 'Age', 'Income', 'Outage_sec_perweek', 'Yearly_equip_failure', 'MonthlyCharge',\n",
    "'Bandwidth_GB_Year']].hist()\n",
    "plt.tight_layout()"
   ]
  },
  {
   "cell_type": "code",
   "execution_count": 8,
   "id": "7022f35c-26a6-4777-8a07-9220a508214e",
   "metadata": {},
   "outputs": [
    {
     "data": {
      "image/png": "[encoded data removed]",
      "text/plain": [
       "<Figure size 432x288 with 1 Axes>"
      ]
     },
     "metadata": {
      "needs_background": "light"
     },
     "output_type": "display_data"
    }
   ],
   "source": [
    "sns.scatterplot(x=df['Children'], y=df['churn_dummy'], color='blue')\n",
    "plt.show();\n"
   ]
  },
  {
   "cell_type": "code",
   "execution_count": 9,
   "id": "2126e311-a8e4-4ab8-8886-d4743a46792e",
   "metadata": {},
   "outputs": [
    {
     "data": {
      "image/png": "[encoded data removed]",
      "text/plain": [
       "<Figure size 432x288 with 1 Axes>"
      ]
     },
     "metadata": {
      "needs_background": "light"
     },
     "output_type": "display_data"
    }
   ],
   "source": [
    "sns.scatterplot(x=df['Age'], y=df['churn_dummy'], color='blue')\n",
    "plt.show();"
   ]
  },
  {
   "cell_type": "code",
   "execution_count": 10,
   "id": "c6215ac4-a215-4385-97a5-8de0f15ce2ac",
   "metadata": {},
   "outputs": [
    {
     "data": {
      "image/png": "[encoded data removed]",
      "text/plain": [
       "<Figure size 432x288 with 1 Axes>"
      ]
     },
     "metadata": {
      "needs_background": "light"
     },
     "output_type": "display_data"
    }
   ],
   "source": [
    "sns.scatterplot(x=df['Outage_sec_perweek'], y=df['churn_dummy'], color='blue')\n",
    "plt.show();"
   ]
  },
  {
   "cell_type": "code",
   "execution_count": 11,
   "id": "b10c6656-059a-4984-9223-1a668166d22a",
   "metadata": {},
   "outputs": [
    {
     "data": {
      "image/png": "[encoded data removed]",
      "text/plain": [
       "<Figure size 432x288 with 1 Axes>"
      ]
     },
     "metadata": {
      "needs_background": "light"
     },
     "output_type": "display_data"
    }
   ],
   "source": [
    "sns.scatterplot(x=df['Yearly_equip_failure'], y=df['churn_dummy'], color='blue')\n",
    "plt.show();"
   ]
  },
  {
   "cell_type": "code",
   "execution_count": 12,
   "id": "40bf31f8-d7c2-4696-90f6-10ced2e39282",
   "metadata": {},
   "outputs": [
    {
     "data": {
      "image/png": "[encoded data removed]",
      "text/plain": [
       "<Figure size 432x288 with 1 Axes>"
      ]
     },
     "metadata": {
      "needs_background": "light"
     },
     "output_type": "display_data"
    }
   ],
   "source": [
    "sns.scatterplot(x=df['MonthlyCharge'], y=df['churn_dummy'], color='blue')\n",
    "plt.show();"
   ]
  },
  {
   "cell_type": "code",
   "execution_count": 13,
   "id": "b766fb8c-aaa5-44a7-bb8f-eaade28cf1f4",
   "metadata": {},
   "outputs": [
    {
     "data": {
      "image/png": "[encoded data removed]",
      "text/plain": [
       "<Figure size 432x288 with 1 Axes>"
      ]
     },
     "metadata": {
      "needs_background": "light"
     },
     "output_type": "display_data"
    }
   ],
   "source": [
    "sns.scatterplot(x=df['Bandwidth_GB_Year'], y=df['churn_dummy'], color='blue')\n",
    "plt.show();"
   ]
  },
  {
   "cell_type": "code",
   "execution_count": 14,
   "id": "5ccde4d9-fba8-4d45-a3ab-969e1673059c",
   "metadata": {},
   "outputs": [
    {
     "name": "stdout",
     "output_type": "stream",
     "text": [
      "Optimization terminated successfully.\n",
      "         Current function value: 0.357089\n",
      "         Iterations 7\n",
      "                           Logit Regression Results                           \n",
      "==============================================================================\n",
      "Dep. Variable:            churn_dummy   No. Observations:                10000\n",
      "Model:                          Logit   Df Residuals:                     9991\n",
      "Method:                           MLE   Df Model:                            8\n",
      "Date:                Sat, 18 Sep 2021   Pseudo R-squ.:                  0.3824\n",
      "Time:                        12:18:04   Log-Likelihood:                -3570.9\n",
      "converged:                       True   LL-Null:                       -5782.2\n",
      "Covariance Type:            nonrobust   LLR p-value:                     0.000\n",
      "========================================================================================\n",
      "                           coef    std err          z      P>|z|      [0.025      0.975]\n",
      "----------------------------------------------------------------------------------------\n",
      "Children                 0.0170      0.014      1.211      0.226      -0.010       0.044\n",
      "Age                     -0.0012      0.001     -0.847      0.397      -0.004       0.002\n",
      "Income                9.045e-07   1.05e-06      0.858      0.391   -1.16e-06    2.97e-06\n",
      "Outage_sec_perweek      -0.0025      0.010     -0.250      0.803      -0.022       0.017\n",
      "Yearly_equip_failure    -0.0418      0.047     -0.887      0.375      -0.134       0.051\n",
      "MonthlyCharge            0.0342      0.001     38.700      0.000       0.032       0.036\n",
      "Bandwidth_GB_Year       -0.0008   1.97e-05    -41.498      0.000      -0.001      -0.001\n",
      "gender_dummy            -0.1938      0.059     -3.266      0.001      -0.310      -0.077\n",
      "Intercept               -4.8619      0.201    -24.229      0.000      -5.255      -4.469\n",
      "========================================================================================\n"
     ]
    }
   ],
   "source": [
    "df['Intercept'] = 1\n",
    "log_reg_results = sm.Logit(df['churn_dummy'], df[['Children', 'Age', 'Income', 'Outage_sec_perweek', 'Yearly_equip_failure', 'MonthlyCharge', 'Bandwidth_GB_Year', 'gender_dummy', 'Intercept']]).fit()\n",
    "print(log_reg_results.summary())"
   ]
  },
  {
   "cell_type": "code",
   "execution_count": 15,
   "id": "1560adc3-b9fd-4de8-962c-5f2d240d43e7",
   "metadata": {},
   "outputs": [
    {
     "name": "stdout",
     "output_type": "stream",
     "text": [
      "Optimization terminated successfully.\n",
      "         Current function value: 0.357282\n",
      "         Iterations 7\n",
      "                           Logit Regression Results                           \n",
      "==============================================================================\n",
      "Dep. Variable:            churn_dummy   No. Observations:                10000\n",
      "Model:                          Logit   Df Residuals:                     9996\n",
      "Method:                           MLE   Df Model:                            3\n",
      "Date:                Sat, 18 Sep 2021   Pseudo R-squ.:                  0.3821\n",
      "Time:                        12:18:04   Log-Likelihood:                -3572.8\n",
      "converged:                       True   LL-Null:                       -5782.2\n",
      "Covariance Type:            nonrobust   LLR p-value:                     0.000\n",
      "=====================================================================================\n",
      "                        coef    std err          z      P>|z|      [0.025      0.975]\n",
      "-------------------------------------------------------------------------------------\n",
      "MonthlyCharge         0.0342      0.001     38.701      0.000       0.032       0.036\n",
      "Bandwidth_GB_Year    -0.0008   1.97e-05    -41.529      0.000      -0.001      -0.001\n",
      "gender_dummy         -0.1918      0.059     -3.236      0.001      -0.308      -0.076\n",
      "Intercept            -4.8958      0.147    -33.228      0.000      -5.185      -4.607\n",
      "=====================================================================================\n"
     ]
    }
   ],
   "source": [
    "df['Intercept'] = 1\n",
    "log_reg_results2 = sm.Logit(df['churn_dummy'], df[['MonthlyCharge', 'Bandwidth_GB_Year', 'gender_dummy', 'Intercept']]).fit()\n",
    "print(log_reg_results2.summary())"
   ]
  },
  {
   "cell_type": "code",
   "execution_count": 16,
   "id": "a3882487-535b-4c19-bf4e-2667541355fd",
   "metadata": {},
   "outputs": [],
   "source": [
    "df.to_csv(r'C:\\Users\\dre2\\Desktop\\WGU\\D208\\D208 Task2\\d208_task2_data.csv')"
   ]
  },
  {
   "cell_type": "code",
   "execution_count": 17,
   "id": "7d495f60-48cc-4365-bbe7-800680c74bf9",
   "metadata": {},
   "outputs": [
    {
     "name": "stdout",
     "output_type": "stream",
     "text": [
      "      Unnamed: 0  CaseOrder Customer_id                           Interaction  \\\n",
      "0              0          1     K409198  aa90260b-4141-4a24-8e36-b04ce1f4f77b   \n",
      "1              1          2     S120509  fb76459f-c047-4a9d-8af9-e0f7d4ac2524   \n",
      "2              2          3     K191035  344d114c-3736-4be5-98f7-c72c281e2d35   \n",
      "3              3          4      D90850  abfa2b40-2d43-4994-b15a-989b8c79e311   \n",
      "4              4          5     K662701  68a861fd-0d20-4e51-a587-8a90407ee574   \n",
      "...          ...        ...         ...                                   ...   \n",
      "9995        9995       9996     M324793  45deb5a2-ae04-4518-bf0b-c82db8dbe4a4   \n",
      "9996        9996       9997     D861732  6e96b921-0c09-4993-bbda-a1ac6411061a   \n",
      "9997        9997       9998     I243405  e8307ddf-9a01-4fff-bc59-4742e03fd24f   \n",
      "9998        9998       9999     I641617  3775ccfc-0052-4107-81ae-9657f81ecdf3   \n",
      "9999        9999      10000      T38070  9de5fb6e-bd33-4995-aec8-f01d0172a499   \n",
      "\n",
      "                                   UID  Children  Age    Income  Gender Churn  \\\n",
      "0     e885b299883d4f9fb18e39c75155d990         0   68  28561.99    Male    No   \n",
      "1     f2de8bef964785f41a2959829830fb8a         1   27  21704.77  Female   Yes   \n",
      "2     f1784cfa9f6d92ae816197eb175d3c71         4   50   9609.57  Female    No   \n",
      "3     dc8a365077241bb5cd5ccd305136b05e         1   48  18925.23    Male    No   \n",
      "4     aabb64a116e83fdc4befc1fbab1663f9         0   83  40074.19    Male   Yes   \n",
      "...                                ...       ...  ...       ...     ...   ...   \n",
      "9995  9499fb4de537af195d16d046b79fd20a         3   23  55723.74    Male    No   \n",
      "9996  c09a841117fa81b5c8e19afec2760104         4   48  34129.34    Male    No   \n",
      "9997  9c41f212d1e04dca84445019bbc9b41c         1   48  45983.43  Female    No   \n",
      "9998  3e1f269b40c235a1038863ecf6b7a0df         1   39  16667.58    Male    No   \n",
      "9999  0ea683a03a3cd544aefe8388aab16176         1   28   9020.92    Male    No   \n",
      "\n",
      "      Outage_sec_perweek  Yearly_equip_failure  MonthlyCharge  \\\n",
      "0               7.978323                     1     172.455519   \n",
      "1              11.699080                     1     242.632554   \n",
      "2              10.752800                     1     159.947583   \n",
      "3              14.913540                     0     119.956840   \n",
      "4               8.147417                     1     149.948316   \n",
      "...                  ...                   ...            ...   \n",
      "9995            9.415935                     0     159.979400   \n",
      "9996            6.740547                     0     207.481100   \n",
      "9997            6.590911                     0     169.974100   \n",
      "9998           12.071910                     0     252.624000   \n",
      "9999           11.754720                     0     217.484000   \n",
      "\n",
      "      Bandwidth_GB_Year  gender_dummy  churn_dummy  Intercept  \n",
      "0            904.536110             0            0          1  \n",
      "1            800.982766             1            1          1  \n",
      "2           2054.706961             1            0          1  \n",
      "3           2164.579412             0            0          1  \n",
      "4            271.493436             0            1          1  \n",
      "...                 ...           ...          ...        ...  \n",
      "9995        6511.252601             0            0          1  \n",
      "9996        5695.951810             0            0          1  \n",
      "9997        4159.305799             1            0          1  \n",
      "9998        6468.456752             0            0          1  \n",
      "9999        5857.586167             0            0          1  \n",
      "\n",
      "[10000 rows x 17 columns]\n"
     ]
    }
   ],
   "source": [
    "newdf = pd.read_csv(r'C:\\Users\\dre2\\Desktop\\WGU\\D208\\D208 Task2\\d208_task2_data.csv')\n",
    "print(newdf)"
   ]
  },
  {
   "cell_type": "code",
   "execution_count": 18,
   "id": "7fbfef79-676f-48b9-b4aa-218f07a0229f",
   "metadata": {},
   "outputs": [],
   "source": [
    "matrix_df = pd.read_csv(r'C:\\Users\\dre2\\Desktop\\WGU\\D208\\D208 Task2\\d208_task2_data.csv')\n",
    "\n",
    "matrix_df = matrix_df[['Children', 'Intercept', 'Age', 'Income', 'Outage_sec_perweek', 'Yearly_equip_failure', 'MonthlyCharge', 'Bandwidth_GB_Year', 'gender_dummy', 'churn_dummy']]\n",
    "\n",
    "X = matrix_df.iloc[:, 1:-1].values\n",
    "y = matrix_df.iloc[:, -1].values"
   ]
  },
  {
   "cell_type": "code",
   "execution_count": 19,
   "id": "595dc17f-df17-40a7-a126-dd5a068db54f",
   "metadata": {},
   "outputs": [],
   "source": [
    "from sklearn.model_selection import train_test_split\n",
    "X_train, X_test, y_train, y_test = train_test_split(X, y, test_size = 0.2, random_state = 0)"
   ]
  },
  {
   "cell_type": "code",
   "execution_count": 20,
   "id": "e3110f61-0b7f-4d66-93ef-7b7d265b4a4d",
   "metadata": {},
   "outputs": [
    {
     "data": {
      "text/plain": [
       "LogisticRegression(random_state=0)"
      ]
     },
     "execution_count": 20,
     "metadata": {},
     "output_type": "execute_result"
    }
   ],
   "source": [
    "from sklearn.linear_model import LogisticRegression\n",
    "classifier = LogisticRegression(random_state = 0)\n",
    "classifier.fit(X_train, y_train)"
   ]
  },
  {
   "cell_type": "code",
   "execution_count": 21,
   "id": "a7a8f058-070a-4cd7-bd6b-21261dcd7ee2",
   "metadata": {},
   "outputs": [],
   "source": [
    "y_pred = classifier.predict(X_test)"
   ]
  },
  {
   "cell_type": "code",
   "execution_count": 22,
   "id": "213645f2-7767-42bd-8635-e8912c62e4eb",
   "metadata": {},
   "outputs": [
    {
     "name": "stdout",
     "output_type": "stream",
     "text": [
      "[[1289  197]\n",
      " [ 210  304]]\n"
     ]
    }
   ],
   "source": [
    "from sklearn.metrics import confusion_matrix\n",
    "matrix = confusion_matrix(y_test, y_pred)\n",
    "print(matrix)\n"
   ]
  },
  {
   "cell_type": "code",
   "execution_count": 23,
   "id": "018918e4-9485-4e12-a934-892a86564665",
   "metadata": {},
   "outputs": [
    {
     "data": {
      "text/plain": [
       "<AxesSubplot:>"
      ]
     },
     "execution_count": 23,
     "metadata": {},
     "output_type": "execute_result"
    },
    {
     "data": {
      "image/png": "[encoded data removed]",
      "text/plain": [
       "<Figure size 432x288 with 2 Axes>"
      ]
     },
     "metadata": {
      "needs_background": "light"
     },
     "output_type": "display_data"
    }
   ],
   "source": [
    " y_predict_test = classifier.predict(X_test)\n",
    "new_matrix = confusion_matrix(y_test, y_predict_test)\n",
    "sns.heatmap(new_matrix, annot=True)\n"
   ]
  },
  {
   "cell_type": "code",
   "execution_count": 24,
   "id": "213a4c14-aff9-4cec-8d89-4bbba4cffb05",
   "metadata": {},
   "outputs": [
    {
     "name": "stdout",
     "output_type": "stream",
     "text": [
      "              precision    recall  f1-score   support\n",
      "\n",
      "           0       0.86      0.87      0.86      1486\n",
      "           1       0.61      0.59      0.60       514\n",
      "\n",
      "    accuracy                           0.80      2000\n",
      "   macro avg       0.73      0.73      0.73      2000\n",
      "weighted avg       0.79      0.80      0.80      2000\n",
      "\n"
     ]
    }
   ],
   "source": [
    "from sklearn.metrics import classification_report\n",
    "print(classification_report(y_test, y_predict_test))\n"
   ]
  }
 ],
 "metadata": {
  "kernelspec": {
   "display_name": "Python 3",
   "language": "python",
   "name": "python3"
  },
  "language_info": {
   "codemirror_mode": {
    "name": "ipython",
    "version": 3
   },
   "file_extension": ".py",
   "mimetype": "text/x-python",
   "name": "python",
   "nbconvert_exporter": "python",
   "pygments_lexer": "ipython3",
   "version": "3.8.8"
  }
 },
 "nbformat": 4,
 "nbformat_minor": 5
}
