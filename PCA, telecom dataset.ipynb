{
 "cells": [
  {
   "cell_type": "code",
   "execution_count": 1,
   "id": "1b60eb9b-2195-4c3b-8fd7-365e783963a4",
   "metadata": {},
   "outputs": [],
   "source": [
    "import numpy as np\n",
    "import pandas as pd\n",
    "import sklearn\n",
    "from sklearn.preprocessing import StandardScaler\n",
    "from sklearn.decomposition import PCA\n",
    "import scipy\n",
    "from pandas import Series, DataFrame\n",
    "import seaborn as sns\n",
    "import matplotlib.pyplot as plt\n",
    "%matplotlib inline\n",
    "\n",
    "sns.set(rc = {'figure.figsize':(15,8)})"
   ]
  },
  {
   "cell_type": "code",
   "execution_count": 2,
   "id": "80b7320c-e025-4a7c-be77-545517185734",
   "metadata": {},
   "outputs": [
    {
     "data": {
      "text/html": [
       "<div>\n",
       "<style scoped>\n",
       "    .dataframe tbody tr th:only-of-type {\n",
       "        vertical-align: middle;\n",
       "    }\n",
       "\n",
       "    .dataframe tbody tr th {\n",
       "        vertical-align: top;\n",
       "    }\n",
       "\n",
       "    .dataframe thead th {\n",
       "        text-align: right;\n",
       "    }\n",
       "</style>\n",
       "<table border=\"1\" class=\"dataframe\">\n",
       "  <thead>\n",
       "    <tr style=\"text-align: right;\">\n",
       "      <th></th>\n",
       "      <th>CaseOrder</th>\n",
       "      <th>Customer_id</th>\n",
       "      <th>Interaction</th>\n",
       "      <th>UID</th>\n",
       "      <th>City</th>\n",
       "      <th>State</th>\n",
       "      <th>County</th>\n",
       "      <th>Zip</th>\n",
       "      <th>Lat</th>\n",
       "      <th>Lng</th>\n",
       "      <th>...</th>\n",
       "      <th>MonthlyCharge</th>\n",
       "      <th>Bandwidth_GB_Year</th>\n",
       "      <th>Item1</th>\n",
       "      <th>Item2</th>\n",
       "      <th>Item3</th>\n",
       "      <th>Item4</th>\n",
       "      <th>Item5</th>\n",
       "      <th>Item6</th>\n",
       "      <th>Item7</th>\n",
       "      <th>Item8</th>\n",
       "    </tr>\n",
       "  </thead>\n",
       "  <tbody>\n",
       "    <tr>\n",
       "      <th>0</th>\n",
       "      <td>1</td>\n",
       "      <td>K409198</td>\n",
       "      <td>aa90260b-4141-4a24-8e36-b04ce1f4f77b</td>\n",
       "      <td>e885b299883d4f9fb18e39c75155d990</td>\n",
       "      <td>Point Baker</td>\n",
       "      <td>AK</td>\n",
       "      <td>Prince of Wales-Hyder</td>\n",
       "      <td>99927</td>\n",
       "      <td>56.25100</td>\n",
       "      <td>-133.37571</td>\n",
       "      <td>...</td>\n",
       "      <td>172.455519</td>\n",
       "      <td>904.536110</td>\n",
       "      <td>5</td>\n",
       "      <td>5</td>\n",
       "      <td>5</td>\n",
       "      <td>3</td>\n",
       "      <td>4</td>\n",
       "      <td>4</td>\n",
       "      <td>3</td>\n",
       "      <td>4</td>\n",
       "    </tr>\n",
       "    <tr>\n",
       "      <th>1</th>\n",
       "      <td>2</td>\n",
       "      <td>S120509</td>\n",
       "      <td>fb76459f-c047-4a9d-8af9-e0f7d4ac2524</td>\n",
       "      <td>f2de8bef964785f41a2959829830fb8a</td>\n",
       "      <td>West Branch</td>\n",
       "      <td>MI</td>\n",
       "      <td>Ogemaw</td>\n",
       "      <td>48661</td>\n",
       "      <td>44.32893</td>\n",
       "      <td>-84.24080</td>\n",
       "      <td>...</td>\n",
       "      <td>242.632554</td>\n",
       "      <td>800.982766</td>\n",
       "      <td>3</td>\n",
       "      <td>4</td>\n",
       "      <td>3</td>\n",
       "      <td>3</td>\n",
       "      <td>4</td>\n",
       "      <td>3</td>\n",
       "      <td>4</td>\n",
       "      <td>4</td>\n",
       "    </tr>\n",
       "    <tr>\n",
       "      <th>2</th>\n",
       "      <td>3</td>\n",
       "      <td>K191035</td>\n",
       "      <td>344d114c-3736-4be5-98f7-c72c281e2d35</td>\n",
       "      <td>f1784cfa9f6d92ae816197eb175d3c71</td>\n",
       "      <td>Yamhill</td>\n",
       "      <td>OR</td>\n",
       "      <td>Yamhill</td>\n",
       "      <td>97148</td>\n",
       "      <td>45.35589</td>\n",
       "      <td>-123.24657</td>\n",
       "      <td>...</td>\n",
       "      <td>159.947583</td>\n",
       "      <td>2054.706961</td>\n",
       "      <td>4</td>\n",
       "      <td>4</td>\n",
       "      <td>2</td>\n",
       "      <td>4</td>\n",
       "      <td>4</td>\n",
       "      <td>3</td>\n",
       "      <td>3</td>\n",
       "      <td>3</td>\n",
       "    </tr>\n",
       "    <tr>\n",
       "      <th>3</th>\n",
       "      <td>4</td>\n",
       "      <td>D90850</td>\n",
       "      <td>abfa2b40-2d43-4994-b15a-989b8c79e311</td>\n",
       "      <td>dc8a365077241bb5cd5ccd305136b05e</td>\n",
       "      <td>Del Mar</td>\n",
       "      <td>CA</td>\n",
       "      <td>San Diego</td>\n",
       "      <td>92014</td>\n",
       "      <td>32.96687</td>\n",
       "      <td>-117.24798</td>\n",
       "      <td>...</td>\n",
       "      <td>119.956840</td>\n",
       "      <td>2164.579412</td>\n",
       "      <td>4</td>\n",
       "      <td>4</td>\n",
       "      <td>4</td>\n",
       "      <td>2</td>\n",
       "      <td>5</td>\n",
       "      <td>4</td>\n",
       "      <td>3</td>\n",
       "      <td>3</td>\n",
       "    </tr>\n",
       "    <tr>\n",
       "      <th>4</th>\n",
       "      <td>5</td>\n",
       "      <td>K662701</td>\n",
       "      <td>68a861fd-0d20-4e51-a587-8a90407ee574</td>\n",
       "      <td>aabb64a116e83fdc4befc1fbab1663f9</td>\n",
       "      <td>Needville</td>\n",
       "      <td>TX</td>\n",
       "      <td>Fort Bend</td>\n",
       "      <td>77461</td>\n",
       "      <td>29.38012</td>\n",
       "      <td>-95.80673</td>\n",
       "      <td>...</td>\n",
       "      <td>149.948316</td>\n",
       "      <td>271.493436</td>\n",
       "      <td>4</td>\n",
       "      <td>4</td>\n",
       "      <td>4</td>\n",
       "      <td>3</td>\n",
       "      <td>4</td>\n",
       "      <td>4</td>\n",
       "      <td>4</td>\n",
       "      <td>5</td>\n",
       "    </tr>\n",
       "  </tbody>\n",
       "</table>\n",
       "<p>5 rows × 50 columns</p>\n",
       "</div>"
      ],
      "text/plain": [
       "   CaseOrder Customer_id                           Interaction  \\\n",
       "0          1     K409198  aa90260b-4141-4a24-8e36-b04ce1f4f77b   \n",
       "1          2     S120509  fb76459f-c047-4a9d-8af9-e0f7d4ac2524   \n",
       "2          3     K191035  344d114c-3736-4be5-98f7-c72c281e2d35   \n",
       "3          4      D90850  abfa2b40-2d43-4994-b15a-989b8c79e311   \n",
       "4          5     K662701  68a861fd-0d20-4e51-a587-8a90407ee574   \n",
       "\n",
       "                                UID         City State                 County  \\\n",
       "0  e885b299883d4f9fb18e39c75155d990  Point Baker    AK  Prince of Wales-Hyder   \n",
       "1  f2de8bef964785f41a2959829830fb8a  West Branch    MI                 Ogemaw   \n",
       "2  f1784cfa9f6d92ae816197eb175d3c71      Yamhill    OR                Yamhill   \n",
       "3  dc8a365077241bb5cd5ccd305136b05e      Del Mar    CA              San Diego   \n",
       "4  aabb64a116e83fdc4befc1fbab1663f9    Needville    TX              Fort Bend   \n",
       "\n",
       "     Zip       Lat        Lng  ...  MonthlyCharge Bandwidth_GB_Year Item1  \\\n",
       "0  99927  56.25100 -133.37571  ...     172.455519        904.536110     5   \n",
       "1  48661  44.32893  -84.24080  ...     242.632554        800.982766     3   \n",
       "2  97148  45.35589 -123.24657  ...     159.947583       2054.706961     4   \n",
       "3  92014  32.96687 -117.24798  ...     119.956840       2164.579412     4   \n",
       "4  77461  29.38012  -95.80673  ...     149.948316        271.493436     4   \n",
       "\n",
       "  Item2  Item3  Item4  Item5 Item6 Item7 Item8  \n",
       "0     5      5      3      4     4     3     4  \n",
       "1     4      3      3      4     3     4     4  \n",
       "2     4      2      4      4     3     3     3  \n",
       "3     4      4      2      5     4     3     3  \n",
       "4     4      4      3      4     4     4     5  \n",
       "\n",
       "[5 rows x 50 columns]"
      ]
     },
     "execution_count": 2,
     "metadata": {},
     "output_type": "execute_result"
    }
   ],
   "source": [
    "#Save .CSV to df\n",
    "df = pd.read_csv(r'C:\\Users\\dre2\\Desktop\\personal docs\\WGU\\D212\\Task2\\churn_clean.csv')\n",
    "df.head()"
   ]
  },
  {
   "cell_type": "code",
   "execution_count": 3,
   "id": "2aed660e-966f-47e4-8aeb-c359313721db",
   "metadata": {},
   "outputs": [
    {
     "name": "stdout",
     "output_type": "stream",
     "text": [
      "CaseOrder               False\n",
      "Customer_id             False\n",
      "Interaction             False\n",
      "UID                     False\n",
      "City                    False\n",
      "State                   False\n",
      "County                  False\n",
      "Zip                     False\n",
      "Lat                     False\n",
      "Lng                     False\n",
      "Population              False\n",
      "Area                    False\n",
      "TimeZone                False\n",
      "Job                     False\n",
      "Children                False\n",
      "Age                     False\n",
      "Income                  False\n",
      "Marital                 False\n",
      "Gender                  False\n",
      "Churn                   False\n",
      "Outage_sec_perweek      False\n",
      "Email                   False\n",
      "Contacts                False\n",
      "Yearly_equip_failure    False\n",
      "Techie                  False\n",
      "Contract                False\n",
      "Port_modem              False\n",
      "Tablet                  False\n",
      "InternetService          True\n",
      "Phone                   False\n",
      "Multiple                False\n",
      "OnlineSecurity          False\n",
      "OnlineBackup            False\n",
      "DeviceProtection        False\n",
      "TechSupport             False\n",
      "StreamingTV             False\n",
      "StreamingMovies         False\n",
      "PaperlessBilling        False\n",
      "PaymentMethod           False\n",
      "Tenure                  False\n",
      "MonthlyCharge           False\n",
      "Bandwidth_GB_Year       False\n",
      "Item1                   False\n",
      "Item2                   False\n",
      "Item3                   False\n",
      "Item4                   False\n",
      "Item5                   False\n",
      "Item6                   False\n",
      "Item7                   False\n",
      "Item8                   False\n",
      "dtype: bool\n"
     ]
    }
   ],
   "source": [
    "#Check for nulls or missing values\n",
    "nulls = df.isnull().any()\n",
    "print(nulls)"
   ]
  },
  {
   "cell_type": "markdown",
   "id": "dbe57eae-0d32-4b49-8087-99601dbfac11",
   "metadata": {},
   "source": [
    "<h2>Create dataframe of selected features to run regress on</h2>"
   ]
  },
  {
   "cell_type": "code",
   "execution_count": 15,
   "id": "45921738-6008-46b0-a6c5-0e78e17b2b57",
   "metadata": {},
   "outputs": [
    {
     "data": {
      "text/html": [
       "<div>\n",
       "<style scoped>\n",
       "    .dataframe tbody tr th:only-of-type {\n",
       "        vertical-align: middle;\n",
       "    }\n",
       "\n",
       "    .dataframe tbody tr th {\n",
       "        vertical-align: top;\n",
       "    }\n",
       "\n",
       "    .dataframe thead th {\n",
       "        text-align: right;\n",
       "    }\n",
       "</style>\n",
       "<table border=\"1\" class=\"dataframe\">\n",
       "  <thead>\n",
       "    <tr style=\"text-align: right;\">\n",
       "      <th></th>\n",
       "      <th>Tenure</th>\n",
       "      <th>Age</th>\n",
       "      <th>Income</th>\n",
       "      <th>Children</th>\n",
       "      <th>Outage_sec_perweek</th>\n",
       "      <th>Yearly_equip_failure</th>\n",
       "      <th>MonthlyCharge</th>\n",
       "      <th>Bandwidth_GB_Year</th>\n",
       "      <th>Churn</th>\n",
       "    </tr>\n",
       "  </thead>\n",
       "  <tbody>\n",
       "    <tr>\n",
       "      <th>0</th>\n",
       "      <td>6.795513</td>\n",
       "      <td>68</td>\n",
       "      <td>28561.99</td>\n",
       "      <td>0</td>\n",
       "      <td>7.978323</td>\n",
       "      <td>1</td>\n",
       "      <td>172.455519</td>\n",
       "      <td>904.536110</td>\n",
       "      <td>No</td>\n",
       "    </tr>\n",
       "    <tr>\n",
       "      <th>1</th>\n",
       "      <td>1.156681</td>\n",
       "      <td>27</td>\n",
       "      <td>21704.77</td>\n",
       "      <td>1</td>\n",
       "      <td>11.699080</td>\n",
       "      <td>1</td>\n",
       "      <td>242.632554</td>\n",
       "      <td>800.982766</td>\n",
       "      <td>Yes</td>\n",
       "    </tr>\n",
       "    <tr>\n",
       "      <th>2</th>\n",
       "      <td>15.754144</td>\n",
       "      <td>50</td>\n",
       "      <td>9609.57</td>\n",
       "      <td>4</td>\n",
       "      <td>10.752800</td>\n",
       "      <td>1</td>\n",
       "      <td>159.947583</td>\n",
       "      <td>2054.706961</td>\n",
       "      <td>No</td>\n",
       "    </tr>\n",
       "    <tr>\n",
       "      <th>3</th>\n",
       "      <td>17.087227</td>\n",
       "      <td>48</td>\n",
       "      <td>18925.23</td>\n",
       "      <td>1</td>\n",
       "      <td>14.913540</td>\n",
       "      <td>0</td>\n",
       "      <td>119.956840</td>\n",
       "      <td>2164.579412</td>\n",
       "      <td>No</td>\n",
       "    </tr>\n",
       "    <tr>\n",
       "      <th>4</th>\n",
       "      <td>1.670972</td>\n",
       "      <td>83</td>\n",
       "      <td>40074.19</td>\n",
       "      <td>0</td>\n",
       "      <td>8.147417</td>\n",
       "      <td>1</td>\n",
       "      <td>149.948316</td>\n",
       "      <td>271.493436</td>\n",
       "      <td>Yes</td>\n",
       "    </tr>\n",
       "  </tbody>\n",
       "</table>\n",
       "</div>"
      ],
      "text/plain": [
       "      Tenure  Age    Income  Children  Outage_sec_perweek  \\\n",
       "0   6.795513   68  28561.99         0            7.978323   \n",
       "1   1.156681   27  21704.77         1           11.699080   \n",
       "2  15.754144   50   9609.57         4           10.752800   \n",
       "3  17.087227   48  18925.23         1           14.913540   \n",
       "4   1.670972   83  40074.19         0            8.147417   \n",
       "\n",
       "   Yearly_equip_failure  MonthlyCharge  Bandwidth_GB_Year Churn  \n",
       "0                     1     172.455519         904.536110    No  \n",
       "1                     1     242.632554         800.982766   Yes  \n",
       "2                     1     159.947583        2054.706961    No  \n",
       "3                     0     119.956840        2164.579412    No  \n",
       "4                     1     149.948316         271.493436   Yes  "
      ]
     },
     "execution_count": 15,
     "metadata": {},
     "output_type": "execute_result"
    }
   ],
   "source": [
    "df = df[['Tenure', 'Age', 'Income', 'Children', 'Outage_sec_perweek', 'Yearly_equip_failure', 'MonthlyCharge', 'Bandwidth_GB_Year', 'Churn']]\n",
    "df.head()"
   ]
  },
  {
   "cell_type": "code",
   "execution_count": 5,
   "id": "268791a7-12f1-4f6b-b2fe-51ae886c072f",
   "metadata": {},
   "outputs": [],
   "source": [
    "df.to_csv(r'C:\\Users\\dre2\\Desktop\\personal docs\\WGU\\D212\\Task2\\churn_clean_exported.csv')"
   ]
  },
  {
   "cell_type": "code",
   "execution_count": 6,
   "id": "da07c647-68c9-4923-8630-e493ca9c43c9",
   "metadata": {
    "tags": []
   },
   "outputs": [],
   "source": [
    "#Save features to x\n",
    "x = df[['Tenure', 'Age', 'Income', 'Children', 'Outage_sec_perweek', 'Yearly_equip_failure', 'MonthlyCharge', 'Bandwidth_GB_Year']]\n",
    "\n",
    "#Transform and standardize features\n",
    "f_standard = StandardScaler().fit_transform(x)\n"
   ]
  },
  {
   "cell_type": "markdown",
   "id": "5f510d24-eb7d-48b6-87dd-dd53de5d2b74",
   "metadata": {},
   "source": [
    "<h2>Call pca method and set fit to standard</h2>"
   ]
  },
  {
   "cell_type": "code",
   "execution_count": 7,
   "id": "ed70839e-056a-4eb3-aaaf-7fce933c3851",
   "metadata": {
    "tags": []
   },
   "outputs": [
    {
     "name": "stdout",
     "output_type": "stream",
     "text": [
      "[[ 7.05580539e-01  1.67192034e-03  4.16363282e-03  1.43218516e-02\n",
      "   5.91029218e-03  1.72602186e-02  4.04758726e-02  7.07078294e-01]\n",
      " [-1.29057634e-03 -5.71187103e-01  2.97271262e-01  6.26970982e-01\n",
      "  -1.31860535e-01  1.00082411e-01 -4.05925394e-01  1.00845206e-02]\n",
      " [ 3.93562487e-02  4.02742710e-01  2.47114965e-01 -2.29166359e-01\n",
      "  -6.75963189e-01  2.19281760e-01 -4.66427726e-01 -1.00410497e-02]\n",
      " [-2.19026725e-02  2.31234533e-01  2.29066888e-01  1.35626613e-01\n",
      "   3.49038076e-01  8.54949748e-01  1.48962928e-01 -1.51010462e-02]\n",
      " [-2.74900694e-02  4.95974676e-02  8.24844171e-01 -9.67615968e-03\n",
      "  -8.89671172e-02 -2.80702232e-01  4.79172216e-01  2.81957068e-03]\n",
      " [-4.06858028e-02  1.75009035e-01 -3.38683890e-01  5.32606355e-01\n",
      "  -5.36247035e-01  8.55925236e-02  5.23869084e-01  3.79693228e-03]\n",
      " [ 1.77208961e-02  6.51524134e-01  5.47672365e-02  5.01559833e-01\n",
      "   3.29162505e-01 -3.52905372e-01 -2.96146807e-01 -6.88966748e-03]\n",
      " [-7.05266423e-01  2.23523949e-02 -9.39226611e-04 -2.15650091e-02\n",
      "   2.67316161e-04 -9.35003076e-05 -4.57574096e-02  7.06781360e-01]]\n"
     ]
    }
   ],
   "source": [
    "pca = PCA().fit(f_standard)\n",
    "print(pca.components_)"
   ]
  },
  {
   "cell_type": "markdown",
   "id": "9c572ed6-af8b-43a6-a40b-0ffc14afa00a",
   "metadata": {},
   "source": [
    "<h2>Create scree plot and visualize to determine total # of components</h2>"
   ]
  },
  {
   "cell_type": "code",
   "execution_count": 8,
   "id": "31e7fd54-9513-48e0-9960-a9fa6726d5e1",
   "metadata": {},
   "outputs": [
    {
     "data": {
      "image/png": "[encoded data removed]",
      "text/plain": [
       "<Figure size 1500x800 with 1 Axes>"
      ]
     },
     "metadata": {},
     "output_type": "display_data"
    }
   ],
   "source": [
    "def screeplot(pca, standardized_values):\n",
    "    y = np.std(pca.transform(standardized_values), axis=0)**2\n",
    "    x = np.arange(len(y)) + 1\n",
    "    plt.plot(x, y)\n",
    "  #  plt.xticks(x, [str(i) for i in x])\n",
    "plt.show()\n",
    "\n",
    "screeplot(pca, f_standard)"
   ]
  },
  {
   "cell_type": "code",
   "execution_count": 9,
   "id": "d4d25a05-3556-42c1-97e3-d09094cc730e",
   "metadata": {
    "tags": []
   },
   "outputs": [
    {
     "name": "stdout",
     "output_type": "stream",
     "text": [
      "\n"
     ]
    },
    {
     "data": {
      "text/html": [
       "<div>\n",
       "<style scoped>\n",
       "    .dataframe tbody tr th:only-of-type {\n",
       "        vertical-align: middle;\n",
       "    }\n",
       "\n",
       "    .dataframe tbody tr th {\n",
       "        vertical-align: top;\n",
       "    }\n",
       "\n",
       "    .dataframe thead th {\n",
       "        text-align: right;\n",
       "    }\n",
       "</style>\n",
       "<table border=\"1\" class=\"dataframe\">\n",
       "  <thead>\n",
       "    <tr style=\"text-align: right;\">\n",
       "      <th></th>\n",
       "      <th>Standard Deviation</th>\n",
       "    </tr>\n",
       "  </thead>\n",
       "  <tbody>\n",
       "    <tr>\n",
       "      <th>PC 1</th>\n",
       "      <td>1.993687</td>\n",
       "    </tr>\n",
       "    <tr>\n",
       "      <th>PC 2</th>\n",
       "      <td>1.039326</td>\n",
       "    </tr>\n",
       "    <tr>\n",
       "      <th>PC 3</th>\n",
       "      <td>1.022185</td>\n",
       "    </tr>\n",
       "    <tr>\n",
       "      <th>PC 4</th>\n",
       "      <td>1.004341</td>\n",
       "    </tr>\n",
       "    <tr>\n",
       "      <th>PC 5</th>\n",
       "      <td>0.997063</td>\n",
       "    </tr>\n",
       "    <tr>\n",
       "      <th>PC 6</th>\n",
       "      <td>0.974133</td>\n",
       "    </tr>\n",
       "    <tr>\n",
       "      <th>PC 7</th>\n",
       "      <td>0.963798</td>\n",
       "    </tr>\n",
       "    <tr>\n",
       "      <th>PC 8</th>\n",
       "      <td>0.005468</td>\n",
       "    </tr>\n",
       "  </tbody>\n",
       "</table>\n",
       "</div>"
      ],
      "text/plain": [
       "      Standard Deviation\n",
       "PC 1            1.993687\n",
       "PC 2            1.039326\n",
       "PC 3            1.022185\n",
       "PC 4            1.004341\n",
       "PC 5            0.997063\n",
       "PC 6            0.974133\n",
       "PC 7            0.963798\n",
       "PC 8            0.005468"
      ]
     },
     "execution_count": 9,
     "metadata": {},
     "output_type": "execute_result"
    }
   ],
   "source": [
    "def PCA_results(pca, standardized_data, out=True):\n",
    "    names = ['PC ' + str(i) for i in range(1, len(pca.explained_variance_ratio_) + 1)]\n",
    "    a = list(np.std(pca.transform(standardized_data), axis = 0))\n",
    "    b = list(pca.explained_variance_ratio_)\n",
    "    c = [np.sum(pca.explained_variance_ratio_[:i]) for i in range(1, len(pca.explained_variance_ratio_) + 1)]\n",
    "    columns = pd.MultiIndex.from_tuples([('standard_deviation', 'Standard Deviation'),\n",
    "                                        ('proportion_of_variation', 'Proportion of Variation'),\n",
    "                                        ('cumulative_proportion', 'Cumulative Proportion')])\n",
    "    results = pd.DataFrame(zip(a, b, c), index=names, columns=columns)\n",
    "    if out:\n",
    "        print()\n",
    "    return results\n",
    "results = PCA_results(pca, f_standard)\n",
    "results.standard_deviation**2"
   ]
  },
  {
   "cell_type": "code",
   "execution_count": 10,
   "id": "bb0ee789-8759-4de2-99ea-6c7c9ca73665",
   "metadata": {
    "tags": []
   },
   "outputs": [
    {
     "data": {
      "text/plain": [
       "Standard Deviation    8.0\n",
       "dtype: float64"
      ]
     },
     "execution_count": 10,
     "metadata": {},
     "output_type": "execute_result"
    }
   ],
   "source": [
    "#Total variance captured by principal components\n",
    "np.sum(results.standard_deviation**2)"
   ]
  },
  {
   "cell_type": "code",
   "execution_count": 14,
   "id": "df887d40-1460-4acd-b114-bbfe70bf27f9",
   "metadata": {},
   "outputs": [
    {
     "data": {
      "text/plain": [
       "[<matplotlib.lines.Line2D at 0x1e0bf0bbed0>,\n",
       " <matplotlib.lines.Line2D at 0x1e0bf058390>,\n",
       " <matplotlib.lines.Line2D at 0x1e0bf05ad50>]"
      ]
     },
     "execution_count": 14,
     "metadata": {},
     "output_type": "execute_result"
    },
    {
     "data": {
      "image/png": "[encoded data removed]",
      "text/plain": [
       "<Figure size 1500x800 with 1 Axes>"
      ]
     },
     "metadata": {},
     "output_type": "display_data"
    }
   ],
   "source": [
    "var = np.cumsum(np.round(results, decimals=3)*100)\n",
    "plt.ylabel('% Variance Explained')\n",
    "plt.xlabel('# of Features')\n",
    "plt.ylim(10,1000)\n",
    "# plt.style.context('seaborn-whitegrid')\n",
    "plt.plot(var)"
   ]
  },
  {
   "cell_type": "code",
   "execution_count": null,
   "id": "e9bfe6c9-8a0c-47c5-a2c2-d2704df5766f",
   "metadata": {},
   "outputs": [],
   "source": []
  }
 ],
 "metadata": {
  "kernelspec": {
   "display_name": "Python 3 (ipykernel)",
   "language": "python",
   "name": "python3"
  },
  "language_info": {
   "codemirror_mode": {
    "name": "ipython",
    "version": 3
   },
   "file_extension": ".py",
   "mimetype": "text/x-python",
   "name": "python",
   "nbconvert_exporter": "python",
   "pygments_lexer": "ipython3",
   "version": "3.11.5"
  }
 },
 "nbformat": 4,
 "nbformat_minor": 5
}
