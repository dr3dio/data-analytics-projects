{
 "cells": [
  {
   "cell_type": "code",
   "execution_count": 1,
   "id": "accc3a69-8bb9-4634-838a-df22e18fc5e9",
   "metadata": {},
   "outputs": [],
   "source": [
    "import numpy as np\n",
    "import pandas as pd\n",
    "from pandas import Series, DataFrame\n",
    "import seaborn as sns\n",
    "import matplotlib.pyplot as plt\n",
    "%matplotlib inline\n",
    "import pylab\n",
    "from pylab import rcParams\n",
    "import statsmodels.api as sm\n",
    "import statistics\n",
    "from scipy import stats\n",
    "import sklearn\n",
    "from sklearn import preprocessing\n",
    "from sklearn.linear_model import LinearRegression\n",
    "from sklearn.model_selection import train_test_split\n",
    "from sklearn import metrics\n",
    "from sklearn.metrics import classification_report\n",
    "from scipy.stats import chisquare\n",
    "from scipy.stats import chi2_contingency"
   ]
  },
  {
   "cell_type": "code",
   "execution_count": 2,
   "id": "9b548e41-de0f-4305-90ca-1ff4416844d3",
   "metadata": {},
   "outputs": [
    {
     "name": "stdout",
     "output_type": "stream",
     "text": [
      "CaseOrder               False\n",
      "Customer_id             False\n",
      "Interaction             False\n",
      "UID                     False\n",
      "City                    False\n",
      "State                   False\n",
      "County                  False\n",
      "Zip                     False\n",
      "Lat                     False\n",
      "Lng                     False\n",
      "Population              False\n",
      "Area                    False\n",
      "TimeZone                False\n",
      "Job                     False\n",
      "Children                False\n",
      "Age                     False\n",
      "Income                  False\n",
      "Marital                 False\n",
      "Gender                  False\n",
      "Churn                   False\n",
      "Outage_sec_perweek      False\n",
      "Email                   False\n",
      "Contacts                False\n",
      "Yearly_equip_failure    False\n",
      "Techie                  False\n",
      "Contract                False\n",
      "Port_modem              False\n",
      "Tablet                  False\n",
      "InternetService         False\n",
      "Phone                   False\n",
      "Multiple                False\n",
      "OnlineSecurity          False\n",
      "OnlineBackup            False\n",
      "DeviceProtection        False\n",
      "TechSupport             False\n",
      "StreamingTV             False\n",
      "StreamingMovies         False\n",
      "PaperlessBilling        False\n",
      "PaymentMethod           False\n",
      "Tenure                  False\n",
      "MonthlyCharge           False\n",
      "Bandwidth_GB_Year       False\n",
      "Item1                   False\n",
      "Item2                   False\n",
      "Item3                   False\n",
      "Item4                   False\n",
      "Item5                   False\n",
      "Item6                   False\n",
      "Item7                   False\n",
      "Item8                   False\n",
      "dtype: bool\n"
     ]
    }
   ],
   "source": [
    "df = pd.read_csv(r'C:\\Users\\dre2\\Desktop\\WGU\\D208\\churn_clean.csv')\n",
    "nulls = df.isnull().any()\n",
    "print(nulls)"
   ]
  },
  {
   "cell_type": "code",
   "execution_count": 3,
   "id": "1bdf4b8e-19b1-43a0-a82b-a0700a816787",
   "metadata": {},
   "outputs": [],
   "source": [
    "df['churn_dummy'] = [1 if v == 'Yes' else 0 for v in df['Churn']]"
   ]
  },
  {
   "cell_type": "code",
   "execution_count": 4,
   "id": "495860f7-699b-47ea-aac8-ed6544201520",
   "metadata": {},
   "outputs": [
    {
     "name": "stdout",
     "output_type": "stream",
     "text": [
      "      CaseOrder Customer_id                           Interaction  \\\n",
      "0             1     K409198  aa90260b-4141-4a24-8e36-b04ce1f4f77b   \n",
      "1             2     S120509  fb76459f-c047-4a9d-8af9-e0f7d4ac2524   \n",
      "2             3     K191035  344d114c-3736-4be5-98f7-c72c281e2d35   \n",
      "3             4      D90850  abfa2b40-2d43-4994-b15a-989b8c79e311   \n",
      "4             5     K662701  68a861fd-0d20-4e51-a587-8a90407ee574   \n",
      "...         ...         ...                                   ...   \n",
      "9995       9996     M324793  45deb5a2-ae04-4518-bf0b-c82db8dbe4a4   \n",
      "9996       9997     D861732  6e96b921-0c09-4993-bbda-a1ac6411061a   \n",
      "9997       9998     I243405  e8307ddf-9a01-4fff-bc59-4742e03fd24f   \n",
      "9998       9999     I641617  3775ccfc-0052-4107-81ae-9657f81ecdf3   \n",
      "9999      10000      T38070  9de5fb6e-bd33-4995-aec8-f01d0172a499   \n",
      "\n",
      "                                   UID          City State  \\\n",
      "0     e885b299883d4f9fb18e39c75155d990   Point Baker    AK   \n",
      "1     f2de8bef964785f41a2959829830fb8a   West Branch    MI   \n",
      "2     f1784cfa9f6d92ae816197eb175d3c71       Yamhill    OR   \n",
      "3     dc8a365077241bb5cd5ccd305136b05e       Del Mar    CA   \n",
      "4     aabb64a116e83fdc4befc1fbab1663f9     Needville    TX   \n",
      "...                                ...           ...   ...   \n",
      "9995  9499fb4de537af195d16d046b79fd20a   Mount Holly    VT   \n",
      "9996  c09a841117fa81b5c8e19afec2760104   Clarksville    TN   \n",
      "9997  9c41f212d1e04dca84445019bbc9b41c      Mobeetie    TX   \n",
      "9998  3e1f269b40c235a1038863ecf6b7a0df    Carrollton    GA   \n",
      "9999  0ea683a03a3cd544aefe8388aab16176  Clarkesville    GA   \n",
      "\n",
      "                     County    Zip       Lat        Lng  ...  \\\n",
      "0     Prince of Wales-Hyder  99927  56.25100 -133.37571  ...   \n",
      "1                    Ogemaw  48661  44.32893  -84.24080  ...   \n",
      "2                   Yamhill  97148  45.35589 -123.24657  ...   \n",
      "3                 San Diego  92014  32.96687 -117.24798  ...   \n",
      "4                 Fort Bend  77461  29.38012  -95.80673  ...   \n",
      "...                     ...    ...       ...        ...  ...   \n",
      "9995                Rutland   5758  43.43391  -72.78734  ...   \n",
      "9996             Montgomery  37042  36.56907  -87.41694  ...   \n",
      "9997                Wheeler  79061  35.52039 -100.44180  ...   \n",
      "9998                Carroll  30117  33.58016  -85.13241  ...   \n",
      "9999              Habersham  30523  34.70783  -83.53648  ...   \n",
      "\n",
      "      Bandwidth_GB_Year Item1 Item2 Item3  Item4  Item5  Item6 Item7 Item8  \\\n",
      "0            904.536110     5     5     5      3      4      4     3     4   \n",
      "1            800.982766     3     4     3      3      4      3     4     4   \n",
      "2           2054.706961     4     4     2      4      4      3     3     3   \n",
      "3           2164.579412     4     4     4      2      5      4     3     3   \n",
      "4            271.493436     4     4     4      3      4      4     4     5   \n",
      "...                 ...   ...   ...   ...    ...    ...    ...   ...   ...   \n",
      "9995        6511.252601     3     2     3      3      4      3     2     3   \n",
      "9996        5695.951810     4     5     5      4      4      5     2     5   \n",
      "9997        4159.305799     4     4     4      4      4      4     4     5   \n",
      "9998        6468.456752     4     4     6      4      3      3     5     4   \n",
      "9999        5857.586167     2     2     3      3      3      3     4     1   \n",
      "\n",
      "     churn_dummy  \n",
      "0              0  \n",
      "1              1  \n",
      "2              0  \n",
      "3              0  \n",
      "4              1  \n",
      "...          ...  \n",
      "9995           0  \n",
      "9996           0  \n",
      "9997           0  \n",
      "9998           0  \n",
      "9999           0  \n",
      "\n",
      "[10000 rows x 51 columns]\n"
     ]
    }
   ],
   "source": [
    "print(df)\n"
   ]
  },
  {
   "cell_type": "code",
   "execution_count": 5,
   "id": "2d0237f6-9351-48f5-9c47-155e0e0075fa",
   "metadata": {},
   "outputs": [],
   "source": [
    "knn_df = df[['Outage_sec_perweek', 'MonthlyCharge', 'Bandwidth_GB_Year', 'churn_dummy']]"
   ]
  },
  {
   "cell_type": "code",
   "execution_count": 6,
   "id": "2f744533-cb37-4570-8252-6a2863a530cc",
   "metadata": {},
   "outputs": [],
   "source": [
    "from sklearn.neighbors import KNeighborsClassifier"
   ]
  },
  {
   "cell_type": "code",
   "execution_count": 7,
   "id": "0457d468-068f-4f24-aff5-831bdb38780c",
   "metadata": {},
   "outputs": [
    {
     "name": "stdout",
     "output_type": "stream",
     "text": [
      "[0 1 1 ... 0 0 0]\n"
     ]
    }
   ],
   "source": [
    "from sklearn.model_selection import train_test_split\n",
    "\n",
    "X = knn_df.iloc[:, 1:-1].values\n",
    "y = knn_df.iloc[:, -1].values\n",
    "\n",
    "X_train, X_test, y_train, y_test = train_test_split(\n",
    "             X, y, test_size = 0.2, random_state=42)\n",
    " \n",
    "knn = KNeighborsClassifier(n_neighbors=6)\n",
    " \n",
    "knn.fit(X_train, y_train)\n",
    "\n",
    "print(knn.predict(X_test))"
   ]
  },
  {
   "cell_type": "code",
   "execution_count": 8,
   "id": "5d22486a-385a-4fa3-9b8d-d3b1c95e88af",
   "metadata": {},
   "outputs": [
    {
     "name": "stdout",
     "output_type": "stream",
     "text": [
      "0.8185\n"
     ]
    }
   ],
   "source": [
    "print(knn.score(X_test, y_test))"
   ]
  },
  {
   "cell_type": "code",
   "execution_count": 9,
   "id": "dd47a133-266e-44c4-a780-9aeb184045e1",
   "metadata": {},
   "outputs": [
    {
     "data": {
      "image/png": "[encoded data removed]",
      "text/plain": [
       "<Figure size 432x288 with 1 Axes>"
      ]
     },
     "metadata": {
      "needs_background": "light"
     },
     "output_type": "display_data"
    }
   ],
   "source": [
    "import numpy as np\n",
    "import matplotlib.pyplot as plt\n",
    " \n",
    "X_train, X_test, y_train, y_test = train_test_split(\n",
    "             X, y, test_size = 0.2, random_state=42)\n",
    " \n",
    "neighbors = np.arange(1, 9)\n",
    "train_accuracy = np.empty(len(neighbors))\n",
    "test_accuracy = np.empty(len(neighbors))\n",
    "\n",
    "for i, k in enumerate(neighbors):\n",
    "    knn = KNeighborsClassifier(n_neighbors=k)\n",
    "    knn.fit(X_train, y_train)\n",
    "    train_accuracy[i] = knn.score(X_train, y_train)\n",
    "    test_accuracy[i] = knn.score(X_test, y_test)\n",
    " \n",
    "plt.plot(neighbors, test_accuracy, label = 'Test Accuracy')\n",
    "plt.plot(neighbors, train_accuracy, label = 'Training Accuracy')\n",
    " \n",
    "plt.legend()\n",
    "plt.xlabel('n_neighbors')\n",
    "plt.ylabel('Accuracy')\n",
    "plt.show()"
   ]
  },
  {
   "cell_type": "code",
   "execution_count": 10,
   "id": "7640da13-6dea-4ddd-b0d9-dbffe357bfc3",
   "metadata": {},
   "outputs": [],
   "source": [
    "from sklearn.metrics import roc_curve\n",
    "pred_prob = knn.predict_proba(X_test)"
   ]
  },
  {
   "cell_type": "code",
   "execution_count": 11,
   "id": "b8e7a943-fb18-46c3-8458-9066d955e48d",
   "metadata": {},
   "outputs": [
    {
     "name": "stdout",
     "output_type": "stream",
     "text": [
      "0.8632054985455719\n"
     ]
    }
   ],
   "source": [
    "fpr2, tpr2, thresh2 = roc_curve(y_test, pred_prob[:,1], pos_label=1)\n",
    "\n",
    "random_probs = [0 for i in range(len(y_test))]\n",
    "p_fpr, p_tpr, _ = roc_curve(y_test, random_probs, pos_label=1)\n",
    "from sklearn.metrics import roc_auc_score\n",
    "\n",
    "auc_score = roc_auc_score(y_test, pred_prob[:,1])\n",
    "\n",
    "print(auc_score)"
   ]
  },
  {
   "cell_type": "code",
   "execution_count": 12,
   "id": "eb3bc7d7-bf57-43b3-929f-b99658fdc29e",
   "metadata": {},
   "outputs": [],
   "source": [
    "knn_df.to_csv(r'C:\\Users\\dre2\\Desktop\\d209_task1_dataset.csv')"
   ]
  },
  {
   "cell_type": "code",
   "execution_count": null,
   "id": "e0c84034-4531-449c-af87-121dd1409594",
   "metadata": {},
   "outputs": [],
   "source": []
  }
 ],
 "metadata": {
  "kernelspec": {
   "display_name": "Python 3",
   "language": "python",
   "name": "python3"
  },
  "language_info": {
   "codemirror_mode": {
    "name": "ipython",
    "version": 3
   },
   "file_extension": ".py",
   "mimetype": "text/x-python",
   "name": "python",
   "nbconvert_exporter": "python",
   "pygments_lexer": "ipython3",
   "version": "3.8.8"
  }
 },
 "nbformat": 4,
 "nbformat_minor": 5
}
