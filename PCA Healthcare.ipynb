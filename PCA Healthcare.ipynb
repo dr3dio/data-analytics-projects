{
 "cells": [
  {
   "cell_type": "code",
   "execution_count": 1,
   "id": "9bdf4edd-0d45-4b49-bdcb-af50a038c4a6",
   "metadata": {
    "tags": []
   },
   "outputs": [],
   "source": [
    "import pandas as pd"
   ]
  },
  {
   "cell_type": "code",
   "execution_count": 2,
   "id": "5d31d00c-56e1-4c4a-8d7d-fd3d80267751",
   "metadata": {
    "tags": []
   },
   "outputs": [
    {
     "name": "stdout",
     "output_type": "stream",
     "text": [
      "      Unnamed: 0  CaseOrder Customer_id                           Interaction  \\\n",
      "0              1          1     C412403  8cd49b13-f45a-4b47-a2bd-173ffa932c2f   \n",
      "1              2          2     Z919181  d2450b70-0337-4406-bdbb-bc1037f1734c   \n",
      "2              3          3     F995323  a2057123-abf5-4a2c-abad-8ffe33512562   \n",
      "3              4          4     A879973  1dec528d-eb34-4079-adce-0d7a40e82205   \n",
      "4              5          5     C544523  5885f56b-d6da-43a3-8760-83583af94266   \n",
      "...          ...        ...         ...                                   ...   \n",
      "9995        9996       9996     B863060  a25b594d-0328-486f-a9b9-0567eb0f9723   \n",
      "9996        9997       9997     P712040  70711574-f7b1-4a17-b15f-48c54564b70f   \n",
      "9997        9998       9998     R778890  1d79569d-8e0f-4180-a207-d67ee4527d26   \n",
      "9998        9999       9999     E344109  f5a68e69-2a60-409b-a92f-ac0847b27db0   \n",
      "9999       10000      10000     I569847  bc482c02-f8c9-4423-99de-3db5e62a18d5   \n",
      "\n",
      "                                   UID          City State        County  \\\n",
      "0     3a83ddb66e2ae73798bdf1d705dc0932           Eva    AL        Morgan   \n",
      "1     176354c5eef714957d486009feabf195      Marianna    FL       Jackson   \n",
      "2     e19a0fa00aeda885b8a436757e889bc9   Sioux Falls    SD     Minnehaha   \n",
      "3     cd17d7b6d152cb6f23957346d11c3f07  New Richland    MN        Waseca   \n",
      "4     d2f0425877b10ed6bb381f3e2579424a    West Point    VA  King William   \n",
      "...                                ...           ...   ...           ...   \n",
      "9995  39184dc28cc038871912ccc4500049e5       Norlina    NC        Warren   \n",
      "9996  3cd124ccd43147404292e883bf9ec55c        Milmay    NJ      Atlantic   \n",
      "9997  41b770aeee97a5b9e7f69c906a8119d7     Southside    TN    Montgomery   \n",
      "9998  2bb491ef5b1beb1fed758cc6885c167a         Quinn    SD    Pennington   \n",
      "9999  95663a202338000abdf7e09311c2a8a1    Coraopolis    PA     Allegheny   \n",
      "\n",
      "        Zip       Lat  ...  TotalCharge  Additional_charges Item1 Item2 Item3  \\\n",
      "0     35621  34.34960  ...  3191.048774        17939.403420     3     3     2   \n",
      "1     32446  30.84513  ...  4214.905346        17612.998120     3     4     3   \n",
      "2     57110  43.54321  ...  2177.586768        17505.192460     2     4     4   \n",
      "3     56072  43.89744  ...  2465.118965        12993.437350     3     5     5   \n",
      "4     23181  37.59894  ...  1885.655137         3716.525786     2     1     3   \n",
      "...     ...       ...  ...          ...                 ...   ...   ...   ...   \n",
      "9995  27563  36.42886  ...  6651.241294         8927.642189     3     2     2   \n",
      "9996   8340  39.43609  ...  7851.522660        28507.147340     3     3     4   \n",
      "9997  37171  36.36655  ...  7725.953391        15281.214660     3     3     3   \n",
      "9998  57775  44.10354  ...  8462.831883         7781.678412     5     5     3   \n",
      "9999  15108  40.49998  ...  8700.856021        11643.189930     4     3     3   \n",
      "\n",
      "      Item4  Item5 Item6 Item7  Item8  \n",
      "0         2      4     3     3      4  \n",
      "1         4      4     4     3      3  \n",
      "2         4      3     4     3      3  \n",
      "3         3      4     5     5      5  \n",
      "4         3      5     3     4      3  \n",
      "...     ...    ...   ...   ...    ...  \n",
      "9995      3      4     3     4      2  \n",
      "9996      2      5     3     4      4  \n",
      "9997      4      4     2     3      2  \n",
      "9998      4      4     3     4      3  \n",
      "9999      2      3     6     4      3  \n",
      "\n",
      "[10000 rows x 53 columns]\n"
     ]
    }
   ],
   "source": [
    "df = pd.read_csv(r'C:\\Users\\dre2\\Desktop\\medical_raw_data.csv')\n",
    "print(df)"
   ]
  },
  {
   "cell_type": "code",
   "execution_count": 3,
   "id": "20c6bdde-27a2-46bc-957f-d440a80413c5",
   "metadata": {
    "tags": []
   },
   "outputs": [
    {
     "name": "stdout",
     "output_type": "stream",
     "text": [
      "0       1\n",
      "1       1\n",
      "2       1\n",
      "3       0\n",
      "4       0\n",
      "       ..\n",
      "9995    1\n",
      "9996    1\n",
      "9997    1\n",
      "9998    0\n",
      "9999    0\n",
      "Name: HighBlood, Length: 10000, dtype: int64\n"
     ]
    }
   ],
   "source": [
    "df = df.replace(to_replace={'HighBlood': {'Yes': 1, 'No': 0}}, value=None)\n",
    "print(df['HighBlood'])"
   ]
  },
  {
   "cell_type": "code",
   "execution_count": 4,
   "id": "a9831e16-3232-4dda-ac58-f2789708dffd",
   "metadata": {
    "tags": []
   },
   "outputs": [
    {
     "name": "stdout",
     "output_type": "stream",
     "text": [
      "0       0\n",
      "1       0\n",
      "2       0\n",
      "3       1\n",
      "4       0\n",
      "       ..\n",
      "9995    0\n",
      "9996    0\n",
      "9997    0\n",
      "9998    0\n",
      "9999    0\n",
      "Name: Stroke, Length: 10000, dtype: int64\n"
     ]
    }
   ],
   "source": [
    "df = df.replace(to_replace={'Stroke': {'Yes': 1, 'No': 0}}, value=None)\n",
    "print(df['Stroke'])"
   ]
  },
  {
   "cell_type": "code",
   "execution_count": 5,
   "id": "31409fe1-bd5d-4501-a967-49087d59b70e",
   "metadata": {
    "tags": []
   },
   "outputs": [
    {
     "name": "stdout",
     "output_type": "stream",
     "text": [
      "0       1\n",
      "1       0\n",
      "2       0\n",
      "3       1\n",
      "4       0\n",
      "       ..\n",
      "9995    0\n",
      "9996    1\n",
      "9997    0\n",
      "9998    0\n",
      "9999    1\n",
      "Name: Arthritis, Length: 10000, dtype: int64\n"
     ]
    }
   ],
   "source": [
    "df = df.replace(to_replace={'Arthritis': {'Yes': 1, 'No': 0}}, value=None)\n",
    "print(df['Arthritis'])"
   ]
  },
  {
   "cell_type": "code",
   "execution_count": 6,
   "id": "90469ad6-76fe-49bc-b4fc-5efc252448a9",
   "metadata": {
    "tags": []
   },
   "outputs": [
    {
     "name": "stdout",
     "output_type": "stream",
     "text": [
      "0       1\n",
      "1       0\n",
      "2       1\n",
      "3       0\n",
      "4       0\n",
      "       ..\n",
      "9995    0\n",
      "9996    1\n",
      "9997    0\n",
      "9998    0\n",
      "9999    0\n",
      "Name: Diabetes, Length: 10000, dtype: int64\n"
     ]
    }
   ],
   "source": [
    "df = df.replace(to_replace={'Diabetes': {'Yes': 1, 'No': 0}}, value=None)\n",
    "print(df['Diabetes'])"
   ]
  },
  {
   "cell_type": "code",
   "execution_count": 7,
   "id": "c9eadb85-4ca2-4144-9bee-eec316ee43b0",
   "metadata": {
    "tags": []
   },
   "outputs": [
    {
     "name": "stdout",
     "output_type": "stream",
     "text": [
      "0       0\n",
      "1       0\n",
      "2       0\n",
      "3       0\n",
      "4       1\n",
      "       ..\n",
      "9995    0\n",
      "9996    0\n",
      "9997    0\n",
      "9998    0\n",
      "9999    1\n",
      "Name: Hyperlipidemia, Length: 10000, dtype: int64\n"
     ]
    }
   ],
   "source": [
    "df = df.replace(to_replace={'Hyperlipidemia': {'Yes': 1, 'No': 0}}, value=None)\n",
    "print(df['Hyperlipidemia'])"
   ]
  },
  {
   "cell_type": "code",
   "execution_count": 8,
   "id": "19857e2c-e259-40a0-a181-316182e00a16",
   "metadata": {
    "tags": []
   },
   "outputs": [
    {
     "name": "stdout",
     "output_type": "stream",
     "text": [
      "0       1\n",
      "1       0\n",
      "2       0\n",
      "3       0\n",
      "4       0\n",
      "       ..\n",
      "9995    0\n",
      "9996    0\n",
      "9997    0\n",
      "9998    1\n",
      "9999    0\n",
      "Name: BackPain, Length: 10000, dtype: int64\n"
     ]
    }
   ],
   "source": [
    "df = df.replace(to_replace={'BackPain': {'Yes': 1, 'No': 0}}, value=None)\n",
    "print(df['BackPain'])"
   ]
  },
  {
   "cell_type": "code",
   "execution_count": 9,
   "id": "6339f527-ccdf-4804-bd4b-2976cacc8985",
   "metadata": {
    "tags": []
   },
   "outputs": [
    {
     "name": "stdout",
     "output_type": "stream",
     "text": [
      "0       1\n",
      "1       0\n",
      "2       0\n",
      "3       0\n",
      "4       1\n",
      "       ..\n",
      "9995    0\n",
      "9996    0\n",
      "9997    1\n",
      "9998    0\n",
      "9999    1\n",
      "Name: Allergic_rhinitis, Length: 10000, dtype: int64\n"
     ]
    }
   ],
   "source": [
    "df = df.replace(to_replace={'Allergic_rhinitis': {'Yes': 1, 'No': 0}}, value=None)\n",
    "print(df['Allergic_rhinitis'])\n"
   ]
  },
  {
   "cell_type": "code",
   "execution_count": 10,
   "id": "442fe286-456d-4329-a999-b86f4e91bc12",
   "metadata": {
    "tags": []
   },
   "outputs": [
    {
     "name": "stdout",
     "output_type": "stream",
     "text": [
      "0       0\n",
      "1       1\n",
      "2       0\n",
      "3       1\n",
      "4       0\n",
      "       ..\n",
      "9995    1\n",
      "9996    0\n",
      "9997    0\n",
      "9998    0\n",
      "9999    0\n",
      "Name: Reflux_esophagitis, Length: 10000, dtype: int64\n"
     ]
    }
   ],
   "source": [
    "df = df.replace(to_replace={'Reflux_esophagitis': {'Yes': 1, 'No': 0}}, value=None)\n",
    "print(df['Reflux_esophagitis'])"
   ]
  },
  {
   "cell_type": "code",
   "execution_count": 11,
   "id": "0f4bc097-a963-4c96-a997-57e50539599b",
   "metadata": {
    "tags": []
   },
   "outputs": [
    {
     "name": "stdout",
     "output_type": "stream",
     "text": [
      "0       1\n",
      "1       0\n",
      "2       0\n",
      "3       1\n",
      "4       0\n",
      "       ..\n",
      "9995    0\n",
      "9996    1\n",
      "9997    0\n",
      "9998    0\n",
      "9999    0\n",
      "Name: Asthma, Length: 10000, dtype: int64\n"
     ]
    }
   ],
   "source": [
    "df = df.replace(to_replace={'Asthma': {'Yes': 1, 'No': 0}}, value=None)\n",
    "print(df['Asthma'])"
   ]
  },
  {
   "cell_type": "code",
   "execution_count": 12,
   "id": "f56b4210-14a2-4c04-9935-4f4476238246",
   "metadata": {
    "tags": []
   },
   "outputs": [
    {
     "name": "stdout",
     "output_type": "stream",
     "text": [
      "0       6\n",
      "1       2\n",
      "2       2\n",
      "3       4\n",
      "4       2\n",
      "       ..\n",
      "9995    2\n",
      "9996    4\n",
      "9997    2\n",
      "9998    1\n",
      "9999    3\n",
      "Name: health_score, Length: 10000, dtype: int64\n"
     ]
    }
   ],
   "source": [
    "df['health_score'] =  df.apply(lambda x: x['HighBlood'] + x['Stroke'] + x['Arthritis'] + x['Diabetes'] + x['Hyperlipidemia'] + x['BackPain'] + x['Allergic_rhinitis'] + x['Reflux_esophagitis'] + x['Asthma'], axis=1)\n",
    "\n",
    "print(df['health_score'])"
   ]
  },
  {
   "cell_type": "code",
   "execution_count": 13,
   "id": "c04aaa53-55ee-48ec-93d1-57806e4855a2",
   "metadata": {
    "tags": []
   },
   "outputs": [
    {
     "name": "stdout",
     "output_type": "stream",
     "text": [
      "      Unnamed: 0  CaseOrder Customer_id                           Interaction  \\\n",
      "0              1          1     C412403  8cd49b13-f45a-4b47-a2bd-173ffa932c2f   \n",
      "1              2          2     Z919181  d2450b70-0337-4406-bdbb-bc1037f1734c   \n",
      "2              3          3     F995323  a2057123-abf5-4a2c-abad-8ffe33512562   \n",
      "3              4          4     A879973  1dec528d-eb34-4079-adce-0d7a40e82205   \n",
      "4              5          5     C544523  5885f56b-d6da-43a3-8760-83583af94266   \n",
      "...          ...        ...         ...                                   ...   \n",
      "9995        9996       9996     B863060  a25b594d-0328-486f-a9b9-0567eb0f9723   \n",
      "9996        9997       9997     P712040  70711574-f7b1-4a17-b15f-48c54564b70f   \n",
      "9997        9998       9998     R778890  1d79569d-8e0f-4180-a207-d67ee4527d26   \n",
      "9998        9999       9999     E344109  f5a68e69-2a60-409b-a92f-ac0847b27db0   \n",
      "9999       10000      10000     I569847  bc482c02-f8c9-4423-99de-3db5e62a18d5   \n",
      "\n",
      "                                   UID          City State        County  \\\n",
      "0     3a83ddb66e2ae73798bdf1d705dc0932           Eva    AL        Morgan   \n",
      "1     176354c5eef714957d486009feabf195      Marianna    FL       Jackson   \n",
      "2     e19a0fa00aeda885b8a436757e889bc9   Sioux Falls    SD     Minnehaha   \n",
      "3     cd17d7b6d152cb6f23957346d11c3f07  New Richland    MN        Waseca   \n",
      "4     d2f0425877b10ed6bb381f3e2579424a    West Point    VA  King William   \n",
      "...                                ...           ...   ...           ...   \n",
      "9995  39184dc28cc038871912ccc4500049e5       Norlina    NC        Warren   \n",
      "9996  3cd124ccd43147404292e883bf9ec55c        Milmay    NJ      Atlantic   \n",
      "9997  41b770aeee97a5b9e7f69c906a8119d7     Southside    TN    Montgomery   \n",
      "9998  2bb491ef5b1beb1fed758cc6885c167a         Quinn    SD    Pennington   \n",
      "9999  95663a202338000abdf7e09311c2a8a1    Coraopolis    PA     Allegheny   \n",
      "\n",
      "        Zip       Lat  ...  Additional_charges  Item1 Item2 Item3 Item4  \\\n",
      "0     35621  34.34960  ...        17939.403420      3     3     2     2   \n",
      "1     32446  30.84513  ...        17612.998120      3     4     3     4   \n",
      "2     57110  43.54321  ...        17505.192460      2     4     4     4   \n",
      "3     56072  43.89744  ...        12993.437350      3     5     5     3   \n",
      "4     23181  37.59894  ...         3716.525786      2     1     3     3   \n",
      "...     ...       ...  ...                 ...    ...   ...   ...   ...   \n",
      "9995  27563  36.42886  ...         8927.642189      3     2     2     3   \n",
      "9996   8340  39.43609  ...        28507.147340      3     3     4     2   \n",
      "9997  37171  36.36655  ...        15281.214660      3     3     3     4   \n",
      "9998  57775  44.10354  ...         7781.678412      5     5     3     4   \n",
      "9999  15108  40.49998  ...        11643.189930      4     3     3     2   \n",
      "\n",
      "      Item5  Item6 Item7 Item8  health_score  \n",
      "0         4      3     3     4             6  \n",
      "1         4      4     3     3             2  \n",
      "2         3      4     3     3             2  \n",
      "3         4      5     5     5             4  \n",
      "4         5      3     4     3             2  \n",
      "...     ...    ...   ...   ...           ...  \n",
      "9995      4      3     4     2             2  \n",
      "9996      5      3     4     4             4  \n",
      "9997      4      2     3     2             2  \n",
      "9998      4      3     4     3             1  \n",
      "9999      3      6     4     3             3  \n",
      "\n",
      "[10000 rows x 54 columns]\n"
     ]
    }
   ],
   "source": [
    "print(df)"
   ]
  },
  {
   "cell_type": "code",
   "execution_count": 14,
   "id": "58ab64c0-732a-4ac0-81a0-e470e121c6d4",
   "metadata": {},
   "outputs": [],
   "source": [
    "import numpy as np\n",
    "import scipy.stats as stats"
   ]
  },
  {
   "cell_type": "code",
   "execution_count": 15,
   "id": "607e8bce-dbdf-44e3-982a-39dbd3f37a83",
   "metadata": {
    "tags": []
   },
   "outputs": [],
   "source": [
    "hs_col_4z=df.loc[ : , 'health_score']\n"
   ]
  },
  {
   "cell_type": "code",
   "execution_count": 16,
   "id": "33809df7-ac3b-4674-a221-0bc73cc46695",
   "metadata": {
    "tags": []
   },
   "outputs": [
    {
     "name": "stdout",
     "output_type": "stream",
     "text": [
      "0       6\n",
      "1       2\n",
      "2       2\n",
      "3       4\n",
      "4       2\n",
      "       ..\n",
      "9995    2\n",
      "9996    4\n",
      "9997    2\n",
      "9998    1\n",
      "9999    3\n",
      "Name: health_score, Length: 10000, dtype: int64\n"
     ]
    }
   ],
   "source": [
    "print(hs_col_4z)"
   ]
  },
  {
   "cell_type": "code",
   "execution_count": 17,
   "id": "d43d631b-a93a-4671-88d2-24602fccfdbc",
   "metadata": {
    "tags": []
   },
   "outputs": [
    {
     "data": {
      "text/plain": [
       "0    2.064949\n",
       "1   -0.768600\n",
       "2   -0.768600\n",
       "3    0.648175\n",
       "4   -0.768600\n",
       "Name: zscore_hs, dtype: float64"
      ]
     },
     "execution_count": 17,
     "metadata": {},
     "output_type": "execute_result"
    }
   ],
   "source": [
    "df['zscore_hs']=stats.zscore(hs_col_4z)\n",
    "df['zscore_hs'].head()"
   ]
  },
  {
   "cell_type": "code",
   "execution_count": 18,
   "id": "f16a64ee-6587-416b-9570-3c5739715050",
   "metadata": {},
   "outputs": [],
   "source": [
    "dv_col_4z=df.loc[ : , 'Doc_visits']"
   ]
  },
  {
   "cell_type": "code",
   "execution_count": 19,
   "id": "f7abf09c-9520-409a-b724-9a138b26e720",
   "metadata": {
    "tags": []
   },
   "outputs": [
    {
     "name": "stdout",
     "output_type": "stream",
     "text": [
      "0       6\n",
      "1       4\n",
      "2       4\n",
      "3       4\n",
      "4       5\n",
      "       ..\n",
      "9995    4\n",
      "9996    5\n",
      "9997    4\n",
      "9998    5\n",
      "9999    5\n",
      "Name: Doc_visits, Length: 10000, dtype: int64\n"
     ]
    }
   ],
   "source": [
    "print(dv_col_4z)"
   ]
  },
  {
   "cell_type": "code",
   "execution_count": 20,
   "id": "b504b1e5-cd0e-49ff-9229-ebd36f14608e",
   "metadata": {
    "tags": []
   },
   "outputs": [
    {
     "data": {
      "text/plain": [
       "0    0.944647\n",
       "1   -0.967981\n",
       "2   -0.967981\n",
       "3   -0.967981\n",
       "4   -0.011667\n",
       "Name: zscore_dv, dtype: float64"
      ]
     },
     "execution_count": 20,
     "metadata": {},
     "output_type": "execute_result"
    }
   ],
   "source": [
    "df['zscore_dv']=stats.zscore(dv_col_4z)\n",
    "df['zscore_dv'].head()"
   ]
  },
  {
   "cell_type": "code",
   "execution_count": 21,
   "id": "ef0a44b2-3dda-4b86-b2f7-9bfdc05d6917",
   "metadata": {
    "tags": []
   },
   "outputs": [
    {
     "name": "stdout",
     "output_type": "stream",
     "text": [
      "<class 'pandas.core.frame.DataFrame'>\n",
      "RangeIndex: 10000 entries, 0 to 9999\n",
      "Data columns (total 56 columns):\n",
      " #   Column              Non-Null Count  Dtype  \n",
      "---  ------              --------------  -----  \n",
      " 0   Unnamed: 0          10000 non-null  int64  \n",
      " 1   CaseOrder           10000 non-null  int64  \n",
      " 2   Customer_id         10000 non-null  object \n",
      " 3   Interaction         10000 non-null  object \n",
      " 4   UID                 10000 non-null  object \n",
      " 5   City                10000 non-null  object \n",
      " 6   State               10000 non-null  object \n",
      " 7   County              10000 non-null  object \n",
      " 8   Zip                 10000 non-null  int64  \n",
      " 9   Lat                 10000 non-null  float64\n",
      " 10  Lng                 10000 non-null  float64\n",
      " 11  Population          10000 non-null  int64  \n",
      " 12  Area                10000 non-null  object \n",
      " 13  Timezone            10000 non-null  object \n",
      " 14  Job                 10000 non-null  object \n",
      " 15  Children            7412 non-null   float64\n",
      " 16  Age                 7586 non-null   float64\n",
      " 17  Education           10000 non-null  object \n",
      " 18  Employment          10000 non-null  object \n",
      " 19  Income              7536 non-null   float64\n",
      " 20  Marital             10000 non-null  object \n",
      " 21  Gender              10000 non-null  object \n",
      " 22  ReAdmis             10000 non-null  object \n",
      " 23  VitD_levels         10000 non-null  float64\n",
      " 24  Doc_visits          10000 non-null  int64  \n",
      " 25  Full_meals_eaten    10000 non-null  int64  \n",
      " 26  VitD_supp           10000 non-null  int64  \n",
      " 27  Soft_drink          7533 non-null   object \n",
      " 28  Initial_admin       10000 non-null  object \n",
      " 29  HighBlood           10000 non-null  int64  \n",
      " 30  Stroke              10000 non-null  int64  \n",
      " 31  Complication_risk   10000 non-null  object \n",
      " 32  Overweight          9018 non-null   float64\n",
      " 33  Arthritis           10000 non-null  int64  \n",
      " 34  Diabetes            10000 non-null  int64  \n",
      " 35  Hyperlipidemia      10000 non-null  int64  \n",
      " 36  BackPain            10000 non-null  int64  \n",
      " 37  Anxiety             9016 non-null   float64\n",
      " 38  Allergic_rhinitis   10000 non-null  int64  \n",
      " 39  Reflux_esophagitis  10000 non-null  int64  \n",
      " 40  Asthma              10000 non-null  int64  \n",
      " 41  Services            10000 non-null  object \n",
      " 42  Initial_days        8944 non-null   float64\n",
      " 43  TotalCharge         10000 non-null  float64\n",
      " 44  Additional_charges  10000 non-null  float64\n",
      " 45  Item1               10000 non-null  int64  \n",
      " 46  Item2               10000 non-null  int64  \n",
      " 47  Item3               10000 non-null  int64  \n",
      " 48  Item4               10000 non-null  int64  \n",
      " 49  Item5               10000 non-null  int64  \n",
      " 50  Item6               10000 non-null  int64  \n",
      " 51  Item7               10000 non-null  int64  \n",
      " 52  Item8               10000 non-null  int64  \n",
      " 53  health_score        10000 non-null  int64  \n",
      " 54  zscore_hs           10000 non-null  float64\n",
      " 55  zscore_dv           10000 non-null  float64\n",
      "dtypes: float64(13), int64(25), object(18)\n",
      "memory usage: 4.3+ MB\n"
     ]
    }
   ],
   "source": [
    "df.info()"
   ]
  },
  {
   "cell_type": "code",
   "execution_count": 22,
   "id": "a83bc645-060b-4409-ab88-0efbb3f91282",
   "metadata": {},
   "outputs": [],
   "source": [
    "import matplotlib.mlab as mlab\n",
    "import matplotlib.pyplot as plt"
   ]
  },
  {
   "cell_type": "code",
   "execution_count": 23,
   "id": "76526240-6c23-44a2-97d8-233d9c8d7a8a",
   "metadata": {
    "tags": []
   },
   "outputs": [
    {
     "data": {
      "text/plain": [
       "array([[<AxesSubplot:title={'center':'health_score'}>]], dtype=object)"
      ]
     },
     "execution_count": 23,
     "metadata": {},
     "output_type": "execute_result"
    },
    {
     "data": {
      "image/png": "[encoded data removed]",
      "text/plain": [
       "<Figure size 432x288 with 1 Axes>"
      ]
     },
     "metadata": {
      "needs_background": "light"
     },
     "output_type": "display_data"
    }
   ],
   "source": [
    "df.hist(['health_score'])"
   ]
  },
  {
   "cell_type": "code",
   "execution_count": 24,
   "id": "c7ae07fe-cffa-4f41-8891-95978d5dc508",
   "metadata": {
    "tags": []
   },
   "outputs": [
    {
     "data": {
      "text/plain": [
       "<AxesSubplot:>"
      ]
     },
     "execution_count": 24,
     "metadata": {},
     "output_type": "execute_result"
    },
    {
     "data": {
      "image/png": "[encoded data removed]",
      "text/plain": [
       "<Figure size 432x288 with 1 Axes>"
      ]
     },
     "metadata": {
      "needs_background": "light"
     },
     "output_type": "display_data"
    }
   ],
   "source": [
    "df.boxplot(['health_score'])"
   ]
  },
  {
   "cell_type": "code",
   "execution_count": 25,
   "id": "f9daafa6-296c-4123-bd86-1bbf33cbcf0d",
   "metadata": {
    "tags": []
   },
   "outputs": [
    {
     "data": {
      "text/plain": [
       "array([[<AxesSubplot:title={'center':'Doc_visits'}>]], dtype=object)"
      ]
     },
     "execution_count": 25,
     "metadata": {},
     "output_type": "execute_result"
    },
    {
     "data": {
      "image/png": "[encoded data removed]",
      "text/plain": [
       "<Figure size 432x288 with 1 Axes>"
      ]
     },
     "metadata": {
      "needs_background": "light"
     },
     "output_type": "display_data"
    }
   ],
   "source": [
    "df.hist(['Doc_visits'])"
   ]
  },
  {
   "cell_type": "code",
   "execution_count": 26,
   "id": "047fde8e-eec7-412d-92d9-72f428d100fa",
   "metadata": {
    "tags": []
   },
   "outputs": [
    {
     "data": {
      "text/plain": [
       "<AxesSubplot:>"
      ]
     },
     "execution_count": 26,
     "metadata": {},
     "output_type": "execute_result"
    },
    {
     "data": {
      "image/png": "[encoded data removed]",
      "text/plain": [
       "<Figure size 432x288 with 1 Axes>"
      ]
     },
     "metadata": {
      "needs_background": "light"
     },
     "output_type": "display_data"
    }
   ],
   "source": [
    "df.boxplot(['Doc_visits'])"
   ]
  },
  {
   "cell_type": "code",
   "execution_count": 27,
   "id": "84de486a-3f74-428f-970c-740350174aab",
   "metadata": {
    "tags": []
   },
   "outputs": [
    {
     "data": {
      "text/plain": [
       "True"
      ]
     },
     "execution_count": 27,
     "metadata": {},
     "output_type": "execute_result"
    }
   ],
   "source": [
    "df['health_score'].notnull().any()"
   ]
  },
  {
   "cell_type": "code",
   "execution_count": 28,
   "id": "ae2dfcb4-6190-4723-b3ff-99166e735951",
   "metadata": {
    "tags": []
   },
   "outputs": [
    {
     "data": {
      "text/plain": [
       "True"
      ]
     },
     "execution_count": 28,
     "metadata": {},
     "output_type": "execute_result"
    }
   ],
   "source": [
    "df['Doc_visits'].notnull().any()"
   ]
  },
  {
   "cell_type": "code",
   "execution_count": 29,
   "id": "759b5ece-2248-4587-9c10-d7e8b4d9c2d5",
   "metadata": {
    "tags": []
   },
   "outputs": [
    {
     "name": "stdout",
     "output_type": "stream",
     "text": [
      "<class 'pandas.core.frame.DataFrame'>\n",
      "RangeIndex: 10000 entries, 0 to 9999\n",
      "Data columns (total 56 columns):\n",
      " #   Column              Non-Null Count  Dtype  \n",
      "---  ------              --------------  -----  \n",
      " 0   Unnamed: 0          10000 non-null  int64  \n",
      " 1   CaseOrder           10000 non-null  int64  \n",
      " 2   Customer_id         10000 non-null  object \n",
      " 3   Interaction         10000 non-null  object \n",
      " 4   UID                 10000 non-null  object \n",
      " 5   City                10000 non-null  object \n",
      " 6   State               10000 non-null  object \n",
      " 7   County              10000 non-null  object \n",
      " 8   Zip                 10000 non-null  int64  \n",
      " 9   Lat                 10000 non-null  float64\n",
      " 10  Lng                 10000 non-null  float64\n",
      " 11  Population          10000 non-null  int64  \n",
      " 12  Area                10000 non-null  object \n",
      " 13  Timezone            10000 non-null  object \n",
      " 14  Job                 10000 non-null  object \n",
      " 15  Children            7412 non-null   float64\n",
      " 16  Age                 7586 non-null   float64\n",
      " 17  Education           10000 non-null  object \n",
      " 18  Employment          10000 non-null  object \n",
      " 19  Income              7536 non-null   float64\n",
      " 20  Marital             10000 non-null  object \n",
      " 21  Gender              10000 non-null  object \n",
      " 22  ReAdmis             10000 non-null  object \n",
      " 23  VitD_levels         10000 non-null  float64\n",
      " 24  Doc_visits          10000 non-null  int64  \n",
      " 25  Full_meals_eaten    10000 non-null  int64  \n",
      " 26  VitD_supp           10000 non-null  int64  \n",
      " 27  Soft_drink          7533 non-null   object \n",
      " 28  Initial_admin       10000 non-null  object \n",
      " 29  HighBlood           10000 non-null  int64  \n",
      " 30  Stroke              10000 non-null  int64  \n",
      " 31  Complication_risk   10000 non-null  object \n",
      " 32  Overweight          9018 non-null   float64\n",
      " 33  Arthritis           10000 non-null  int64  \n",
      " 34  Diabetes            10000 non-null  int64  \n",
      " 35  Hyperlipidemia      10000 non-null  int64  \n",
      " 36  BackPain            10000 non-null  int64  \n",
      " 37  Anxiety             9016 non-null   float64\n",
      " 38  Allergic_rhinitis   10000 non-null  int64  \n",
      " 39  Reflux_esophagitis  10000 non-null  int64  \n",
      " 40  Asthma              10000 non-null  int64  \n",
      " 41  Services            10000 non-null  object \n",
      " 42  Initial_days        8944 non-null   float64\n",
      " 43  TotalCharge         10000 non-null  float64\n",
      " 44  Additional_charges  10000 non-null  float64\n",
      " 45  Item1               10000 non-null  int64  \n",
      " 46  Item2               10000 non-null  int64  \n",
      " 47  Item3               10000 non-null  int64  \n",
      " 48  Item4               10000 non-null  int64  \n",
      " 49  Item5               10000 non-null  int64  \n",
      " 50  Item6               10000 non-null  int64  \n",
      " 51  Item7               10000 non-null  int64  \n",
      " 52  Item8               10000 non-null  int64  \n",
      " 53  health_score        10000 non-null  int64  \n",
      " 54  zscore_hs           10000 non-null  float64\n",
      " 55  zscore_dv           10000 non-null  float64\n",
      "dtypes: float64(13), int64(25), object(18)\n",
      "memory usage: 4.3+ MB\n"
     ]
    }
   ],
   "source": [
    "df.info()"
   ]
  },
  {
   "cell_type": "code",
   "execution_count": 30,
   "id": "068dff91-0934-4024-a25a-46aecdad9194",
   "metadata": {
    "tags": []
   },
   "outputs": [
    {
     "data": {
      "text/plain": [
       "array([[<AxesSubplot:title={'center':'zscore_hs'}>]], dtype=object)"
      ]
     },
     "execution_count": 30,
     "metadata": {},
     "output_type": "execute_result"
    },
    {
     "data": {
      "image/png": "[encoded data removed]",
      "text/plain": [
       "<Figure size 432x288 with 1 Axes>"
      ]
     },
     "metadata": {
      "needs_background": "light"
     },
     "output_type": "display_data"
    }
   ],
   "source": [
    "df.hist(['zscore_hs'])"
   ]
  },
  {
   "cell_type": "code",
   "execution_count": 31,
   "id": "c8a096f5-c771-43ef-aad0-7c6b152767f9",
   "metadata": {
    "tags": []
   },
   "outputs": [
    {
     "data": {
      "text/plain": [
       "array([[<AxesSubplot:title={'center':'zscore_dv'}>]], dtype=object)"
      ]
     },
     "execution_count": 31,
     "metadata": {},
     "output_type": "execute_result"
    },
    {
     "data": {
      "image/png": "[encoded data removed]",
      "text/plain": [
       "<Figure size 432x288 with 1 Axes>"
      ]
     },
     "metadata": {
      "needs_background": "light"
     },
     "output_type": "display_data"
    }
   ],
   "source": [
    "df.hist(['zscore_dv'])"
   ]
  },
  {
   "cell_type": "code",
   "execution_count": 32,
   "id": "442e133e-3607-48fa-bc0c-0ffa938a94de",
   "metadata": {
    "tags": []
   },
   "outputs": [
    {
     "name": "stdout",
     "output_type": "stream",
     "text": [
      "<class 'pandas.core.frame.DataFrame'>\n",
      "RangeIndex: 10000 entries, 0 to 9999\n",
      "Data columns (total 56 columns):\n",
      " #   Column              Non-Null Count  Dtype  \n",
      "---  ------              --------------  -----  \n",
      " 0   Unnamed: 0          10000 non-null  int64  \n",
      " 1   CaseOrder           10000 non-null  int64  \n",
      " 2   Customer_id         10000 non-null  object \n",
      " 3   Interaction         10000 non-null  object \n",
      " 4   UID                 10000 non-null  object \n",
      " 5   City                10000 non-null  object \n",
      " 6   State               10000 non-null  object \n",
      " 7   County              10000 non-null  object \n",
      " 8   Zip                 10000 non-null  int64  \n",
      " 9   Lat                 10000 non-null  float64\n",
      " 10  Lng                 10000 non-null  float64\n",
      " 11  Population          10000 non-null  int64  \n",
      " 12  Area                10000 non-null  object \n",
      " 13  Timezone            10000 non-null  object \n",
      " 14  Job                 10000 non-null  object \n",
      " 15  Children            7412 non-null   float64\n",
      " 16  Age                 7586 non-null   float64\n",
      " 17  Education           10000 non-null  object \n",
      " 18  Employment          10000 non-null  object \n",
      " 19  Income              7536 non-null   float64\n",
      " 20  Marital             10000 non-null  object \n",
      " 21  Gender              10000 non-null  object \n",
      " 22  ReAdmis             10000 non-null  object \n",
      " 23  VitD_levels         10000 non-null  float64\n",
      " 24  Doc_visits          10000 non-null  int64  \n",
      " 25  Full_meals_eaten    10000 non-null  int64  \n",
      " 26  VitD_supp           10000 non-null  int64  \n",
      " 27  Soft_drink          7533 non-null   object \n",
      " 28  Initial_admin       10000 non-null  object \n",
      " 29  HighBlood           10000 non-null  int64  \n",
      " 30  Stroke              10000 non-null  int64  \n",
      " 31  Complication_risk   10000 non-null  object \n",
      " 32  Overweight          9018 non-null   float64\n",
      " 33  Arthritis           10000 non-null  int64  \n",
      " 34  Diabetes            10000 non-null  int64  \n",
      " 35  Hyperlipidemia      10000 non-null  int64  \n",
      " 36  BackPain            10000 non-null  int64  \n",
      " 37  Anxiety             9016 non-null   float64\n",
      " 38  Allergic_rhinitis   10000 non-null  int64  \n",
      " 39  Reflux_esophagitis  10000 non-null  int64  \n",
      " 40  Asthma              10000 non-null  int64  \n",
      " 41  Services            10000 non-null  object \n",
      " 42  Initial_days        8944 non-null   float64\n",
      " 43  TotalCharge         10000 non-null  float64\n",
      " 44  Additional_charges  10000 non-null  float64\n",
      " 45  Item1               10000 non-null  int64  \n",
      " 46  Item2               10000 non-null  int64  \n",
      " 47  Item3               10000 non-null  int64  \n",
      " 48  Item4               10000 non-null  int64  \n",
      " 49  Item5               10000 non-null  int64  \n",
      " 50  Item6               10000 non-null  int64  \n",
      " 51  Item7               10000 non-null  int64  \n",
      " 52  Item8               10000 non-null  int64  \n",
      " 53  health_score        10000 non-null  int64  \n",
      " 54  zscore_hs           10000 non-null  float64\n",
      " 55  zscore_dv           10000 non-null  float64\n",
      "dtypes: float64(13), int64(25), object(18)\n",
      "memory usage: 4.3+ MB\n"
     ]
    }
   ],
   "source": [
    "df.info()"
   ]
  },
  {
   "cell_type": "code",
   "execution_count": 33,
   "id": "09226dc4-f0f8-4a77-8565-09ed635c7c1a",
   "metadata": {
    "tags": []
   },
   "outputs": [],
   "source": [
    "df['zscore_dv'] = df['zscore_dv'].astype(int)"
   ]
  },
  {
   "cell_type": "code",
   "execution_count": 34,
   "id": "83f3451e-418c-4877-ba0b-395707a53102",
   "metadata": {
    "tags": []
   },
   "outputs": [
    {
     "name": "stdout",
     "output_type": "stream",
     "text": [
      "<class 'pandas.core.frame.DataFrame'>\n",
      "RangeIndex: 10000 entries, 0 to 9999\n",
      "Data columns (total 56 columns):\n",
      " #   Column              Non-Null Count  Dtype  \n",
      "---  ------              --------------  -----  \n",
      " 0   Unnamed: 0          10000 non-null  int64  \n",
      " 1   CaseOrder           10000 non-null  int64  \n",
      " 2   Customer_id         10000 non-null  object \n",
      " 3   Interaction         10000 non-null  object \n",
      " 4   UID                 10000 non-null  object \n",
      " 5   City                10000 non-null  object \n",
      " 6   State               10000 non-null  object \n",
      " 7   County              10000 non-null  object \n",
      " 8   Zip                 10000 non-null  int64  \n",
      " 9   Lat                 10000 non-null  float64\n",
      " 10  Lng                 10000 non-null  float64\n",
      " 11  Population          10000 non-null  int64  \n",
      " 12  Area                10000 non-null  object \n",
      " 13  Timezone            10000 non-null  object \n",
      " 14  Job                 10000 non-null  object \n",
      " 15  Children            7412 non-null   float64\n",
      " 16  Age                 7586 non-null   float64\n",
      " 17  Education           10000 non-null  object \n",
      " 18  Employment          10000 non-null  object \n",
      " 19  Income              7536 non-null   float64\n",
      " 20  Marital             10000 non-null  object \n",
      " 21  Gender              10000 non-null  object \n",
      " 22  ReAdmis             10000 non-null  object \n",
      " 23  VitD_levels         10000 non-null  float64\n",
      " 24  Doc_visits          10000 non-null  int64  \n",
      " 25  Full_meals_eaten    10000 non-null  int64  \n",
      " 26  VitD_supp           10000 non-null  int64  \n",
      " 27  Soft_drink          7533 non-null   object \n",
      " 28  Initial_admin       10000 non-null  object \n",
      " 29  HighBlood           10000 non-null  int64  \n",
      " 30  Stroke              10000 non-null  int64  \n",
      " 31  Complication_risk   10000 non-null  object \n",
      " 32  Overweight          9018 non-null   float64\n",
      " 33  Arthritis           10000 non-null  int64  \n",
      " 34  Diabetes            10000 non-null  int64  \n",
      " 35  Hyperlipidemia      10000 non-null  int64  \n",
      " 36  BackPain            10000 non-null  int64  \n",
      " 37  Anxiety             9016 non-null   float64\n",
      " 38  Allergic_rhinitis   10000 non-null  int64  \n",
      " 39  Reflux_esophagitis  10000 non-null  int64  \n",
      " 40  Asthma              10000 non-null  int64  \n",
      " 41  Services            10000 non-null  object \n",
      " 42  Initial_days        8944 non-null   float64\n",
      " 43  TotalCharge         10000 non-null  float64\n",
      " 44  Additional_charges  10000 non-null  float64\n",
      " 45  Item1               10000 non-null  int64  \n",
      " 46  Item2               10000 non-null  int64  \n",
      " 47  Item3               10000 non-null  int64  \n",
      " 48  Item4               10000 non-null  int64  \n",
      " 49  Item5               10000 non-null  int64  \n",
      " 50  Item6               10000 non-null  int64  \n",
      " 51  Item7               10000 non-null  int64  \n",
      " 52  Item8               10000 non-null  int64  \n",
      " 53  health_score        10000 non-null  int64  \n",
      " 54  zscore_hs           10000 non-null  float64\n",
      " 55  zscore_dv           10000 non-null  int32  \n",
      "dtypes: float64(12), int32(1), int64(25), object(18)\n",
      "memory usage: 4.2+ MB\n"
     ]
    }
   ],
   "source": [
    "df.info()"
   ]
  },
  {
   "cell_type": "code",
   "execution_count": 35,
   "id": "440a0ae1-1d4f-4e7a-a573-76dbf5ddb3e0",
   "metadata": {
    "tags": []
   },
   "outputs": [
    {
     "name": "stdout",
     "output_type": "stream",
     "text": [
      "<class 'pandas.core.frame.DataFrame'>\n",
      "RangeIndex: 10000 entries, 0 to 9999\n",
      "Data columns (total 56 columns):\n",
      " #   Column              Non-Null Count  Dtype  \n",
      "---  ------              --------------  -----  \n",
      " 0   Unnamed: 0          10000 non-null  int64  \n",
      " 1   CaseOrder           10000 non-null  int64  \n",
      " 2   Customer_id         10000 non-null  object \n",
      " 3   Interaction         10000 non-null  object \n",
      " 4   UID                 10000 non-null  object \n",
      " 5   City                10000 non-null  object \n",
      " 6   State               10000 non-null  object \n",
      " 7   County              10000 non-null  object \n",
      " 8   Zip                 10000 non-null  int64  \n",
      " 9   Lat                 10000 non-null  float64\n",
      " 10  Lng                 10000 non-null  float64\n",
      " 11  Population          10000 non-null  int64  \n",
      " 12  Area                10000 non-null  object \n",
      " 13  Timezone            10000 non-null  object \n",
      " 14  Job                 10000 non-null  object \n",
      " 15  Children            7412 non-null   float64\n",
      " 16  Age                 7586 non-null   float64\n",
      " 17  Education           10000 non-null  object \n",
      " 18  Employment          10000 non-null  object \n",
      " 19  Income              7536 non-null   float64\n",
      " 20  Marital             10000 non-null  object \n",
      " 21  Gender              10000 non-null  object \n",
      " 22  ReAdmis             10000 non-null  object \n",
      " 23  VitD_levels         10000 non-null  float64\n",
      " 24  Doc_visits          10000 non-null  int64  \n",
      " 25  Full_meals_eaten    10000 non-null  int64  \n",
      " 26  VitD_supp           10000 non-null  int64  \n",
      " 27  Soft_drink          7533 non-null   object \n",
      " 28  Initial_admin       10000 non-null  object \n",
      " 29  HighBlood           10000 non-null  int64  \n",
      " 30  Stroke              10000 non-null  int64  \n",
      " 31  Complication_risk   10000 non-null  object \n",
      " 32  Overweight          9018 non-null   float64\n",
      " 33  Arthritis           10000 non-null  int64  \n",
      " 34  Diabetes            10000 non-null  int64  \n",
      " 35  Hyperlipidemia      10000 non-null  int64  \n",
      " 36  BackPain            10000 non-null  int64  \n",
      " 37  Anxiety             9016 non-null   float64\n",
      " 38  Allergic_rhinitis   10000 non-null  int64  \n",
      " 39  Reflux_esophagitis  10000 non-null  int64  \n",
      " 40  Asthma              10000 non-null  int64  \n",
      " 41  Services            10000 non-null  object \n",
      " 42  Initial_days        8944 non-null   float64\n",
      " 43  TotalCharge         10000 non-null  float64\n",
      " 44  Additional_charges  10000 non-null  float64\n",
      " 45  Item1               10000 non-null  int64  \n",
      " 46  Item2               10000 non-null  int64  \n",
      " 47  Item3               10000 non-null  int64  \n",
      " 48  Item4               10000 non-null  int64  \n",
      " 49  Item5               10000 non-null  int64  \n",
      " 50  Item6               10000 non-null  int64  \n",
      " 51  Item7               10000 non-null  int64  \n",
      " 52  Item8               10000 non-null  int64  \n",
      " 53  health_score        10000 non-null  int64  \n",
      " 54  zscore_hs           10000 non-null  int32  \n",
      " 55  zscore_dv           10000 non-null  int32  \n",
      "dtypes: float64(11), int32(2), int64(25), object(18)\n",
      "memory usage: 4.2+ MB\n"
     ]
    }
   ],
   "source": [
    "df['zscore_hs'] = df['zscore_hs'].astype(int)\n",
    "df.info()"
   ]
  },
  {
   "cell_type": "code",
   "execution_count": 36,
   "id": "fd1a3148-bede-4652-ac75-173448cd00b0",
   "metadata": {
    "tags": []
   },
   "outputs": [
    {
     "name": "stdout",
     "output_type": "stream",
     "text": [
      "<class 'pandas.core.frame.DataFrame'>\n",
      "Int64Index: 9999 entries, 0 to 9999\n",
      "Data columns (total 56 columns):\n",
      " #   Column              Non-Null Count  Dtype  \n",
      "---  ------              --------------  -----  \n",
      " 0   Unnamed: 0          9999 non-null   int64  \n",
      " 1   CaseOrder           9999 non-null   int64  \n",
      " 2   Customer_id         9999 non-null   object \n",
      " 3   Interaction         9999 non-null   object \n",
      " 4   UID                 9999 non-null   object \n",
      " 5   City                9999 non-null   object \n",
      " 6   State               9999 non-null   object \n",
      " 7   County              9999 non-null   object \n",
      " 8   Zip                 9999 non-null   int64  \n",
      " 9   Lat                 9999 non-null   float64\n",
      " 10  Lng                 9999 non-null   float64\n",
      " 11  Population          9999 non-null   int64  \n",
      " 12  Area                9999 non-null   object \n",
      " 13  Timezone            9999 non-null   object \n",
      " 14  Job                 9999 non-null   object \n",
      " 15  Children            7411 non-null   float64\n",
      " 16  Age                 7585 non-null   float64\n",
      " 17  Education           9999 non-null   object \n",
      " 18  Employment          9999 non-null   object \n",
      " 19  Income              7536 non-null   float64\n",
      " 20  Marital             9999 non-null   object \n",
      " 21  Gender              9999 non-null   object \n",
      " 22  ReAdmis             9999 non-null   object \n",
      " 23  VitD_levels         9999 non-null   float64\n",
      " 24  Doc_visits          9999 non-null   int64  \n",
      " 25  Full_meals_eaten    9999 non-null   int64  \n",
      " 26  VitD_supp           9999 non-null   int64  \n",
      " 27  Soft_drink          7533 non-null   object \n",
      " 28  Initial_admin       9999 non-null   object \n",
      " 29  HighBlood           9999 non-null   int64  \n",
      " 30  Stroke              9999 non-null   int64  \n",
      " 31  Complication_risk   9999 non-null   object \n",
      " 32  Overweight          9017 non-null   float64\n",
      " 33  Arthritis           9999 non-null   int64  \n",
      " 34  Diabetes            9999 non-null   int64  \n",
      " 35  Hyperlipidemia      9999 non-null   int64  \n",
      " 36  BackPain            9999 non-null   int64  \n",
      " 37  Anxiety             9016 non-null   float64\n",
      " 38  Allergic_rhinitis   9999 non-null   int64  \n",
      " 39  Reflux_esophagitis  9999 non-null   int64  \n",
      " 40  Asthma              9999 non-null   int64  \n",
      " 41  Services            9999 non-null   object \n",
      " 42  Initial_days        8943 non-null   float64\n",
      " 43  TotalCharge         9999 non-null   float64\n",
      " 44  Additional_charges  9999 non-null   float64\n",
      " 45  Item1               9999 non-null   int64  \n",
      " 46  Item2               9999 non-null   int64  \n",
      " 47  Item3               9999 non-null   int64  \n",
      " 48  Item4               9999 non-null   int64  \n",
      " 49  Item5               9999 non-null   int64  \n",
      " 50  Item6               9999 non-null   int64  \n",
      " 51  Item7               9999 non-null   int64  \n",
      " 52  Item8               9999 non-null   int64  \n",
      " 53  health_score        9999 non-null   int64  \n",
      " 54  zscore_hs           9999 non-null   int32  \n",
      " 55  zscore_dv           9999 non-null   int32  \n",
      "dtypes: float64(11), int32(2), int64(25), object(18)\n",
      "memory usage: 4.3+ MB\n"
     ]
    }
   ],
   "source": [
    "df.drop(df[df['zscore_hs'] > 3].index, inplace=True)\n",
    "df.info()"
   ]
  },
  {
   "cell_type": "code",
   "execution_count": 37,
   "id": "c1cbacc6-69a7-4121-812d-208adb4f59a4",
   "metadata": {
    "tags": []
   },
   "outputs": [
    {
     "name": "stdout",
     "output_type": "stream",
     "text": [
      "<class 'pandas.core.frame.DataFrame'>\n",
      "Int64Index: 9999 entries, 0 to 9999\n",
      "Data columns (total 56 columns):\n",
      " #   Column              Non-Null Count  Dtype  \n",
      "---  ------              --------------  -----  \n",
      " 0   Unnamed: 0          9999 non-null   int64  \n",
      " 1   CaseOrder           9999 non-null   int64  \n",
      " 2   Customer_id         9999 non-null   object \n",
      " 3   Interaction         9999 non-null   object \n",
      " 4   UID                 9999 non-null   object \n",
      " 5   City                9999 non-null   object \n",
      " 6   State               9999 non-null   object \n",
      " 7   County              9999 non-null   object \n",
      " 8   Zip                 9999 non-null   int64  \n",
      " 9   Lat                 9999 non-null   float64\n",
      " 10  Lng                 9999 non-null   float64\n",
      " 11  Population          9999 non-null   int64  \n",
      " 12  Area                9999 non-null   object \n",
      " 13  Timezone            9999 non-null   object \n",
      " 14  Job                 9999 non-null   object \n",
      " 15  Children            7411 non-null   float64\n",
      " 16  Age                 7585 non-null   float64\n",
      " 17  Education           9999 non-null   object \n",
      " 18  Employment          9999 non-null   object \n",
      " 19  Income              7536 non-null   float64\n",
      " 20  Marital             9999 non-null   object \n",
      " 21  Gender              9999 non-null   object \n",
      " 22  ReAdmis             9999 non-null   object \n",
      " 23  VitD_levels         9999 non-null   float64\n",
      " 24  Doc_visits          9999 non-null   int64  \n",
      " 25  Full_meals_eaten    9999 non-null   int64  \n",
      " 26  VitD_supp           9999 non-null   int64  \n",
      " 27  Soft_drink          7533 non-null   object \n",
      " 28  Initial_admin       9999 non-null   object \n",
      " 29  HighBlood           9999 non-null   int64  \n",
      " 30  Stroke              9999 non-null   int64  \n",
      " 31  Complication_risk   9999 non-null   object \n",
      " 32  Overweight          9017 non-null   float64\n",
      " 33  Arthritis           9999 non-null   int64  \n",
      " 34  Diabetes            9999 non-null   int64  \n",
      " 35  Hyperlipidemia      9999 non-null   int64  \n",
      " 36  BackPain            9999 non-null   int64  \n",
      " 37  Anxiety             9016 non-null   float64\n",
      " 38  Allergic_rhinitis   9999 non-null   int64  \n",
      " 39  Reflux_esophagitis  9999 non-null   int64  \n",
      " 40  Asthma              9999 non-null   int64  \n",
      " 41  Services            9999 non-null   object \n",
      " 42  Initial_days        8943 non-null   float64\n",
      " 43  TotalCharge         9999 non-null   float64\n",
      " 44  Additional_charges  9999 non-null   float64\n",
      " 45  Item1               9999 non-null   int64  \n",
      " 46  Item2               9999 non-null   int64  \n",
      " 47  Item3               9999 non-null   int64  \n",
      " 48  Item4               9999 non-null   int64  \n",
      " 49  Item5               9999 non-null   int64  \n",
      " 50  Item6               9999 non-null   int64  \n",
      " 51  Item7               9999 non-null   int64  \n",
      " 52  Item8               9999 non-null   int64  \n",
      " 53  health_score        9999 non-null   int64  \n",
      " 54  zscore_hs           9999 non-null   int32  \n",
      " 55  zscore_dv           9999 non-null   int32  \n",
      "dtypes: float64(11), int32(2), int64(25), object(18)\n",
      "memory usage: 4.5+ MB\n"
     ]
    }
   ],
   "source": [
    "df.drop(df[df['zscore_hs'] < -3].index, inplace=True)\n",
    "df.info()"
   ]
  },
  {
   "cell_type": "code",
   "execution_count": 38,
   "id": "10fbcd05-5f61-45a7-b865-119903368c13",
   "metadata": {
    "tags": []
   },
   "outputs": [
    {
     "name": "stdout",
     "output_type": "stream",
     "text": [
      "<class 'pandas.core.frame.DataFrame'>\n",
      "Int64Index: 9999 entries, 0 to 9999\n",
      "Data columns (total 56 columns):\n",
      " #   Column              Non-Null Count  Dtype  \n",
      "---  ------              --------------  -----  \n",
      " 0   Unnamed: 0          9999 non-null   int64  \n",
      " 1   CaseOrder           9999 non-null   int64  \n",
      " 2   Customer_id         9999 non-null   object \n",
      " 3   Interaction         9999 non-null   object \n",
      " 4   UID                 9999 non-null   object \n",
      " 5   City                9999 non-null   object \n",
      " 6   State               9999 non-null   object \n",
      " 7   County              9999 non-null   object \n",
      " 8   Zip                 9999 non-null   int64  \n",
      " 9   Lat                 9999 non-null   float64\n",
      " 10  Lng                 9999 non-null   float64\n",
      " 11  Population          9999 non-null   int64  \n",
      " 12  Area                9999 non-null   object \n",
      " 13  Timezone            9999 non-null   object \n",
      " 14  Job                 9999 non-null   object \n",
      " 15  Children            7411 non-null   float64\n",
      " 16  Age                 7585 non-null   float64\n",
      " 17  Education           9999 non-null   object \n",
      " 18  Employment          9999 non-null   object \n",
      " 19  Income              7536 non-null   float64\n",
      " 20  Marital             9999 non-null   object \n",
      " 21  Gender              9999 non-null   object \n",
      " 22  ReAdmis             9999 non-null   object \n",
      " 23  VitD_levels         9999 non-null   float64\n",
      " 24  Doc_visits          9999 non-null   int64  \n",
      " 25  Full_meals_eaten    9999 non-null   int64  \n",
      " 26  VitD_supp           9999 non-null   int64  \n",
      " 27  Soft_drink          7533 non-null   object \n",
      " 28  Initial_admin       9999 non-null   object \n",
      " 29  HighBlood           9999 non-null   int64  \n",
      " 30  Stroke              9999 non-null   int64  \n",
      " 31  Complication_risk   9999 non-null   object \n",
      " 32  Overweight          9017 non-null   float64\n",
      " 33  Arthritis           9999 non-null   int64  \n",
      " 34  Diabetes            9999 non-null   int64  \n",
      " 35  Hyperlipidemia      9999 non-null   int64  \n",
      " 36  BackPain            9999 non-null   int64  \n",
      " 37  Anxiety             9016 non-null   float64\n",
      " 38  Allergic_rhinitis   9999 non-null   int64  \n",
      " 39  Reflux_esophagitis  9999 non-null   int64  \n",
      " 40  Asthma              9999 non-null   int64  \n",
      " 41  Services            9999 non-null   object \n",
      " 42  Initial_days        8943 non-null   float64\n",
      " 43  TotalCharge         9999 non-null   float64\n",
      " 44  Additional_charges  9999 non-null   float64\n",
      " 45  Item1               9999 non-null   int64  \n",
      " 46  Item2               9999 non-null   int64  \n",
      " 47  Item3               9999 non-null   int64  \n",
      " 48  Item4               9999 non-null   int64  \n",
      " 49  Item5               9999 non-null   int64  \n",
      " 50  Item6               9999 non-null   int64  \n",
      " 51  Item7               9999 non-null   int64  \n",
      " 52  Item8               9999 non-null   int64  \n",
      " 53  health_score        9999 non-null   int64  \n",
      " 54  zscore_hs           9999 non-null   int32  \n",
      " 55  zscore_dv           9999 non-null   int32  \n",
      "dtypes: float64(11), int32(2), int64(25), object(18)\n",
      "memory usage: 4.5+ MB\n"
     ]
    }
   ],
   "source": [
    "df.drop(df[df['zscore_dv'] > 3].index, inplace=True)\n",
    "df.info()"
   ]
  },
  {
   "cell_type": "code",
   "execution_count": 39,
   "id": "c684350a-4465-4753-ac71-40dc1b530140",
   "metadata": {
    "tags": []
   },
   "outputs": [
    {
     "name": "stdout",
     "output_type": "stream",
     "text": [
      "<class 'pandas.core.frame.DataFrame'>\n",
      "Int64Index: 9999 entries, 0 to 9999\n",
      "Data columns (total 56 columns):\n",
      " #   Column              Non-Null Count  Dtype  \n",
      "---  ------              --------------  -----  \n",
      " 0   Unnamed: 0          9999 non-null   int64  \n",
      " 1   CaseOrder           9999 non-null   int64  \n",
      " 2   Customer_id         9999 non-null   object \n",
      " 3   Interaction         9999 non-null   object \n",
      " 4   UID                 9999 non-null   object \n",
      " 5   City                9999 non-null   object \n",
      " 6   State               9999 non-null   object \n",
      " 7   County              9999 non-null   object \n",
      " 8   Zip                 9999 non-null   int64  \n",
      " 9   Lat                 9999 non-null   float64\n",
      " 10  Lng                 9999 non-null   float64\n",
      " 11  Population          9999 non-null   int64  \n",
      " 12  Area                9999 non-null   object \n",
      " 13  Timezone            9999 non-null   object \n",
      " 14  Job                 9999 non-null   object \n",
      " 15  Children            7411 non-null   float64\n",
      " 16  Age                 7585 non-null   float64\n",
      " 17  Education           9999 non-null   object \n",
      " 18  Employment          9999 non-null   object \n",
      " 19  Income              7536 non-null   float64\n",
      " 20  Marital             9999 non-null   object \n",
      " 21  Gender              9999 non-null   object \n",
      " 22  ReAdmis             9999 non-null   object \n",
      " 23  VitD_levels         9999 non-null   float64\n",
      " 24  Doc_visits          9999 non-null   int64  \n",
      " 25  Full_meals_eaten    9999 non-null   int64  \n",
      " 26  VitD_supp           9999 non-null   int64  \n",
      " 27  Soft_drink          7533 non-null   object \n",
      " 28  Initial_admin       9999 non-null   object \n",
      " 29  HighBlood           9999 non-null   int64  \n",
      " 30  Stroke              9999 non-null   int64  \n",
      " 31  Complication_risk   9999 non-null   object \n",
      " 32  Overweight          9017 non-null   float64\n",
      " 33  Arthritis           9999 non-null   int64  \n",
      " 34  Diabetes            9999 non-null   int64  \n",
      " 35  Hyperlipidemia      9999 non-null   int64  \n",
      " 36  BackPain            9999 non-null   int64  \n",
      " 37  Anxiety             9016 non-null   float64\n",
      " 38  Allergic_rhinitis   9999 non-null   int64  \n",
      " 39  Reflux_esophagitis  9999 non-null   int64  \n",
      " 40  Asthma              9999 non-null   int64  \n",
      " 41  Services            9999 non-null   object \n",
      " 42  Initial_days        8943 non-null   float64\n",
      " 43  TotalCharge         9999 non-null   float64\n",
      " 44  Additional_charges  9999 non-null   float64\n",
      " 45  Item1               9999 non-null   int64  \n",
      " 46  Item2               9999 non-null   int64  \n",
      " 47  Item3               9999 non-null   int64  \n",
      " 48  Item4               9999 non-null   int64  \n",
      " 49  Item5               9999 non-null   int64  \n",
      " 50  Item6               9999 non-null   int64  \n",
      " 51  Item7               9999 non-null   int64  \n",
      " 52  Item8               9999 non-null   int64  \n",
      " 53  health_score        9999 non-null   int64  \n",
      " 54  zscore_hs           9999 non-null   int32  \n",
      " 55  zscore_dv           9999 non-null   int32  \n",
      "dtypes: float64(11), int32(2), int64(25), object(18)\n",
      "memory usage: 4.5+ MB\n"
     ]
    }
   ],
   "source": [
    "df.drop(df[df['zscore_dv'] < -3].index, inplace=True)\n",
    "df.info()"
   ]
  },
  {
   "cell_type": "code",
   "execution_count": 40,
   "id": "9bb7cec8-ddea-4cc5-8ae0-b5c13f4faa66",
   "metadata": {},
   "outputs": [],
   "source": [
    "from sklearn.decomposition import PCA"
   ]
  },
  {
   "cell_type": "code",
   "execution_count": 41,
   "id": "56c553ae-0857-41eb-accf-29652ee2a63a",
   "metadata": {},
   "outputs": [],
   "source": [
    "newdf = df[['Doc_visits', 'health_score', 'VitD_levels']]"
   ]
  },
  {
   "cell_type": "code",
   "execution_count": 42,
   "id": "6a56da2a-cf23-4c7d-9fab-326258099470",
   "metadata": {
    "tags": []
   },
   "outputs": [
    {
     "name": "stdout",
     "output_type": "stream",
     "text": [
      "      Doc_visits  health_score  VitD_levels\n",
      "0              6             6    17.802330\n",
      "1              4             2    18.994640\n",
      "2              4             2    17.415889\n",
      "3              4             4    17.420079\n",
      "4              5             2    16.870524\n",
      "...          ...           ...          ...\n",
      "9995           4             2    16.481612\n",
      "9996           5             4    18.451601\n",
      "9997           4             2    15.752751\n",
      "9998           5             1    21.956305\n",
      "9999           5             3    20.421883\n",
      "\n",
      "[9999 rows x 3 columns]\n"
     ]
    }
   ],
   "source": [
    "print(newdf)"
   ]
  },
  {
   "cell_type": "code",
   "execution_count": 43,
   "id": "b014b5a4-d693-4831-98b6-ee26b6ee95a9",
   "metadata": {
    "tags": []
   },
   "outputs": [
    {
     "data": {
      "text/html": [
       "<div>\n",
       "<style scoped>\n",
       "    .dataframe tbody tr th:only-of-type {\n",
       "        vertical-align: middle;\n",
       "    }\n",
       "\n",
       "    .dataframe tbody tr th {\n",
       "        vertical-align: top;\n",
       "    }\n",
       "\n",
       "    .dataframe thead th {\n",
       "        text-align: right;\n",
       "    }\n",
       "</style>\n",
       "<table border=\"1\" class=\"dataframe\">\n",
       "  <thead>\n",
       "    <tr style=\"text-align: right;\">\n",
       "      <th></th>\n",
       "      <th>Doc_visits</th>\n",
       "      <th>health_score</th>\n",
       "      <th>VitD_levels</th>\n",
       "    </tr>\n",
       "  </thead>\n",
       "  <tbody>\n",
       "    <tr>\n",
       "      <th>0</th>\n",
       "      <td>6</td>\n",
       "      <td>6</td>\n",
       "      <td>17.802330</td>\n",
       "    </tr>\n",
       "    <tr>\n",
       "      <th>1</th>\n",
       "      <td>4</td>\n",
       "      <td>2</td>\n",
       "      <td>18.994640</td>\n",
       "    </tr>\n",
       "    <tr>\n",
       "      <th>2</th>\n",
       "      <td>4</td>\n",
       "      <td>2</td>\n",
       "      <td>17.415889</td>\n",
       "    </tr>\n",
       "    <tr>\n",
       "      <th>3</th>\n",
       "      <td>4</td>\n",
       "      <td>4</td>\n",
       "      <td>17.420079</td>\n",
       "    </tr>\n",
       "    <tr>\n",
       "      <th>4</th>\n",
       "      <td>5</td>\n",
       "      <td>2</td>\n",
       "      <td>16.870524</td>\n",
       "    </tr>\n",
       "  </tbody>\n",
       "</table>\n",
       "</div>"
      ],
      "text/plain": [
       "   Doc_visits  health_score  VitD_levels\n",
       "0           6             6    17.802330\n",
       "1           4             2    18.994640\n",
       "2           4             2    17.415889\n",
       "3           4             4    17.420079\n",
       "4           5             2    16.870524"
      ]
     },
     "execution_count": 43,
     "metadata": {},
     "output_type": "execute_result"
    }
   ],
   "source": [
    "newdf.head()"
   ]
  },
  {
   "cell_type": "code",
   "execution_count": 44,
   "id": "88eeaa7e-e6a0-4165-974a-c94a0f8a5e6a",
   "metadata": {},
   "outputs": [],
   "source": [
    "newdf_normalized = (newdf-newdf.mean())/newdf.std()"
   ]
  },
  {
   "cell_type": "code",
   "execution_count": 45,
   "id": "49eadd0e-92ee-4242-aa5f-0336edf4dacc",
   "metadata": {},
   "outputs": [],
   "source": [
    "pca = PCA(n_components=newdf.shape[1])"
   ]
  },
  {
   "cell_type": "code",
   "execution_count": 46,
   "id": "46edb622-7e2d-436e-8d13-0f5eb7df7c4b",
   "metadata": {},
   "outputs": [],
   "source": [
    "pca.fit(newdf_normalized)\n",
    "newdf_pca=pd.DataFrame(pca.transform(newdf_normalized), columns=['pc1', 'pc2', 'pc3'])"
   ]
  },
  {
   "cell_type": "code",
   "execution_count": 47,
   "id": "43de8506-c620-4547-9289-974a96ef605b",
   "metadata": {},
   "outputs": [],
   "source": [
    "import matplotlib.pyplot as plt\n",
    "import seaborn as sns"
   ]
  },
  {
   "cell_type": "code",
   "execution_count": 48,
   "id": "5d008bee-6c95-44f9-ae17-784123bfaa0b",
   "metadata": {
    "tags": []
   },
   "outputs": [
    {
     "data": {
      "image/png": "[encoded data removed]",
      "text/plain": [
       "<Figure size 432x288 with 1 Axes>"
      ]
     },
     "metadata": {
      "needs_background": "light"
     },
     "output_type": "display_data"
    }
   ],
   "source": [
    "plt.plot(pca.explained_variance_ratio_)\n",
    "plt.xlabel('# of components')\n",
    "plt.ylabel('explained variance')\n",
    "plt.show()"
   ]
  },
  {
   "cell_type": "code",
   "execution_count": 49,
   "id": "363c07fc-5a0d-4d32-b04b-db82812bf120",
   "metadata": {},
   "outputs": [],
   "source": [
    "cov_matrix = np.dot(newdf_normalized.T, newdf_normalized) / newdf.shape[0]\n",
    "eigenvalues = [np.dot(eigenvector.T, np.dot(cov_matrix, eigenvector)) for eigenvector in pca.components_]"
   ]
  },
  {
   "cell_type": "code",
   "execution_count": 50,
   "id": "9acca4ef-edd4-4d15-928e-2641d87d2e18",
   "metadata": {
    "tags": []
   },
   "outputs": [
    {
     "data": {
      "image/png": "[encoded data removed]",
      "text/plain": [
       "<Figure size 432x288 with 1 Axes>"
      ]
     },
     "metadata": {
      "needs_background": "light"
     },
     "output_type": "display_data"
    }
   ],
   "source": [
    "plt.plot(eigenvalues)\n",
    "plt.xlabel('number of components')\n",
    "plt.ylabel('eigenvalues')\n",
    "plt.show()"
   ]
  },
  {
   "cell_type": "code",
   "execution_count": 51,
   "id": "babbecd1-0b0a-42c1-b110-5a0e6e362d2c",
   "metadata": {
    "tags": []
   },
   "outputs": [
    {
     "data": {
      "text/html": [
       "<div>\n",
       "<style scoped>\n",
       "    .dataframe tbody tr th:only-of-type {\n",
       "        vertical-align: middle;\n",
       "    }\n",
       "\n",
       "    .dataframe tbody tr th {\n",
       "        vertical-align: top;\n",
       "    }\n",
       "\n",
       "    .dataframe thead th {\n",
       "        text-align: right;\n",
       "    }\n",
       "</style>\n",
       "<table border=\"1\" class=\"dataframe\">\n",
       "  <thead>\n",
       "    <tr style=\"text-align: right;\">\n",
       "      <th></th>\n",
       "      <th>pc1</th>\n",
       "      <th>pc2</th>\n",
       "      <th>pc3</th>\n",
       "    </tr>\n",
       "  </thead>\n",
       "  <tbody>\n",
       "    <tr>\n",
       "      <th>Doc_visits</th>\n",
       "      <td>0.412976</td>\n",
       "      <td>-0.856269</td>\n",
       "      <td>0.310248</td>\n",
       "    </tr>\n",
       "    <tr>\n",
       "      <th>health_score</th>\n",
       "      <td>-0.683552</td>\n",
       "      <td>-0.066306</td>\n",
       "      <td>0.726884</td>\n",
       "    </tr>\n",
       "    <tr>\n",
       "      <th>VitD_levels</th>\n",
       "      <td>0.601837</td>\n",
       "      <td>0.512256</td>\n",
       "      <td>0.612687</td>\n",
       "    </tr>\n",
       "  </tbody>\n",
       "</table>\n",
       "</div>"
      ],
      "text/plain": [
       "                   pc1       pc2       pc3\n",
       "Doc_visits    0.412976 -0.856269  0.310248\n",
       "health_score -0.683552 -0.066306  0.726884\n",
       "VitD_levels   0.601837  0.512256  0.612687"
      ]
     },
     "execution_count": 51,
     "metadata": {},
     "output_type": "execute_result"
    }
   ],
   "source": [
    "loadings = pd.DataFrame(pca.components_.T,\n",
    "columns=['pc1', 'pc2', 'pc3'],\n",
    "index=newdf.columns) \n",
    "loadings"
   ]
  },
  {
   "cell_type": "code",
   "execution_count": 52,
   "id": "557dbc00-76e8-4c30-80f7-a2aa5bfac600",
   "metadata": {},
   "outputs": [],
   "source": [
    "df.to_csv(r'C:\\Users\\dre2\\Desktop\\cleaned_data.csv', index = False)"
   ]
  },
  {
   "cell_type": "code",
   "execution_count": null,
   "id": "8eff2a50-74b1-48d4-9e7b-93aecbdf07da",
   "metadata": {},
   "outputs": [],
   "source": []
  }
 ],
 "metadata": {
  "kernelspec": {
   "display_name": "Python 3 (ipykernel)",
   "language": "python",
   "name": "python3"
  },
  "language_info": {
   "codemirror_mode": {
    "name": "ipython",
    "version": 3
   },
   "file_extension": ".py",
   "mimetype": "text/x-python",
   "name": "python",
   "nbconvert_exporter": "python",
   "pygments_lexer": "ipython3",
   "version": "3.8.13"
  }
 },
 "nbformat": 4,
 "nbformat_minor": 5
}
