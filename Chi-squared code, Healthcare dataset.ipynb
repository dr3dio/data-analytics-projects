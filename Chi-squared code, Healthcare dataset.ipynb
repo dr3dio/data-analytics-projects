{
 "cells": [
  {
   "cell_type": "code",
   "execution_count": 1,
   "id": "4ef55c64-5281-4a75-be46-4b99a315353b",
   "metadata": {},
   "outputs": [
    {
     "name": "stdout",
     "output_type": "stream",
     "text": [
      "      CaseOrder Customer_id                           Interaction  \\\n",
      "0             1     C412403  8cd49b13-f45a-4b47-a2bd-173ffa932c2f   \n",
      "1             2     Z919181  d2450b70-0337-4406-bdbb-bc1037f1734c   \n",
      "2             3     F995323  a2057123-abf5-4a2c-abad-8ffe33512562   \n",
      "3             4     A879973  1dec528d-eb34-4079-adce-0d7a40e82205   \n",
      "4             5     C544523  5885f56b-d6da-43a3-8760-83583af94266   \n",
      "...         ...         ...                                   ...   \n",
      "9995       9996     B863060  a25b594d-0328-486f-a9b9-0567eb0f9723   \n",
      "9996       9997     P712040  70711574-f7b1-4a17-b15f-48c54564b70f   \n",
      "9997       9998     R778890  1d79569d-8e0f-4180-a207-d67ee4527d26   \n",
      "9998       9999     E344109  f5a68e69-2a60-409b-a92f-ac0847b27db0   \n",
      "9999      10000     I569847  bc482c02-f8c9-4423-99de-3db5e62a18d5   \n",
      "\n",
      "                                   UID          City State        County  \\\n",
      "0     3a83ddb66e2ae73798bdf1d705dc0932           Eva    AL        Morgan   \n",
      "1     176354c5eef714957d486009feabf195      Marianna    FL       Jackson   \n",
      "2     e19a0fa00aeda885b8a436757e889bc9   Sioux Falls    SD     Minnehaha   \n",
      "3     cd17d7b6d152cb6f23957346d11c3f07  New Richland    MN        Waseca   \n",
      "4     d2f0425877b10ed6bb381f3e2579424a    West Point    VA  King William   \n",
      "...                                ...           ...   ...           ...   \n",
      "9995  39184dc28cc038871912ccc4500049e5       Norlina    NC        Warren   \n",
      "9996  3cd124ccd43147404292e883bf9ec55c        Milmay    NJ      Atlantic   \n",
      "9997  41b770aeee97a5b9e7f69c906a8119d7     Southside    TN    Montgomery   \n",
      "9998  2bb491ef5b1beb1fed758cc6885c167a         Quinn    SD    Pennington   \n",
      "9999  95663a202338000abdf7e09311c2a8a1    Coraopolis    PA     Allegheny   \n",
      "\n",
      "        Zip       Lat        Lng  ...  TotalCharge Additional_charges Item1  \\\n",
      "0     35621  34.34960  -86.72508  ...  3726.702860       17939.403420     3   \n",
      "1     32446  30.84513  -85.22907  ...  4193.190458       17612.998120     3   \n",
      "2     57110  43.54321  -96.63772  ...  2434.234222       17505.192460     2   \n",
      "3     56072  43.89744  -93.51479  ...  2127.830423       12993.437350     3   \n",
      "4     23181  37.59894  -76.88958  ...  2113.073274        3716.525786     2   \n",
      "...     ...       ...        ...  ...          ...                ...   ...   \n",
      "9995  27563  36.42886  -78.23716  ...  6850.942000        8927.642000     3   \n",
      "9996   8340  39.43609  -74.87302  ...  7741.690000       28507.150000     3   \n",
      "9997  37171  36.36655  -87.29988  ...  8276.481000       15281.210000     3   \n",
      "9998  57775  44.10354 -102.01590  ...  7644.483000        7781.678000     5   \n",
      "9999  15108  40.49998  -80.19959  ...  7887.553000       11643.190000     4   \n",
      "\n",
      "     Item2  Item3  Item4  Item5 Item6 Item7 Item8  \n",
      "0        3      2      2      4     3     3     4  \n",
      "1        4      3      4      4     4     3     3  \n",
      "2        4      4      4      3     4     3     3  \n",
      "3        5      5      3      4     5     5     5  \n",
      "4        1      3      3      5     3     4     3  \n",
      "...    ...    ...    ...    ...   ...   ...   ...  \n",
      "9995     2      2      3      4     3     4     2  \n",
      "9996     3      4      2      5     3     4     4  \n",
      "9997     3      3      4      4     2     3     2  \n",
      "9998     5      3      4      4     3     4     3  \n",
      "9999     3      3      2      3     6     4     3  \n",
      "\n",
      "[10000 rows x 50 columns]\n"
     ]
    }
   ],
   "source": [
    "import pandas as pd\n",
    "import numpy as np\n",
    "import scipy.stats as stats\n",
    "import matplotlib.mlab as mlab\n",
    "import matplotlib.pyplot as plt\n",
    "import seaborn as sns\n",
    "import statsmodels.api as sm\n",
    "from statsmodels.formula.api import ols\n",
    "from scipy.stats import chi2_contingency\n",
    "from scipy.stats import chi2\n",
    "df = pd.read_csv(r'C:\\Users\\dre2\\Desktop\\WGU\\D207\\medical_clean.csv')\n",
    "print(df)"
   ]
  },
  {
   "cell_type": "code",
   "execution_count": 2,
   "id": "3edb36c6-82fa-4813-b4ec-0ac78ce78625",
   "metadata": {},
   "outputs": [
    {
     "name": "stdout",
     "output_type": "stream",
     "text": [
      "ReAdmis              No   Yes\n",
      "Complication_risk            \n",
      "High               2135  1223\n",
      "Low                1343   782\n",
      "Medium             2853  1664\n"
     ]
    }
   ],
   "source": [
    "newdf = pd.crosstab(df['Complication_risk'], df['ReAdmis'])\n",
    "print(newdf)"
   ]
  },
  {
   "cell_type": "code",
   "execution_count": 3,
   "id": "c32cf56f-a8f1-49bb-831f-06bf5d188fb8",
   "metadata": {},
   "outputs": [
    {
     "name": "stdout",
     "output_type": "stream",
     "text": [
      "Observed Values:\n",
      " [[2135 1223]\n",
      " [1343  782]\n",
      " [2853 1664]]\n"
     ]
    }
   ],
   "source": [
    "observed_values = newdf.values\n",
    "print('Observed Values:\\n', observed_values)"
   ]
  },
  {
   "cell_type": "code",
   "execution_count": 4,
   "id": "19b9dcb3-1db6-4dd3-b337-19658917d7af",
   "metadata": {},
   "outputs": [],
   "source": [
    "stat, p, dof, expected = chi2_contingency(observed_values)"
   ]
  },
  {
   "cell_type": "code",
   "execution_count": 5,
   "id": "f0a8e1f8-14c0-4def-8438-922c54a9c293",
   "metadata": {},
   "outputs": [
    {
     "name": "stdout",
     "output_type": "stream",
     "text": [
      "dof=2\n",
      "[[2125.9498 1232.0502]\n",
      " [1345.3375  779.6625]\n",
      " [2859.7127 1657.2873]]\n"
     ]
    }
   ],
   "source": [
    "print('dof=%d' % dof)\n",
    "print(expected)"
   ]
  },
  {
   "cell_type": "code",
   "execution_count": 6,
   "id": "13094bf8-43af-4f29-9eba-b76a6a87bace",
   "metadata": {},
   "outputs": [
    {
     "name": "stdout",
     "output_type": "stream",
     "text": [
      "probability=0.950, critical=5.991, stat=0.159\n",
      "Independent (fail to reject H0)\n"
     ]
    }
   ],
   "source": [
    "prob = 0.95\n",
    "critical = chi2.ppf(prob, dof)\n",
    "print('probability=%.3f, critical=%.3f, stat=%.3f' % (prob, critical, stat))\n",
    "if abs(stat) >= critical:\n",
    "    print('Dependent (reject H0)')\n",
    "else:\n",
    "    print('Independent (fail to reject H0)')\n"
   ]
  },
  {
   "cell_type": "code",
   "execution_count": 7,
   "id": "552cc060-fc55-427b-816e-72829ec7d54f",
   "metadata": {},
   "outputs": [
    {
     "name": "stdout",
     "output_type": "stream",
     "text": [
      "significance=0.050, p=0.924\n",
      "Indepedent (fail to reject H0)\n"
     ]
    }
   ],
   "source": [
    "alpha = 1.0 - prob\n",
    "print('significance=%.3f, p=%.3f' % (alpha, p))\n",
    "if p <= alpha:\n",
    "    print('Dependent (reject H0)')\n",
    "else:\n",
    "    print('Indepedent (fail to reject H0)')"
   ]
  },
  {
   "cell_type": "code",
   "execution_count": null,
   "id": "4c3fec2f-8e9b-4d98-adeb-9899a93b090c",
   "metadata": {},
   "outputs": [],
   "source": []
  }
 ],
 "metadata": {
  "kernelspec": {
   "display_name": "Python 3",
   "language": "python",
   "name": "python3"
  },
  "language_info": {
   "codemirror_mode": {
    "name": "ipython",
    "version": 3
   },
   "file_extension": ".py",
   "mimetype": "text/x-python",
   "name": "python",
   "nbconvert_exporter": "python",
   "pygments_lexer": "ipython3",
   "version": "3.8.8"
  }
 },
 "nbformat": 4,
 "nbformat_minor": 5
}
