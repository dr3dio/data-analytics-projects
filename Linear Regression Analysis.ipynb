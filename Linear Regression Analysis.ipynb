{
 "cells": [
  {
   "cell_type": "code",
   "execution_count": 1,
   "id": "d80237a0-a0e3-4890-b041-1f4fdb3c7f00",
   "metadata": {
    "tags": []
   },
   "outputs": [],
   "source": [
    "\n",
    "import numpy as np\n",
    "import pandas as pd\n",
    "from pandas import Series, DataFrame\n",
    "import seaborn as sns\n",
    "import matplotlib.pyplot as plt\n",
    "%matplotlib inline\n",
    "import pylab\n",
    "from pylab import rcParams\n",
    "import statsmodels.api as sm\n",
    "import statistics\n",
    "from scipy import stats\n",
    "import sklearn\n",
    "from sklearn import preprocessing\n",
    "from sklearn.linear_model import LinearRegression\n",
    "from sklearn.model_selection import train_test_split\n",
    "from sklearn import metrics\n",
    "from sklearn.metrics import classification_report\n",
    "from scipy.stats import chisquare\n",
    "from scipy.stats import chi2_contingency"
   ]
  },
  {
   "cell_type": "code",
   "execution_count": 2,
   "id": "3da907f2-b887-4758-bf28-d5e2f509d84f",
   "metadata": {},
   "outputs": [],
   "source": [
    "df = pd.read_csv(r'C:\\Users\\dre2\\Desktop\\WGU\\D208\\D208 Task1\\churn_clean.csv')"
   ]
  },
  {
   "cell_type": "code",
   "execution_count": 3,
   "id": "640ade31-893b-4d77-b1ed-02700b4b1226",
   "metadata": {},
   "outputs": [
    {
     "name": "stdout",
     "output_type": "stream",
     "text": [
      "CaseOrder            False\n",
      "Customer_id          False\n",
      "Interaction          False\n",
      "UID                  False\n",
      "Children             False\n",
      "Age                  False\n",
      "Income               False\n",
      "Gender               False\n",
      "Churn                False\n",
      "Bandwidth_GB_Year    False\n",
      "dtype: bool\n"
     ]
    }
   ],
   "source": [
    "#Drop columns we dont need, look for nulls/replace as needed.\n",
    "df = df.drop(columns=['City', 'State', 'County', 'Zip', 'Lat', 'Lng', \n",
    "                      'Population', 'Area', 'TimeZone', 'Job', 'Marital', 'Outage_sec_perweek', 'Email', 'Contacts', 'Yearly_equip_failure', 'Techie', 'Contract', 'Port_modem', 'Tablet', \n",
    "                      'InternetService', 'Phone', 'Multiple', 'OnlineSecurity', 'OnlineBackup', 'DeviceProtection', 'TechSupport', 'StreamingTV', 'StreamingMovies', 'PaperlessBilling', \n",
    "                      'Tenure', 'MonthlyCharge', 'Item1', 'Item2', 'Item3', 'Item4', 'Item5', 'Item6', 'Item7', 'Item8', 'PaymentMethod'])\n",
    "nulls = df.isnull().any()\n",
    "print(nulls)"
   ]
  },
  {
   "cell_type": "code",
   "execution_count": 4,
   "id": "346cc660-6ff6-4d2b-93a5-d28de0987d1e",
   "metadata": {
    "tags": []
   },
   "outputs": [
    {
     "name": "stdout",
     "output_type": "stream",
     "text": [
      "<class 'pandas.core.frame.DataFrame'>\n",
      "Int64Index: 9960 entries, 0 to 9999\n",
      "Data columns (total 10 columns):\n",
      " #   Column             Non-Null Count  Dtype  \n",
      "---  ------             --------------  -----  \n",
      " 0   CaseOrder          9960 non-null   int64  \n",
      " 1   Customer_id        9960 non-null   object \n",
      " 2   Interaction        9960 non-null   object \n",
      " 3   UID                9960 non-null   object \n",
      " 4   Children           9960 non-null   int64  \n",
      " 5   Age                9960 non-null   int64  \n",
      " 6   Income             9960 non-null   float64\n",
      " 7   Gender             9960 non-null   object \n",
      " 8   Churn              9960 non-null   object \n",
      " 9   Bandwidth_GB_Year  9960 non-null   float64\n",
      "dtypes: float64(2), int64(3), object(5)\n",
      "memory usage: 1.1+ MB\n"
     ]
    }
   ],
   "source": [
    "#Check z-scores for x-vars and drop if > |3|.\n",
    "childrenZ = df.loc[ : , 'Children']\n",
    "df['childrenZ'] = stats.zscore(childrenZ)\n",
    "\n",
    "ageZ = df.loc[ : , 'Age']\n",
    "df['ageZ'] = stats.zscore(ageZ)\n",
    "\n",
    "incomeZ = df.loc[ : , 'Income']\n",
    "df['incomeZ'] = stats.zscore(incomeZ)\n",
    "\n",
    "#change data type from float to int64\n",
    "df['childrenZ'] = df['childrenZ'].astype(np.int64)\n",
    "df['ageZ'] = df['ageZ'].astype(np.int64)\n",
    "df['incomeZ'] = df['incomeZ'].astype(np.int64)\n",
    "\n",
    "#drop if > |3|\n",
    "df.drop(df[df['childrenZ'] > 3].index, inplace = True)\n",
    "df.drop(df[df['childrenZ'] < -3].index, inplace = True)\n",
    "df.drop(df[df['ageZ'] > 3].index, inplace = True)\n",
    "df.drop(df[df['ageZ'] < -3].index, inplace = True)\n",
    "df.drop(df[df['incomeZ'] > 3].index, inplace = True)\n",
    "df.drop(df[df['incomeZ'] < -3].index, inplace = True)\n",
    "\n",
    "#delete z-score columns\n",
    "df = df.drop(columns=['childrenZ', 'ageZ', 'incomeZ'])\n",
    "df.info()"
   ]
  },
  {
   "cell_type": "code",
   "execution_count": 5,
   "id": "4cb0f3a2-4b8f-42e3-9b1d-806d4aaf59f0",
   "metadata": {
    "tags": []
   },
   "outputs": [
    {
     "name": "stdout",
     "output_type": "stream",
     "text": [
      "<class 'pandas.core.frame.DataFrame'>\n",
      "Int64Index: 9960 entries, 0 to 9999\n",
      "Data columns (total 10 columns):\n",
      " #   Column             Non-Null Count  Dtype \n",
      "---  ------             --------------  ----- \n",
      " 0   CaseOrder          9960 non-null   int64 \n",
      " 1   Customer_id        9960 non-null   object\n",
      " 2   Interaction        9960 non-null   object\n",
      " 3   UID                9960 non-null   object\n",
      " 4   Children           9960 non-null   int64 \n",
      " 5   Age                9960 non-null   int64 \n",
      " 6   Income             9960 non-null   int64 \n",
      " 7   Gender             9960 non-null   object\n",
      " 8   Churn              9960 non-null   object\n",
      " 9   Bandwidth_GB_Year  9960 non-null   int64 \n",
      "dtypes: int64(5), object(5)\n",
      "memory usage: 1.1+ MB\n"
     ]
    }
   ],
   "source": [
    "#Change data type of Bandwidth_GB_Year and Income to int64\n",
    "df['Income'] = df['Income'].astype(np.int64)\n",
    "df['Bandwidth_GB_Year'] = df['Bandwidth_GB_Year'].astype(np.int64)\n",
    "df.info()"
   ]
  },
  {
   "cell_type": "code",
   "execution_count": 6,
   "id": "4763434c-8758-452f-b4ca-ef1a3657f778",
   "metadata": {
    "tags": []
   },
   "outputs": [
    {
     "data": {
      "text/html": [
       "<div>\n",
       "<style scoped>\n",
       "    .dataframe tbody tr th:only-of-type {\n",
       "        vertical-align: middle;\n",
       "    }\n",
       "\n",
       "    .dataframe tbody tr th {\n",
       "        vertical-align: top;\n",
       "    }\n",
       "\n",
       "    .dataframe thead th {\n",
       "        text-align: right;\n",
       "    }\n",
       "</style>\n",
       "<table border=\"1\" class=\"dataframe\">\n",
       "  <thead>\n",
       "    <tr style=\"text-align: right;\">\n",
       "      <th></th>\n",
       "      <th>CaseOrder</th>\n",
       "      <th>Children</th>\n",
       "      <th>Age</th>\n",
       "      <th>Income</th>\n",
       "      <th>Bandwidth_GB_Year</th>\n",
       "    </tr>\n",
       "  </thead>\n",
       "  <tbody>\n",
       "    <tr>\n",
       "      <th>count</th>\n",
       "      <td>9960.000000</td>\n",
       "      <td>9960.000000</td>\n",
       "      <td>9960.000000</td>\n",
       "      <td>9960.000000</td>\n",
       "      <td>9960.000000</td>\n",
       "    </tr>\n",
       "    <tr>\n",
       "      <th>mean</th>\n",
       "      <td>5001.381426</td>\n",
       "      <td>2.088454</td>\n",
       "      <td>53.097892</td>\n",
       "      <td>39261.710241</td>\n",
       "      <td>3391.961345</td>\n",
       "    </tr>\n",
       "    <tr>\n",
       "      <th>std</th>\n",
       "      <td>2886.590495</td>\n",
       "      <td>2.147374</td>\n",
       "      <td>20.701925</td>\n",
       "      <td>26860.824875</td>\n",
       "      <td>2185.211493</td>\n",
       "    </tr>\n",
       "    <tr>\n",
       "      <th>min</th>\n",
       "      <td>1.000000</td>\n",
       "      <td>0.000000</td>\n",
       "      <td>18.000000</td>\n",
       "      <td>348.000000</td>\n",
       "      <td>155.000000</td>\n",
       "    </tr>\n",
       "    <tr>\n",
       "      <th>25%</th>\n",
       "      <td>2500.750000</td>\n",
       "      <td>0.000000</td>\n",
       "      <td>35.000000</td>\n",
       "      <td>19166.500000</td>\n",
       "      <td>1236.000000</td>\n",
       "    </tr>\n",
       "    <tr>\n",
       "      <th>50%</th>\n",
       "      <td>5001.500000</td>\n",
       "      <td>1.000000</td>\n",
       "      <td>53.000000</td>\n",
       "      <td>33028.000000</td>\n",
       "      <td>3287.000000</td>\n",
       "    </tr>\n",
       "    <tr>\n",
       "      <th>75%</th>\n",
       "      <td>7501.250000</td>\n",
       "      <td>3.000000</td>\n",
       "      <td>71.000000</td>\n",
       "      <td>52921.250000</td>\n",
       "      <td>5585.250000</td>\n",
       "    </tr>\n",
       "    <tr>\n",
       "      <th>max</th>\n",
       "      <td>10000.000000</td>\n",
       "      <td>10.000000</td>\n",
       "      <td>89.000000</td>\n",
       "      <td>152172.000000</td>\n",
       "      <td>7158.000000</td>\n",
       "    </tr>\n",
       "  </tbody>\n",
       "</table>\n",
       "</div>"
      ],
      "text/plain": [
       "          CaseOrder     Children          Age         Income  \\\n",
       "count   9960.000000  9960.000000  9960.000000    9960.000000   \n",
       "mean    5001.381426     2.088454    53.097892   39261.710241   \n",
       "std     2886.590495     2.147374    20.701925   26860.824875   \n",
       "min        1.000000     0.000000    18.000000     348.000000   \n",
       "25%     2500.750000     0.000000    35.000000   19166.500000   \n",
       "50%     5001.500000     1.000000    53.000000   33028.000000   \n",
       "75%     7501.250000     3.000000    71.000000   52921.250000   \n",
       "max    10000.000000    10.000000    89.000000  152172.000000   \n",
       "\n",
       "       Bandwidth_GB_Year  \n",
       "count        9960.000000  \n",
       "mean         3391.961345  \n",
       "std          2185.211493  \n",
       "min           155.000000  \n",
       "25%          1236.000000  \n",
       "50%          3287.000000  \n",
       "75%          5585.250000  \n",
       "max          7158.000000  "
      ]
     },
     "execution_count": 6,
     "metadata": {},
     "output_type": "execute_result"
    }
   ],
   "source": [
    "#summary statistics of cleaned df\n",
    "df.describe()"
   ]
  },
  {
   "cell_type": "code",
   "execution_count": 7,
   "id": "c97ce7a0-5a3a-488d-925d-ccb10ccb4110",
   "metadata": {},
   "outputs": [
    {
     "data": {
      "text/plain": [
       "Female       5006\n",
       "Male         4725\n",
       "Nonbinary     229\n",
       "Name: Gender, dtype: int64"
      ]
     },
     "execution_count": 7,
     "metadata": {},
     "output_type": "execute_result"
    }
   ],
   "source": [
    "df['Gender'].value_counts()"
   ]
  },
  {
   "cell_type": "code",
   "execution_count": 8,
   "id": "52163750-7bb9-487e-ada9-66b88b009ab3",
   "metadata": {},
   "outputs": [
    {
     "data": {
      "text/plain": [
       "No     7326\n",
       "Yes    2634\n",
       "Name: Churn, dtype: int64"
      ]
     },
     "execution_count": 8,
     "metadata": {},
     "output_type": "execute_result"
    }
   ],
   "source": [
    "df['Churn'].value_counts()"
   ]
  },
  {
   "cell_type": "code",
   "execution_count": 9,
   "id": "52136104-55e1-4af1-b5b6-27c3e8c6e3c2",
   "metadata": {},
   "outputs": [
    {
     "name": "stdout",
     "output_type": "stream",
     "text": [
      "                            OLS Regression Results                            \n",
      "==============================================================================\n",
      "Dep. Variable:      Bandwidth_GB_Year   R-squared:                       0.196\n",
      "Model:                            OLS   Adj. R-squared:                  0.196\n",
      "Method:                 Least Squares   F-statistic:                     485.7\n",
      "Date:                Wed, 15 Sep 2021   Prob (F-statistic):               0.00\n",
      "Time:                        15:21:20   Log-Likelihood:                -89632.\n",
      "No. Observations:                9960   AIC:                         1.793e+05\n",
      "Df Residuals:                    9954   BIC:                         1.793e+05\n",
      "Df Model:                           5                                         \n",
      "Covariance Type:            nonrobust                                         \n",
      "================================================================================\n",
      "                   coef    std err          t      P>|t|      [0.025      0.975]\n",
      "--------------------------------------------------------------------------------\n",
      "gender_dummy   -59.9693     39.301     -1.526      0.127    -137.007      17.069\n",
      "churn_dummy  -2189.9948     44.541    -49.168      0.000   -2277.304   -2102.686\n",
      "Children        24.2064      9.150      2.646      0.008       6.271      42.142\n",
      "Age             -1.1886      0.949     -1.252      0.210      -3.049       0.672\n",
      "Income           0.0003      0.001      0.437      0.662      -0.001       0.002\n",
      "intercept     4001.2641     68.324     58.563      0.000    3867.336    4135.192\n",
      "==============================================================================\n",
      "Omnibus:                     2245.415   Durbin-Watson:                   0.617\n",
      "Prob(Omnibus):                  0.000   Jarque-Bera (JB):              496.702\n",
      "Skew:                          -0.232   Prob(JB):                    1.39e-108\n",
      "Kurtosis:                       2.010   Cond. No.                     1.70e+05\n",
      "==============================================================================\n",
      "\n",
      "Notes:\n",
      "[1] Standard Errors assume that the covariance matrix of the errors is correctly specified.\n",
      "[2] The condition number is large, 1.7e+05. This might indicate that there are\n",
      "strong multicollinearity or other numerical problems.\n"
     ]
    }
   ],
   "source": [
    "df['gender_dummy'] = [1 if v == 'Female' else 0 for v in df['Gender']]\n",
    "df['churn_dummy'] = [1 if v == 'Yes' else 0 for v in df['Churn']]\n",
    "\n",
    "df['intercept'] = 1\n",
    "model = sm.OLS(df['Bandwidth_GB_Year'], df[['gender_dummy', 'churn_dummy','Children', 'Age', 'Income', 'intercept']]).fit()\n",
    "print(model.summary())"
   ]
  },
  {
   "cell_type": "code",
   "execution_count": 10,
   "id": "c99ca96a-33f7-43d7-bd13-42041ef1355c",
   "metadata": {},
   "outputs": [
    {
     "name": "stdout",
     "output_type": "stream",
     "text": [
      "                            OLS Regression Results                            \n",
      "==============================================================================\n",
      "Dep. Variable:      Bandwidth_GB_Year   R-squared:                       0.196\n",
      "Model:                            OLS   Adj. R-squared:                  0.196\n",
      "Method:                 Least Squares   F-statistic:                     1212.\n",
      "Date:                Wed, 15 Sep 2021   Prob (F-statistic):               0.00\n",
      "Time:                        15:21:20   Log-Likelihood:                -89634.\n",
      "No. Observations:                9960   AIC:                         1.793e+05\n",
      "Df Residuals:                    9957   BIC:                         1.793e+05\n",
      "Df Model:                           2                                         \n",
      "Covariance Type:            nonrobust                                         \n",
      "===============================================================================\n",
      "                  coef    std err          t      P>|t|      [0.025      0.975]\n",
      "-------------------------------------------------------------------------------\n",
      "churn_dummy -2188.4209     44.526    -49.150      0.000   -2275.700   -2101.141\n",
      "Children       24.6801      9.146      2.699      0.007       6.753      42.607\n",
      "intercept    3919.1632     29.855    131.275      0.000    3860.642    3977.684\n",
      "==============================================================================\n",
      "Omnibus:                     2233.173   Durbin-Watson:                   0.619\n",
      "Prob(Omnibus):                  0.000   Jarque-Bera (JB):              495.333\n",
      "Skew:                          -0.232   Prob(JB):                    2.75e-108\n",
      "Kurtosis:                       2.011   Cond. No.                         7.37\n",
      "==============================================================================\n",
      "\n",
      "Notes:\n",
      "[1] Standard Errors assume that the covariance matrix of the errors is correctly specified.\n"
     ]
    }
   ],
   "source": [
    "df['intercept'] = 1\n",
    "reduced_model = sm.OLS(df['Bandwidth_GB_Year'], df[['churn_dummy','Children', 'intercept']]).fit()\n",
    "print(reduced_model.summary())"
   ]
  },
  {
   "cell_type": "code",
   "execution_count": 11,
   "id": "9c50b94c-4c50-4508-a0a5-d27bdad088a9",
   "metadata": {},
   "outputs": [
    {
     "data": {
      "image/png": "[encoded data removed]",
      "text/plain": [
       "<Figure size 432x288 with 1 Axes>"
      ]
     },
     "metadata": {
      "needs_background": "light"
     },
     "output_type": "display_data"
    }
   ],
   "source": [
    "df['intercept'] = 1\n",
    "residuals = df['Bandwidth_GB_Year'] - reduced_model.predict(df[['churn_dummy', 'Children', 'intercept']])\n",
    "sns.scatterplot(x=df['Children'],y=residuals)\n",
    "plt.show();"
   ]
  },
  {
   "cell_type": "code",
   "execution_count": 15,
   "id": "0654c961-a374-48f4-a95b-2889af6e4a9b",
   "metadata": {},
   "outputs": [],
   "source": [
    "df.to_csv(r'C:\\Users\\dre2\\Desktop\\WGU\\D208\\D208 Task1\\d208_task1_data.csv')"
   ]
  },
  {
   "cell_type": "code",
   "execution_count": null,
   "id": "c3700652-4c3b-4d3a-947b-ee41e7e8c3cd",
   "metadata": {},
   "outputs": [],
   "source": []
  }
 ],
 "metadata": {
  "kernelspec": {
   "display_name": "Python 3",
   "language": "python",
   "name": "python3"
  },
  "language_info": {
   "codemirror_mode": {
    "name": "ipython",
    "version": 3
   },
   "file_extension": ".py",
   "mimetype": "text/x-python",
   "name": "python",
   "nbconvert_exporter": "python",
   "pygments_lexer": "ipython3",
   "version": "3.8.8"
  }
 },
 "nbformat": 4,
 "nbformat_minor": 5
}
