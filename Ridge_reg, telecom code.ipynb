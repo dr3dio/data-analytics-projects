{
 "cells": [
  {
   "cell_type": "code",
   "execution_count": 1,
   "id": "5507ae6c-88ee-4c4a-a882-39932382b8cf",
   "metadata": {},
   "outputs": [],
   "source": [
    "import pandas as pd\n",
    "import numpy as np\n",
    "from sklearn import model_selection\n",
    "from sklearn.linear_model import LinearRegression\n",
    "from sklearn.linear_model import Ridge\n",
    "from sklearn.metrics import r2_score\n",
    "from sklearn.model_selection import train_test_split\n",
    "from sklearn.metrics import mean_squared_error\n",
    "from math import sqrt\n",
    "\n",
    "df = pd.read_csv(r'C:\\Users\\dre2\\Desktop\\WGU\\D208\\churn_clean.csv') "
   ]
  },
  {
   "cell_type": "code",
   "execution_count": 2,
   "id": "206a31a5-bf1b-4862-88ab-bc78904068c7",
   "metadata": {},
   "outputs": [],
   "source": [
    "df['churn_dummy'] = [1 if v == 'Yes' else 0 for v in df['Churn']]\n",
    "\n",
    "df = df[['Outage_sec_perweek', 'MonthlyCharge', 'Bandwidth_GB_Year', 'churn_dummy']]"
   ]
  },
  {
   "cell_type": "code",
   "execution_count": 3,
   "id": "9e6afaad-51e9-47a6-8b5e-b3b6e16ddffb",
   "metadata": {},
   "outputs": [],
   "source": [
    "target_column = df['churn_dummy']\n",
    "predictors = list(set(list(df.columns))-set(target_column))\n",
    "df[predictors] = df[predictors]/df[predictors].max()"
   ]
  },
  {
   "cell_type": "code",
   "execution_count": 4,
   "id": "adb2aff3-f83e-4dae-980e-de190e03b21b",
   "metadata": {},
   "outputs": [],
   "source": [
    "X = df.iloc[:, 1:-1].values\n",
    "y = df.iloc[:, -1].values\n",
    "\n",
    "X_train, X_test, y_train, y_test = train_test_split(X, y, test_size=0.30, random_state=40)"
   ]
  },
  {
   "cell_type": "code",
   "execution_count": 5,
   "id": "cd249156-4488-4627-b7af-8ec27ee11119",
   "metadata": {},
   "outputs": [
    {
     "name": "stdout",
     "output_type": "stream",
     "text": [
      "0.35103871730610103\n",
      "0.3637303509289348\n"
     ]
    }
   ],
   "source": [
    "rr = Ridge(alpha=0.01)\n",
    "rr.fit(X_train, y_train) \n",
    "pred_train_rr= rr.predict(X_train)\n",
    "\n",
    "pred_test_rr= rr.predict(X_test)\n",
    "print(np.sqrt(mean_squared_error(y_test,pred_test_rr))) \n",
    "print(r2_score(y_test, pred_test_rr))"
   ]
  }
 ],
 "metadata": {
  "kernelspec": {
   "display_name": "Python 3",
   "language": "python",
   "name": "python3"
  },
  "language_info": {
   "codemirror_mode": {
    "name": "ipython",
    "version": 3
   },
   "file_extension": ".py",
   "mimetype": "text/x-python",
   "name": "python",
   "nbconvert_exporter": "python",
   "pygments_lexer": "ipython3",
   "version": "3.8.8"
  }
 },
 "nbformat": 4,
 "nbformat_minor": 5
}
