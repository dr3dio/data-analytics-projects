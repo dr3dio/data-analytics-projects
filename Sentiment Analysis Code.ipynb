{
 "cells": [
  {
   "cell_type": "code",
   "execution_count": 1,
   "id": "4e06d5d4-31e3-4136-b5ab-b5d177595a21",
   "metadata": {},
   "outputs": [],
   "source": [
    "import sys\n",
    "import os\n",
    "\n",
    "import sklearn\n",
    "from sklearn import preprocessing\n",
    "from sklearn.preprocessing import OneHotEncoder\n",
    "from sklearn import model_selection\n",
    "from sklearn.model_selection import train_test_split\n",
    "import re\n",
    "\n",
    "\n",
    "import tensorflow as tf\n",
    "from tensorflow import keras\n",
    "from keras import preprocessing\n",
    "\n",
    "from tensorflow.keras.preprocessing.text import Tokenizer\n",
    "from tensorflow.keras.callbacks import EarlyStopping\n",
    "from tensorflow.keras.models import load_model\n",
    "from tensorflow.keras.layers import LSTM, Dropout, Dense, Embedding\n",
    "from tensorflow.keras.models import Sequential\n",
    "from tensorflow.keras.preprocessing.sequence import pad_sequences"
   ]
  },
  {
   "cell_type": "code",
   "execution_count": 2,
   "id": "82250ca8-6f72-47af-aeda-b464c455aa37",
   "metadata": {},
   "outputs": [
    {
     "name": "stderr",
     "output_type": "stream",
     "text": [
      "[nltk_data] Downloading package stopwords to\n",
      "[nltk_data]     C:\\Users\\dr3di\\AppData\\Roaming\\nltk_data...\n",
      "[nltk_data]   Package stopwords is already up-to-date!\n",
      "[nltk_data] Downloading package punkt to\n",
      "[nltk_data]     C:\\Users\\dr3di\\AppData\\Roaming\\nltk_data...\n",
      "[nltk_data]   Package punkt is already up-to-date!\n",
      "[nltk_data] Downloading package wordnet to\n",
      "[nltk_data]     C:\\Users\\dr3di\\AppData\\Roaming\\nltk_data...\n",
      "[nltk_data]   Package wordnet is already up-to-date!\n"
     ]
    },
    {
     "data": {
      "text/plain": [
       "True"
      ]
     },
     "execution_count": 2,
     "metadata": {},
     "output_type": "execute_result"
    }
   ],
   "source": [
    "import pandas as pd\n",
    "import numpy as np\n",
    "import re\n",
    "\n",
    "import nltk\n",
    "\n",
    "from nltk.corpus import stopwords\n",
    "from nltk import word_tokenize\n",
    "from nltk.stem import PorterStemmer\n",
    "nltk.download('stopwords')\n",
    "nltk.download('punkt')\n",
    "nltk.download('wordnet')"
   ]
  },
  {
   "cell_type": "code",
   "execution_count": 3,
   "id": "2b26d716-97f9-412e-b7eb-9921611a8040",
   "metadata": {},
   "outputs": [
    {
     "data": {
      "text/html": [
       "<div>\n",
       "<style scoped>\n",
       "    .dataframe tbody tr th:only-of-type {\n",
       "        vertical-align: middle;\n",
       "    }\n",
       "\n",
       "    .dataframe tbody tr th {\n",
       "        vertical-align: top;\n",
       "    }\n",
       "\n",
       "    .dataframe thead th {\n",
       "        text-align: right;\n",
       "    }\n",
       "</style>\n",
       "<table border=\"1\" class=\"dataframe\">\n",
       "  <thead>\n",
       "    <tr style=\"text-align: right;\">\n",
       "      <th></th>\n",
       "      <th>Review</th>\n",
       "      <th>Sentiment</th>\n",
       "    </tr>\n",
       "  </thead>\n",
       "  <tbody>\n",
       "    <tr>\n",
       "      <th>0</th>\n",
       "      <td>Wow... Loved this place.</td>\n",
       "      <td>1</td>\n",
       "    </tr>\n",
       "    <tr>\n",
       "      <th>1</th>\n",
       "      <td>Crust is not good.</td>\n",
       "      <td>0</td>\n",
       "    </tr>\n",
       "    <tr>\n",
       "      <th>2</th>\n",
       "      <td>Not tasty and the texture was just nasty.</td>\n",
       "      <td>0</td>\n",
       "    </tr>\n",
       "    <tr>\n",
       "      <th>3</th>\n",
       "      <td>Stopped by during the late May bank holiday of...</td>\n",
       "      <td>1</td>\n",
       "    </tr>\n",
       "    <tr>\n",
       "      <th>4</th>\n",
       "      <td>The selection on the menu was great and so wer...</td>\n",
       "      <td>1</td>\n",
       "    </tr>\n",
       "  </tbody>\n",
       "</table>\n",
       "</div>"
      ],
      "text/plain": [
       "                                              Review  Sentiment\n",
       "0                           Wow... Loved this place.          1\n",
       "1                                 Crust is not good.          0\n",
       "2          Not tasty and the texture was just nasty.          0\n",
       "3  Stopped by during the late May bank holiday of...          1\n",
       "4  The selection on the menu was great and so wer...          1"
      ]
     },
     "execution_count": 3,
     "metadata": {},
     "output_type": "execute_result"
    }
   ],
   "source": [
    "df_yelp = pd.read_csv(r'C:\\Users\\dre2\\Desktop\\WGU\\D213\\d213_task2\\sentiment_labelled_sentences\\sentiment_labelled_sentences\\yelp_labelled.txt', delimiter='\\t', header=None)\n",
    "df_yelp.columns = ['Review', 'Sentiment']\n",
    "df_yelp.head()"
   ]
  },
  {
   "cell_type": "code",
   "execution_count": 4,
   "id": "558cc964-1a51-42fe-bd02-e91a4ce5b0c6",
   "metadata": {},
   "outputs": [
    {
     "data": {
      "text/html": [
       "<div>\n",
       "<style scoped>\n",
       "    .dataframe tbody tr th:only-of-type {\n",
       "        vertical-align: middle;\n",
       "    }\n",
       "\n",
       "    .dataframe tbody tr th {\n",
       "        vertical-align: top;\n",
       "    }\n",
       "\n",
       "    .dataframe thead th {\n",
       "        text-align: right;\n",
       "    }\n",
       "</style>\n",
       "<table border=\"1\" class=\"dataframe\">\n",
       "  <thead>\n",
       "    <tr style=\"text-align: right;\">\n",
       "      <th></th>\n",
       "      <th>Review</th>\n",
       "      <th>Sentiment</th>\n",
       "    </tr>\n",
       "  </thead>\n",
       "  <tbody>\n",
       "    <tr>\n",
       "      <th>995</th>\n",
       "      <td>I think food should have flavor and texture an...</td>\n",
       "      <td>0</td>\n",
       "    </tr>\n",
       "    <tr>\n",
       "      <th>996</th>\n",
       "      <td>Appetite instantly gone.</td>\n",
       "      <td>0</td>\n",
       "    </tr>\n",
       "    <tr>\n",
       "      <th>997</th>\n",
       "      <td>Overall I was not impressed and would not go b...</td>\n",
       "      <td>0</td>\n",
       "    </tr>\n",
       "    <tr>\n",
       "      <th>998</th>\n",
       "      <td>The whole experience was underwhelming, and I ...</td>\n",
       "      <td>0</td>\n",
       "    </tr>\n",
       "    <tr>\n",
       "      <th>999</th>\n",
       "      <td>Then, as if I hadn't wasted enough of my life ...</td>\n",
       "      <td>0</td>\n",
       "    </tr>\n",
       "  </tbody>\n",
       "</table>\n",
       "</div>"
      ],
      "text/plain": [
       "                                                Review  Sentiment\n",
       "995  I think food should have flavor and texture an...          0\n",
       "996                           Appetite instantly gone.          0\n",
       "997  Overall I was not impressed and would not go b...          0\n",
       "998  The whole experience was underwhelming, and I ...          0\n",
       "999  Then, as if I hadn't wasted enough of my life ...          0"
      ]
     },
     "execution_count": 4,
     "metadata": {},
     "output_type": "execute_result"
    }
   ],
   "source": [
    "df_yelp.tail()"
   ]
  },
  {
   "cell_type": "code",
   "execution_count": 5,
   "id": "0c6059fe-0c61-44c0-acab-322322f9ac52",
   "metadata": {},
   "outputs": [
    {
     "data": {
      "text/plain": [
       "(1000, 2)"
      ]
     },
     "execution_count": 5,
     "metadata": {},
     "output_type": "execute_result"
    }
   ],
   "source": [
    "df_yelp.shape"
   ]
  },
  {
   "cell_type": "code",
   "execution_count": 6,
   "id": "28ad9b44-5f76-467f-b27c-6504c52cc014",
   "metadata": {},
   "outputs": [
    {
     "data": {
      "text/plain": [
       "Review       False\n",
       "Sentiment    False\n",
       "dtype: bool"
      ]
     },
     "execution_count": 6,
     "metadata": {},
     "output_type": "execute_result"
    }
   ],
   "source": [
    "df_yelp.isnull().any()"
   ]
  },
  {
   "cell_type": "code",
   "execution_count": 7,
   "id": "a9504cf7-0e01-440d-9dc1-dde50078452a",
   "metadata": {},
   "outputs": [
    {
     "data": {
      "text/plain": [
       "Review                                                                                                                          Sentiment\n",
       "I won't be back.                                                                                                                0            2\n",
       "The food was terrible.                                                                                                          0            2\n",
       "I would not recommend this place.                                                                                               0            2\n",
       "I love this place.                                                                                                              1            2\n",
       "The folks at Otto always make us feel so welcome and special.                                                                   1            1\n",
       "                                                                                                                                            ..\n",
       "I will be back many times soon.                                                                                                 1            1\n",
       "I will come back here every time I'm in Vegas.                                                                                  1            1\n",
       "I will continue to come here on ladies night andddd date night ... highly recommend this place to anyone who is in the area (;  1            1\n",
       "I will never go back to this place and will never ever recommended this place to anyone!                                        0            1\n",
       "you can watch them preparing the delicious food!)                                                                               1            1\n",
       "Length: 996, dtype: int64"
      ]
     },
     "execution_count": 7,
     "metadata": {},
     "output_type": "execute_result"
    }
   ],
   "source": [
    "df_yelp.value_counts()"
   ]
  },
  {
   "cell_type": "code",
   "execution_count": 8,
   "id": "081a8876-9801-40c9-9d07-f1294dce016f",
   "metadata": {
    "jupyter": {
     "source_hidden": true
    },
    "tags": []
   },
   "outputs": [
    {
     "name": "stdout",
     "output_type": "stream",
     "text": [
      "0                               Wow... Loved this place.\n",
      "1                                     Crust is not good.\n",
      "2              Not tasty and the texture was just nasty.\n",
      "3      Stopped by during the late May bank holiday of...\n",
      "4      The selection on the menu was great and so wer...\n",
      "                             ...                        \n",
      "995    I think food should have flavor and texture an...\n",
      "996                             Appetite instantly gone.\n",
      "997    Overall I was not impressed and would not go b...\n",
      "998    The whole experience was underwhelming, and I ...\n",
      "999    Then, as if I hadn't wasted enough of my life ...\n",
      "Name: Review, Length: 1000, dtype: object\n"
     ]
    }
   ],
   "source": [
    "reviews_text = df_yelp['Review']\n",
    "print(reviews_text)              "
   ]
  },
  {
   "cell_type": "code",
   "execution_count": 9,
   "id": "6bc7e1e1-5f33-4f6c-816f-84b55be0c9ad",
   "metadata": {},
   "outputs": [
    {
     "name": "stdout",
     "output_type": "stream",
     "text": [
      "['i', 'me', 'my', 'myself', 'we', 'our', 'ours', 'ourselves', 'you', \"you're\", \"you've\", \"you'll\", \"you'd\", 'your', 'yours', 'yourself', 'yourselves', 'he', 'him', 'his', 'himself', 'she', \"she's\", 'her', 'hers', 'herself', 'it', \"it's\", 'its', 'itself', 'they', 'them', 'their', 'theirs', 'themselves', 'what', 'which', 'who', 'whom', 'this', 'that', \"that'll\", 'these', 'those', 'am', 'is', 'are', 'was', 'were', 'be', 'been', 'being', 'have', 'has', 'had', 'having', 'do', 'does', 'did', 'doing', 'a', 'an', 'the', 'and', 'but', 'if', 'or', 'because', 'as', 'until', 'while', 'of', 'at', 'by', 'for', 'with', 'about', 'against', 'between', 'into', 'through', 'during', 'before', 'after', 'above', 'below', 'to', 'from', 'up', 'down', 'in', 'out', 'on', 'off', 'over', 'under', 'again', 'further', 'then', 'once', 'here', 'there', 'when', 'where', 'why', 'how', 'all', 'any', 'both', 'each', 'few', 'more', 'most', 'other', 'some', 'such', 'no', 'nor', 'not', 'only', 'own', 'same', 'so', 'than', 'too', 'very', 's', 't', 'can', 'will', 'just', 'don', \"don't\", 'should', \"should've\", 'now', 'd', 'll', 'm', 'o', 're', 've', 'y', 'ain', 'aren', \"aren't\", 'couldn', \"couldn't\", 'didn', \"didn't\", 'doesn', \"doesn't\", 'hadn', \"hadn't\", 'hasn', \"hasn't\", 'haven', \"haven't\", 'isn', \"isn't\", 'ma', 'mightn', \"mightn't\", 'mustn', \"mustn't\", 'needn', \"needn't\", 'shan', \"shan't\", 'shouldn', \"shouldn't\", 'wasn', \"wasn't\", 'weren', \"weren't\", 'won', \"won't\", 'wouldn', \"wouldn't\"]\n"
     ]
    }
   ],
   "source": [
    "#Remove special characters, and remove stop words\n",
    "\n",
    "stop_words = stopwords.words('english')\n",
    "for i in df_yelp['Review']:\n",
    "    i = re.sub(\"[^a-zA-Z0-9]\",\" \", i)\n",
    "print(stop_words)"
   ]
  },
  {
   "cell_type": "code",
   "execution_count": 10,
   "id": "1bb1899e-b652-4bd6-9e9d-6ace6c27e85f",
   "metadata": {},
   "outputs": [
    {
     "name": "stdout",
     "output_type": "stream",
     "text": [
      "2072\n"
     ]
    }
   ],
   "source": [
    "#Tokenize the text from review column and print the total vocabulary size\n",
    "tokenizer = Tokenizer(num_words = 2072)\n",
    "tokenizer.fit_on_texts(df_yelp['Review'])\n",
    "vocab_size = len(tokenizer.word_index)\n",
    "vocab_size = vocab_size + 1\n",
    "print(vocab_size)\n",
    "\n",
    "#Tokenizer has been set with all the words from df_yelp['Review'] with no stop words or special characters"
   ]
  },
  {
   "cell_type": "code",
   "execution_count": 11,
   "id": "dab4005b-bed5-4bed-82d5-1da465336a01",
   "metadata": {},
   "outputs": [],
   "source": [
    "word_index = tokenizer.word_index\n",
    "\n",
    "#Create a sequence of tokens from the word index to represent the semantic value of each review\n",
    "sequences = tokenizer.texts_to_sequences(df_yelp['Review'])"
   ]
  },
  {
   "cell_type": "code",
   "execution_count": 12,
   "id": "a174b443-197a-4b11-b8f8-4681d2963555",
   "metadata": {
    "tags": []
   },
   "outputs": [
    {
     "name": "stdout",
     "output_type": "stream",
     "text": [
      "[1, 267, 268, 2, 443]\n",
      "[249, 226, 20, 400, 291, 1418, 357]\n"
     ]
    }
   ],
   "source": [
    "print(sequences[40])\n",
    "print(sequences[440])"
   ]
  },
  {
   "cell_type": "code",
   "execution_count": 13,
   "id": "01b18523-185e-4ed0-849f-d23e7ed9da18",
   "metadata": {},
   "outputs": [],
   "source": [
    "#Pre-pad missing values with 0 so all sequence lengths are the same. Now we have arrays of values and can perform vector mathematics\n",
    "padded_seq = pad_sequences(sequences)"
   ]
  },
  {
   "cell_type": "code",
   "execution_count": 14,
   "id": "eb49ce3e-d83e-4ca8-a268-0a55065f7eff",
   "metadata": {},
   "outputs": [
    {
     "data": {
      "text/plain": [
       "(1000, 32)"
      ]
     },
     "execution_count": 14,
     "metadata": {},
     "output_type": "execute_result"
    }
   ],
   "source": [
    "padded_seq.shape"
   ]
  },
  {
   "cell_type": "code",
   "execution_count": 15,
   "id": "6c4aaee7-4ba9-4339-a5e3-4a7344db63e6",
   "metadata": {},
   "outputs": [
    {
     "name": "stdout",
     "output_type": "stream",
     "text": [
      "[[  0   0   0 ... 165   8  15]\n",
      " [  0   0   0 ...   7  12  16]\n",
      " [  0   0   0 ...   4  46 430]\n",
      " ...\n",
      " [  0   0   0 ...  15   7  22]\n",
      " [  0   0   0 ...   0 280  11]\n",
      " [  0   0   0 ...  21   1  15]]\n"
     ]
    }
   ],
   "source": [
    "X_train = padded_seq[0:800]\n",
    "print(X_train)"
   ]
  },
  {
   "cell_type": "code",
   "execution_count": 16,
   "id": "59d2e588-9b18-469b-9c8c-2314ac4308d6",
   "metadata": {},
   "outputs": [
    {
     "name": "stdout",
     "output_type": "stream",
     "text": [
      "[[   0    0    0 ...   82  261 1822]\n",
      " [   0    0    0 ...    4  261   54]\n",
      " [   0    0    0 ...  416   26  695]\n",
      " ...\n",
      " [   0    0    0 ...   12   38   31]\n",
      " [   0    0    0 ...  137  159   40]\n",
      " [   0    0    0 ...  347    1  248]]\n"
     ]
    }
   ],
   "source": [
    "X_test = padded_seq[800:1000]\n",
    "print(X_test)"
   ]
  },
  {
   "cell_type": "code",
   "execution_count": 17,
   "id": "758c9a9c-23f0-44fa-b616-ce9655dfa81f",
   "metadata": {},
   "outputs": [
    {
     "name": "stdout",
     "output_type": "stream",
     "text": [
      "Wow... Loved this place.\n",
      "Once you get inside you'll be impressed with the place.\n",
      "I'm super pissd.\n",
      "Then, as if I hadn't wasted enough of my life there, they poured salt in the wound by drawing out the time it took to bring the check.\n"
     ]
    }
   ],
   "source": [
    "print(df_yelp['Review'][0])\n",
    "print(df_yelp['Review'][799])\n",
    "print(df_yelp['Review'][800])\n",
    "print(df_yelp['Review'][999])"
   ]
  },
  {
   "cell_type": "code",
   "execution_count": 18,
   "id": "5a99a994-e3b8-411b-971f-9aa7e786b6da",
   "metadata": {},
   "outputs": [
    {
     "data": {
      "text/plain": [
       "(800, 32)"
      ]
     },
     "execution_count": 18,
     "metadata": {},
     "output_type": "execute_result"
    }
   ],
   "source": [
    "X_train.shape"
   ]
  },
  {
   "cell_type": "code",
   "execution_count": 19,
   "id": "417e0ae4-7cac-458b-bbfa-f78b2a2cfe42",
   "metadata": {
    "tags": []
   },
   "outputs": [
    {
     "data": {
      "text/plain": [
       "(200, 32)"
      ]
     },
     "execution_count": 19,
     "metadata": {},
     "output_type": "execute_result"
    }
   ],
   "source": [
    "X_test.shape"
   ]
  },
  {
   "cell_type": "code",
   "execution_count": 20,
   "id": "0f8d0589-c282-4ee9-a7e1-ad7ca8f71f01",
   "metadata": {},
   "outputs": [
    {
     "name": "stdout",
     "output_type": "stream",
     "text": [
      "0      1\n",
      "1      0\n",
      "2      0\n",
      "3      1\n",
      "4      1\n",
      "      ..\n",
      "795    1\n",
      "796    1\n",
      "797    1\n",
      "798    0\n",
      "799    1\n",
      "Name: Sentiment, Length: 800, dtype: int64\n"
     ]
    }
   ],
   "source": [
    "y_train = df_yelp['Sentiment']\n",
    "y_train = y_train[0:800]\n",
    "print(y_train)"
   ]
  },
  {
   "cell_type": "code",
   "execution_count": 21,
   "id": "3873363f-7bd7-4850-b1de-00d04c1e3b6e",
   "metadata": {},
   "outputs": [
    {
     "name": "stdout",
     "output_type": "stream",
     "text": [
      "800    0\n",
      "801    1\n",
      "802    0\n",
      "803    1\n",
      "804    1\n",
      "      ..\n",
      "995    0\n",
      "996    0\n",
      "997    0\n",
      "998    0\n",
      "999    0\n",
      "Name: Sentiment, Length: 200, dtype: int64\n"
     ]
    }
   ],
   "source": [
    "y_test = df_yelp['Sentiment']\n",
    "y_test = y_test[800:1000]\n",
    "print(y_test)"
   ]
  },
  {
   "cell_type": "code",
   "execution_count": 22,
   "id": "e9eb97f8-7f6d-4faa-bc58-f43385ce1c20",
   "metadata": {},
   "outputs": [],
   "source": [
    "#Plug the X_train vector into the Sequential model for model training, with vocab_size as 1st arg, embedding size as 2nd arg, and input features as 3rd arg\n",
    "model = Sequential()\n",
    "model.add(Embedding(2072, 128, input_shape = (X_train.shape[1],)))\n",
    "model.add(LSTM(units=60, activation='tanh'))\n",
    "model.add(Dense(units=1, activation='sigmoid'))\n",
    "#binarcy_crossentropy informs tensowflow we want a binary output\n",
    "model.compile(optimizer='adam', loss='binary_crossentropy', metrics='accuracy')"
   ]
  },
  {
   "cell_type": "code",
   "execution_count": 23,
   "id": "991cf19f-e984-4c28-b00a-ebececa96e76",
   "metadata": {},
   "outputs": [
    {
     "name": "stdout",
     "output_type": "stream",
     "text": [
      "Model: \"sequential\"\n",
      "_________________________________________________________________\n",
      "Layer (type)                 Output Shape              Param #   \n",
      "=================================================================\n",
      "embedding (Embedding)        (None, 32, 128)           265216    \n",
      "_________________________________________________________________\n",
      "lstm (LSTM)                  (None, 60)                45360     \n",
      "_________________________________________________________________\n",
      "dense (Dense)                (None, 1)                 61        \n",
      "=================================================================\n",
      "Total params: 310,637\n",
      "Trainable params: 310,637\n",
      "Non-trainable params: 0\n",
      "_________________________________________________________________\n"
     ]
    }
   ],
   "source": [
    "model.summary()"
   ]
  },
  {
   "cell_type": "code",
   "execution_count": 34,
   "id": "1d6a3baa-a321-4596-8653-74eca26d70ad",
   "metadata": {},
   "outputs": [
    {
     "name": "stdout",
     "output_type": "stream",
     "text": [
      "Epoch 1/5\n",
      "7/7 [==============================] - 0s 44ms/step - loss: 0.1011 - accuracy: 0.9875 - val_loss: 0.8841 - val_accuracy: 0.7250\n",
      "Epoch 2/5\n",
      "7/7 [==============================] - 0s 36ms/step - loss: 0.0814 - accuracy: 0.9837 - val_loss: 0.4982 - val_accuracy: 0.8200\n",
      "Epoch 3/5\n",
      "7/7 [==============================] - 0s 37ms/step - loss: 0.0640 - accuracy: 0.9887 - val_loss: 0.6007 - val_accuracy: 0.7450\n",
      "Epoch 4/5\n",
      "7/7 [==============================] - 0s 38ms/step - loss: 0.0464 - accuracy: 0.9925 - val_loss: 0.7726 - val_accuracy: 0.7350\n",
      "Epoch 5/5\n",
      "7/7 [==============================] - 0s 36ms/step - loss: 0.0354 - accuracy: 0.9925 - val_loss: 0.5774 - val_accuracy: 0.7900\n"
     ]
    }
   ],
   "source": [
    "early_stopping_monitor = EarlyStopping(patience=2)\n",
    "history = model.fit(X_train, y_train, epochs=5, batch_size=128, validation_data=(X_test, y_test))"
   ]
  },
  {
   "cell_type": "code",
   "execution_count": 35,
   "id": "622074f8-588e-4081-9dee-4e3b5acc8ae9",
   "metadata": {},
   "outputs": [
    {
     "name": "stdout",
     "output_type": "stream",
     "text": [
      "7/7 [==============================] - 0s 6ms/step - loss: 0.5774 - accuracy: 0.7900\n"
     ]
    },
    {
     "data": {
      "text/plain": [
       "[0.577385663986206, 0.7900000214576721]"
      ]
     },
     "execution_count": 35,
     "metadata": {},
     "output_type": "execute_result"
    }
   ],
   "source": [
    "model.evaluate(X_test, y_test)"
   ]
  },
  {
   "cell_type": "code",
   "execution_count": 36,
   "id": "e4c7a190-a7c1-4fb8-942c-99da3089a67e",
   "metadata": {},
   "outputs": [],
   "source": [
    "model.save('Trained_yelp_model.keras')"
   ]
  },
  {
   "cell_type": "code",
   "execution_count": 37,
   "id": "a62ad13f-090d-4fae-b7b0-98d334f5667a",
   "metadata": {},
   "outputs": [],
   "source": [
    "import matplotlib.pyplot as plt"
   ]
  },
  {
   "cell_type": "code",
   "execution_count": 38,
   "id": "0bfdacda-3cde-4b8a-a1e4-812a2cfd7cf4",
   "metadata": {},
   "outputs": [],
   "source": [
    "def plot_learningCurve(history, epochs):\n",
    "    epoch_range = range(1, epochs+1)\n",
    "    plt.plot(epoch_range, history.history['accuracy'])\n",
    "    plt.plot(epoch_range, history.history['val_accuracy'])\n",
    "    plt.title('Model Accuracy')\n",
    "    plt.ylabel('Accuracy')\n",
    "    plt.xlabel('Epoch')\n",
    "    plt.legend(['Train', 'Val'], loc='upper left')\n",
    "    plt.show()\n",
    "    plt.plot(epoch_range, history.history['loss'])\n",
    "    plt.plot(epoch_range, history.history['val_loss'])\n",
    "    plt.title('Model Loss')\n",
    "    plt.ylabel('Loss')\n",
    "    plt.xlabel('Epoch')\n",
    "    plt.legend(['Train', 'Val'], loc='upper left')\n",
    "    plt.show()"
   ]
  },
  {
   "cell_type": "code",
   "execution_count": 39,
   "id": "428b6e60-e37e-4434-b304-ce7b1d1e0184",
   "metadata": {},
   "outputs": [
    {
     "data": {
      "image/png": "[encoded data removed]",
      "text/plain": [
       "<Figure size 432x288 with 1 Axes>"
      ]
     },
     "metadata": {
      "needs_background": "light"
     },
     "output_type": "display_data"
    },
    {
     "data": {
      "image/png": "[encoded data removed]",
      "text/plain": [
       "<Figure size 432x288 with 1 Axes>"
      ]
     },
     "metadata": {
      "needs_background": "light"
     },
     "output_type": "display_data"
    }
   ],
   "source": [
    "plot_learningCurve(history, 5)"
   ]
  },
  {
   "cell_type": "code",
   "execution_count": null,
   "id": "e1edfcd9-6339-4f33-96d0-7e5810739e1f",
   "metadata": {},
   "outputs": [],
   "source": []
  }
 ],
 "metadata": {
  "kernelspec": {
   "display_name": "Python 3 (ipykernel)",
   "language": "python",
   "name": "python3"
  },
  "language_info": {
   "codemirror_mode": {
    "name": "ipython",
    "version": 3
   },
   "file_extension": ".py",
   "mimetype": "text/x-python",
   "name": "python",
   "nbconvert_exporter": "python",
   "pygments_lexer": "ipython3",
   "version": "3.9.12"
  }
 },
 "nbformat": 4,
 "nbformat_minor": 5
}
